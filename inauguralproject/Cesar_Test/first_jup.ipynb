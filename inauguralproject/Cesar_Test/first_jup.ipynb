{
 "cells": [
  {
   "cell_type": "code",
   "execution_count": null,
   "metadata": {},
   "outputs": [],
   "source": [
    "#code for question 1\n",
    "import numpy as np\n",
    "from scipy import optimize\n",
    "from types import SimpleNamespace\n",
    "\n",
    "class Rate_Work_at_Home:\n",
    "   \n",
    "    def __init__(self):\n",
    "        par = self.par = SimpleNamespace()\n",
    "        sol = self.sol = SimpleNamespace()\n",
    "        \n",
    "        #in this part we create the fixed parameters\n",
    "        par.sigma = np.arange(0.5,1.6,0.5)  #the example only included the case where sigma = 1, but here we put all the options\n",
    "        par.alpha = np.array(0.25,0.76,0.25)\n",
    "\n",
    "        par.epsilon = 1.0\n",
    "        par.rho = 2.0\n",
    "        par.nu = 0.001\n",
    "        par.omega = 0.5\n",
    "\n",
    "        #the wages\n",
    "        par.wfemale = 1\n",
    "        par.wmale = 1\n",
    "\n",
    "        #solutions\n",
    "        #market labour\n",
    "        #we create vectors of zeros because we want to store the value for each iteration\n",
    "        sol.LM_vec = np.zeros(5)\n",
    "        sol.LF_vec = np.zeros(5)\n",
    "        #home labour\n",
    "        sol.HM_vec = np.zeros(5)\n",
    "        sol.HF_vec = np.zeros(5)\n",
    "\n",
    "    def utility(self,LM,HM,LF,HF):\n",
    "        par = self.par \n",
    "        sol = self.sol\n",
    "        \n",
    "        #total market goods\n",
    "        C = par.wfemale*LF + par.wmale*LM\n",
    "        #output house\n",
    "        #we need to create a condition so the prod. function changes depending on the value of epsilon\n",
    "        for sigma in par.sigma:\n",
    "            if sigma == 1.0:\n",
    "                for alpha in par.alpha:\n",
    "                    H = HM**(1-alpha) * HF**alpha\n",
    "            else:\n",
    "                for alpha in par.alpha:\n",
    "                    H = ((1-alpha)*HM**((sigma-1)/sigma) + alpha*HF**((sigma-1)/sigma))**(sigma/(sigma-1))\n",
    "        \n",
    "        #\n",
    "\n"
   ]
  }
 ],
 "metadata": {
  "kernelspec": {
   "display_name": "base",
   "language": "python",
   "name": "python3"
  },
  "language_info": {
   "name": "python",
   "version": "3.9.13"
  },
  "orig_nbformat": 4,
  "vscode": {
   "interpreter": {
    "hash": "f99cef36e6e567bd788162d91597941184a50bdf69e3170ba247968ea7d541f1"
   }
  }
 },
 "nbformat": 4,
 "nbformat_minor": 2
}
