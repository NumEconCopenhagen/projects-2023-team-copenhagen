{
 "cells": [
  {
   "cell_type": "markdown",
   "metadata": {},
   "source": [
    "# Inaugural Project"
   ]
  },
  {
   "attachments": {},
   "cell_type": "markdown",
   "metadata": {},
   "source": [
    "> **Note the following:** \n",
    "> 1. This is an example of how to structure your **inaugural project**.\n",
    "> 1. Remember the general advice on structuring and commenting your code\n",
    "> 1. The `inauguralproject.py` file includes a function which can be used multiple times in this notebook."
   ]
  },
  {
   "cell_type": "markdown",
   "metadata": {},
   "source": [
    "Imports and set magics:"
   ]
  },
  {
   "cell_type": "code",
   "execution_count": 2,
   "metadata": {},
   "outputs": [],
   "source": [
    "# autoreload modules when code is run. Otherwise, python will not see recent changes. \n",
    "%load_ext autoreload\n",
    "%autoreload 2\n",
    "\n",
    "# Import your own code\n",
    "from types import SimpleNamespace\n",
    "\n",
    "import numpy as np\n",
    "from scipy import optimize\n",
    "\n",
    "import pandas as pd \n",
    "import matplotlib.pyplot as plt"
   ]
  },
  {
   "cell_type": "markdown",
   "metadata": {},
   "source": [
    "# Question 1"
   ]
  },
  {
   "cell_type": "markdown",
   "metadata": {},
   "source": [
    "**Explain how you solve the model**"
   ]
  },
  {
   "cell_type": "code",
   "execution_count": 3,
   "metadata": {},
   "outputs": [],
   "source": [
    "# code for solving the model (remember documentation and comments)\n",
    "\n",
    "#code for question 1\n",
    "class HouseholdSpecializationModelClass:\n",
    "\n",
    "    def __init__(self):\n",
    "        \"\"\" setup model \"\"\"\n",
    "\n",
    "        # a. create namespaces\n",
    "        par = self.par = SimpleNamespace()\n",
    "        sol = self.sol = SimpleNamespace()\n",
    "\n",
    "        # b. preferences\n",
    "        par.rho = 2.0\n",
    "        par.nu = 0.001\n",
    "        par.epsilon = 1.0\n",
    "        par.omega = 0.5 \n",
    "\n",
    "        # c. household production\n",
    "        par.alpha = 0.5\n",
    "        par.sigma = 1.0\n",
    "\n",
    "        # d. wages\n",
    "        par.wM = 1.0\n",
    "        par.wF = 1.0\n",
    "        par.wF_vec = np.linspace(0.8,1.2,5)\n",
    "\n",
    "        # e. targets\n",
    "        par.beta0_target = 0.4\n",
    "        par.beta1_target = -0.1\n",
    "\n",
    "        # f. solution\n",
    "        sol.LM_vec = np.zeros(par.wF_vec.size)\n",
    "        sol.HM_vec = np.zeros(par.wF_vec.size)\n",
    "        sol.LF_vec = np.zeros(par.wF_vec.size)\n",
    "        sol.HF_vec = np.zeros(par.wF_vec.size)\n",
    "\n",
    "        sol.beta0 = np.nan\n",
    "        sol.beta1 = np.nan\n",
    "\n",
    "    def calc_utility(self,LM,HM,LF,HF):\n",
    "        \"\"\" calculate utility \"\"\"\n",
    "\n",
    "        par = self.par\n",
    "        sol = self.sol\n",
    "\n",
    "        # a. consumption of market goods\n",
    "        C = par.wM*LM + par.wF*LF\n",
    "\n",
    "        # b. home production\n",
    "        #for this it depends on the values of the epsilon\n",
    "        if par.sigma == 0:\n",
    "            H = np.fmin(LM,HM)\n",
    "        elif par.sigma == 1:\n",
    "            H = HM**(1-par.alpha) * HF**par.alpha   \n",
    "            Q = C**par.omega * H**(1-par.omega)\n",
    "        else:\n",
    "            H = ((1-par.alpha)*HM**((par.sigma-1)/par.sigma) + par.alpha*HF**((par.sigma-1)/par.sigma))**(par.sigma/(par.sigma-1))\n",
    "            Q = C**par.omega * H**(1-par.omega)\n",
    "\n",
    "\n",
    "        # c. total consumption utility\n",
    "        #Q = C**par.omega*H**(1-par.omega)\n",
    "        utility = np.fmax(Q,1e-8)**(1-par.rho)/(1-par.rho)\n",
    "\n",
    "        # d. disutlity of work\n",
    "        epsilon_ = 1+1/par.epsilon\n",
    "        TM = LM+HM\n",
    "        TF = LF+HF\n",
    "        disutility = par.nu*(TM**epsilon_/epsilon_+TF**epsilon_/epsilon_)\n",
    "        \n",
    "        return utility - disutility\n",
    "            \n",
    "    def solve_discrete(self,do_print=False):\n",
    "        \"\"\" solve model discretely \"\"\"\n",
    "        \n",
    "        par = self.par\n",
    "        sol = self.sol\n",
    "        opt = SimpleNamespace()\n",
    "        \n",
    "        # a. all possible choices\n",
    "        x = np.linspace(0,24,49)\n",
    "        LM,HM,LF,HF = np.meshgrid(x,x,x,x) # all combinations\n",
    "    \n",
    "        LM = LM.ravel() # vector\n",
    "        HM = HM.ravel()\n",
    "        LF = LF.ravel()\n",
    "        HF = HF.ravel()\n",
    "\n",
    "        # b. calculate utility\n",
    "        u = self.calc_utility(LM,HM,LF,HF)\n",
    "    \n",
    "        # c. set to minus infinity if constraint is broken\n",
    "        I = (LM+HM > 24) | (LF+HF > 24) # | is \"or\"\n",
    "        u[I] = -np.inf\n",
    "    \n",
    "        # d. find maximizing argument\n",
    "        j = np.argmax(u)\n",
    "        \n",
    "        opt.LM = LM[j]\n",
    "        opt.HM = HM[j]\n",
    "        opt.LF = LF[j]\n",
    "        opt.HF = HF[j]\n",
    "\n",
    "        # e. print\n",
    "        \n",
    "        if do_print:\n",
    "            for k,v in opt.__dict__.items():\n",
    "                print(f'{k} = {v:6.4f}')\n",
    "\n",
    "        return opt\n"
   ]
  },
  {
   "cell_type": "code",
   "execution_count": 4,
   "metadata": {},
   "outputs": [
    {
     "name": "stderr",
     "output_type": "stream",
     "text": [
      "<ipython-input-3-06b245978561>:58: RuntimeWarning: divide by zero encountered in reciprocal\n",
      "  H = ((1-par.alpha)*HM**((par.sigma-1)/par.sigma) + par.alpha*HF**((par.sigma-1)/par.sigma))**(par.sigma/(par.sigma-1))\n"
     ]
    },
    {
     "name": "stdout",
     "output_type": "stream",
     "text": [
      "for sigma -> 0.5 and alpha -> 0.25 the rate is: 0.545455\n",
      "for sigma -> 0.5 and alpha -> 0.5 the rate is: 1.000000\n",
      "for sigma -> 0.5 and alpha -> 0.75 the rate is: 1.833333\n",
      "for sigma -> 1.0 and alpha -> 0.25 the rate is: 0.307692\n",
      "for sigma -> 1.0 and alpha -> 0.5 the rate is: 1.000000\n",
      "for sigma -> 1.0 and alpha -> 0.75 the rate is: 3.250000\n",
      "for sigma -> 1.5 and alpha -> 0.25 the rate is: 0.214286\n",
      "for sigma -> 1.5 and alpha -> 0.5 the rate is: 1.000000\n",
      "for sigma -> 1.5 and alpha -> 0.75 the rate is: 4.666667\n"
     ]
    }
   ],
   "source": [
    "sol1 = HouseholdSpecializationModelClass()\n",
    "new_sigma = np.linspace(0.5,1.5,3)\n",
    "new_alpha = np.linspace(0.25,0.75,3)\n",
    "\n",
    "for sigma in range(len(new_sigma)): #this is to consider all the cases of sigma\n",
    "    for alpha in range(len(new_alpha)): #this is for each sigma ther're mutliple alphas\n",
    "        sol1.par.sigma = new_sigma[sigma]\n",
    "        sol1.par.alpha = new_alpha[alpha]\n",
    "\n",
    "        opt = sol1.solve_discrete() #we solve based on the utility func with the previous parameters \n",
    "\n",
    "        if opt.HM == 0: #given that the denominator can't be 0\n",
    "            answer = np.inf\n",
    "        else:\n",
    "            answer = opt.HF / opt.HM #we get our final answer\n",
    "\n",
    "        print(f'for sigma -> {new_sigma[sigma]} and alpha -> {new_alpha[alpha]} the rate is: {answer:2f}')"
   ]
  },
  {
   "cell_type": "markdown",
   "metadata": {},
   "source": [
    "# Question 2"
   ]
  },
  {
   "cell_type": "markdown",
   "metadata": {},
   "source": [
    "Explain your code and procedure"
   ]
  },
  {
   "cell_type": "code",
   "execution_count": 5,
   "metadata": {},
   "outputs": [
    {
     "name": "stdout",
     "output_type": "stream",
     "text": [
      "our vector of the rate for both salaries is as follows [-0.09691001300805639, -0.045757490560675115, 0.0, 0.04139268515822508, 0.07918124604762482]\n",
      "our vector of the rate for both hours worked at home is as follows [0.09691001300805642, 0.0, 0.0, -0.05115252244738131, -0.09691001300805639]\n"
     ]
    },
    {
     "data": {
      "image/png": "[encoded data removed]",
      "text/plain": [
       "<Figure size 576x288 with 1 Axes>"
      ]
     },
     "metadata": {
      "needs_background": "light"
     },
     "output_type": "display_data"
    }
   ],
   "source": [
    "# code# code\n",
    "%matplotlib inline\n",
    "import matplotlib.pyplot as plt\n",
    "\n",
    "model = HouseholdSpecializationModelClass()\n",
    "\n",
    "log_HF_HM = []\n",
    "rate_w = []\n",
    "\n",
    "for i, wF in enumerate(model.par.wF_vec): #this loop is to get all the different values for the salaries\n",
    "    rate = wF / model.par.wM\n",
    "    model.par.wF = wF\n",
    "    opt = model.solve_discrete() #we solve based on the utility func with the previous parameters\n",
    "    HF = opt.HF\n",
    "    HM = opt.HM\n",
    "    log_HF_HM.append(np.log10(HF / HM)) #final answer in logs for the graph\n",
    "    rate_w.append(np.log10(rate))\n",
    "\n",
    "print(f'our vector of the rate for both salaries is as follows {rate_w}')\n",
    "print(f'our vector of the rate for both hours worked at home is as follows {log_HF_HM}')\n",
    "fig = plt.figure(figsize=(8,4))\n",
    "ax = fig.add_subplot(1,1,1)\n",
    "\n",
    "ax.plot(log_HF_HM, rate_w)\n",
    "\n",
    "ax.set_title('value of choice')\n",
    "ax.set_xlabel('log(HF/HM)')\n",
    "ax.set_ylabel('log(wF/wM)');"
   ]
  },
  {
   "cell_type": "markdown",
   "metadata": {},
   "source": [
    "# Question 3"
   ]
  },
  {
   "cell_type": "markdown",
   "metadata": {},
   "source": [
    "Explain your code and procedure"
   ]
  },
  {
   "cell_type": "code",
   "execution_count": 6,
   "metadata": {},
   "outputs": [],
   "source": [
    "# code# code\n",
    "from types import SimpleNamespace\n",
    "\n",
    "import numpy as np\n",
    "from scipy import optimize\n",
    "\n",
    "import pandas as pd \n",
    "import matplotlib.pyplot as plt\n",
    "\n",
    "class HouseholdSpecializationModelClass2:\n",
    "\n",
    "    def __init__(self):\n",
    "        \"\"\" setup model \"\"\"\n",
    "\n",
    "        # a. create namespaces\n",
    "        par = self.par = SimpleNamespace()\n",
    "        sol = self.sol = SimpleNamespace()\n",
    "\n",
    "        # b. preferences\n",
    "        par.rho = 2.0\n",
    "        par.nu = 0.001\n",
    "        par.epsilon = 1.0\n",
    "        par.omega = 0.5 \n",
    "\n",
    "        # c. household production\n",
    "        par.alpha = 0.5\n",
    "        par.sigma = 1\n",
    "\n",
    "        # d. wages\n",
    "        par.wM = 1.0\n",
    "        par.wF = 1.0\n",
    "        par.wF_vec = np.linspace(0.8,1.2,5)\n",
    "\n",
    "        # e. targets\n",
    "        par.beta0_target = 0.4\n",
    "        par.beta1_target = -0.1\n",
    "\n",
    "        # f. solution\n",
    "        sol.LM_vec = np.zeros(par.wF_vec.size)\n",
    "        sol.HM_vec = np.zeros(par.wF_vec.size)\n",
    "        sol.LF_vec = np.zeros(par.wF_vec.size)\n",
    "        sol.HF_vec = np.zeros(par.wF_vec.size)\n",
    "\n",
    "        sol.beta0 = np.nan\n",
    "        sol.beta1 = np.nan\n",
    "\n",
    "    def calc_utility(self,LM,HM,LF,HF):\n",
    "        \"\"\" calculate utility \"\"\"\n",
    "\n",
    "        par = self.par\n",
    "        sol = self.sol\n",
    "\n",
    "        # a. consumption of market goods\n",
    "        C = par.wM*LM + par.wF*LF\n",
    "\n",
    "        # b. home production\n",
    "        #for this it depends on the values of the epsilon\n",
    "        if par.sigma == 0:\n",
    "            H = np.fmin(HF,HM)\n",
    "        elif par.sigma == 1:\n",
    "            H = HM**(1-par.alpha) * HF**par.alpha   \n",
    "            Q = C**par.omega * H**(1-par.omega)\n",
    "        else:\n",
    "            H = ((1-par.alpha)*HM**((par.sigma-1)/par.sigma) + par.alpha*HF**((par.sigma-1)/par.sigma))**(par.sigma/(par.sigma-1))\n",
    "            Q = C**par.omega * H**(1-par.omega)\n",
    "\n",
    "\n",
    "        # c. total consumption utility\n",
    "        #Q = C**par.omega*H**(1-par.omega)\n",
    "        utility = np.fmax(Q,1e-8)**(1-par.rho)/(1-par.rho)\n",
    "\n",
    "        # d. disutlity of work\n",
    "        epsilon_ = 1+1/par.epsilon\n",
    "        TM = LM+HM\n",
    "        TF = LF+HF\n",
    "        disutility = par.nu*(TM**epsilon_/epsilon_+TF**epsilon_/epsilon_)\n",
    "        \n",
    "        return utility - disutility\n",
    "\n",
    "    def solve_discrete(self,do_print=False):\n",
    "        \"\"\" solve model discretely \"\"\"\n",
    "        \n",
    "        par = self.par\n",
    "        sol = self.sol\n",
    "        opt = SimpleNamespace()\n",
    "        \n",
    "        # a. all possible choices\n",
    "        x = np.linspace(0,24,49)\n",
    "        LM,HM,LF,HF = np.meshgrid(x,x,x,x) # all combinations\n",
    "    \n",
    "        LM = LM.ravel() # vector\n",
    "        HM = HM.ravel()\n",
    "        LF = LF.ravel()\n",
    "        HF = HF.ravel()\n",
    "\n",
    "        # b. calculate utility\n",
    "        u = self.calc_utility(LM,HM,LF,HF)\n",
    "    \n",
    "        # c. set to minus infinity if constraint is broken\n",
    "        I = (LM+HM > 24) | (LF+HF > 24) # | is \"or\"\n",
    "        u[I] = -np.inf\n",
    "    \n",
    "        # d. find maximizing argument\n",
    "        j = np.argmax(u)\n",
    "        \n",
    "        opt.LM = np.log(LM[j])\n",
    "        opt.HM = np.log(HM[j])\n",
    "        opt.LF = np.log(LF[j])\n",
    "        opt.HF = np.log(HF[j])\n",
    "\n",
    "        # e. print\n",
    "        if do_print:\n",
    "            for k,v in opt.__dict__.items():\n",
    "                print(f'{k} = {v:6.4f}')\n",
    "\n",
    "        return opt\n",
    "\n",
    "    def solve_continous(self,do_print=False):\n",
    "        \"\"\" solve model continously \"\"\"\n",
    "        par = self.par\n",
    "        sol = self.sol\n",
    "        opt = SimpleNamespace()\n",
    "\n",
    "        #we need to present our objective function that we want to maximize\n",
    "        def objective_f(x):\n",
    "            return -self.calc_utility(x[0], x[1], x[2], x[3])\n",
    "        \n",
    "        #now we need to presnet our constraints\n",
    "        constraint1 = lambda x: 24 - x[0] - x[1]\n",
    "        constraint2 = lambda x: 24 - x[2] - x[3]\n",
    "        constraints = ({'type': 'ineq', 'fun': constraint1},{'type': 'ineq', 'fun': constraint2})\n",
    "\n",
    "        #now make the guess of the values\n",
    "        guess = [12,12,12,12]\n",
    "\n",
    "        #now create the boundaries for the values \n",
    "        bounds = ((0,24),(0,24),(0,24),(0,24))\n",
    "\n",
    "        #now create the minimize function with the previous parameters\n",
    "        solution = optimize.minimize(objective_f,guess,method='SLSQP',bounds=bounds,constraints=constraints)\n",
    "        \n",
    "        #give the final values to the variables\n",
    "        opt.LM = solution.x[0]\n",
    "        opt.HM = solution.x[1]\n",
    "        opt.LF = solution.x[2]\n",
    "        opt.HF = solution.x[3]\n",
    "        \n",
    "        return opt\n",
    "\n",
    "    def solve_wF_vec(self,discrete=False):\n",
    "        \"\"\" solve model for vector of female wages \"\"\"\n",
    "\n",
    "\n",
    "        pass\n",
    "\n",
    "    def run_regression(self):\n",
    "        \"\"\" run regression \"\"\"\n",
    "\n",
    "        par = self.par\n",
    "        sol = self.sol\n",
    "\n",
    "        x = np.log(par.wF_vec)\n",
    "        y = np.log(sol.HF_vec/sol.HM_vec)\n",
    "        A = np.vstack([np.ones(x.size),x]).T\n",
    "        sol.beta0,sol.beta1 = np.linalg.lstsq(A,y,rcond=None)[0]\n",
    "    \n",
    "    def estimate(self,alpha=None,sigma=None):\n",
    "        \"\"\" estimate alpha and sigma \"\"\"\n",
    "\n",
    "        pass"
   ]
  },
  {
   "cell_type": "code",
   "execution_count": 7,
   "metadata": {},
   "outputs": [
    {
     "name": "stdout",
     "output_type": "stream",
     "text": [
      "for sigma -> 0.5 and alpha -> 0.25 the rate is: 0.578806\n",
      "for sigma -> 0.5 and alpha -> 0.5 the rate is: 1.000000\n",
      "for sigma -> 0.5 and alpha -> 0.75 the rate is: 1.727694\n",
      "for sigma -> 1.0 and alpha -> 0.25 the rate is: 0.332827\n",
      "for sigma -> 1.0 and alpha -> 0.5 the rate is: 1.000000\n",
      "for sigma -> 1.0 and alpha -> 0.75 the rate is: 3.004568\n",
      "for sigma -> 1.5 and alpha -> 0.25 the rate is: 0.192045\n",
      "for sigma -> 1.5 and alpha -> 0.5 the rate is: 1.000000\n",
      "for sigma -> 1.5 and alpha -> 0.75 the rate is: 5.207106\n"
     ]
    }
   ],
   "source": [
    "sol1 = HouseholdSpecializationModelClass2()\n",
    "new_sigma = np.linspace(0.5,1.5,3)\n",
    "new_alpha = np.linspace(0.25,0.75,3)\n",
    "\n",
    "for sigma in range(len(new_sigma)):\n",
    "    for alpha in range(len(new_alpha)):\n",
    "        sol1.par.sigma = new_sigma[sigma]\n",
    "        sol1.par.alpha = new_alpha[alpha]\n",
    "\n",
    "        opt = sol1.solve_continous()  \n",
    "\n",
    "        if opt.HM == 0:\n",
    "            answer = np.inf\n",
    "        else:\n",
    "            answer = (opt.HF) / (opt.HM)\n",
    "\n",
    "        print(f'for sigma -> {new_sigma[sigma]} and alpha -> {new_alpha[alpha]} the rate is: {answer:2f}')"
   ]
  },
  {
   "cell_type": "code",
   "execution_count": 8,
   "metadata": {},
   "outputs": [
    {
     "name": "stdout",
     "output_type": "stream",
     "text": [
      "our vector of the rate for both salaries is as follows [-0.09691001300805639, -0.045757490560675115, 0.0, 0.04139268515822508, 0.07918124604762482]\n",
      "our vector of the rate for both hours worked at home is as follows [0.09780293728404903, 4.236425002590087e-05, 9.356265728894101e-10, -3.7697331898327034e-05, -0.08105075402835249]\n"
     ]
    },
    {
     "data": {
      "image/png": "[encoded data removed]",
      "text/plain": [
       "<Figure size 576x288 with 1 Axes>"
      ]
     },
     "metadata": {
      "needs_background": "light"
     },
     "output_type": "display_data"
    }
   ],
   "source": [
    "%matplotlib inline\n",
    "import matplotlib.pyplot as plt\n",
    "\n",
    "model = HouseholdSpecializationModelClass2()\n",
    "\n",
    "log_HF_HM = []\n",
    "rate_w = []\n",
    "\n",
    "for i, wF in enumerate(model.par.wF_vec):\n",
    "    rate = wF / model.par.wM\n",
    "    model.par.wF = wF\n",
    "    opt = model.solve_continous() \n",
    "    HF = opt.HF\n",
    "    HM = opt.HM\n",
    "    log_HF_HM.append(np.log10(HF / HM))\n",
    "    rate_w.append(np.log10(rate))\n",
    "\n",
    "print(f'our vector of the rate for both salaries is as follows {rate_w}')\n",
    "print(f'our vector of the rate for both hours worked at home is as follows {log_HF_HM}')\n",
    "fig = plt.figure(figsize=(8,4))\n",
    "ax = fig.add_subplot(1,1,1)\n",
    "\n",
    "ax.plot(log_HF_HM, rate_w)\n",
    "\n",
    "ax.set_title('value of choice')\n",
    "ax.set_xlabel('log(HF/HM)')\n",
    "ax.set_ylabel('log(wF/wM)');"
   ]
  },
  {
   "attachments": {},
   "cell_type": "markdown",
   "metadata": {},
   "source": [
    "# Question 4"
   ]
  },
  {
   "cell_type": "code",
   "execution_count": 13,
   "metadata": {},
   "outputs": [
    {
     "name": "stdout",
     "output_type": "stream",
     "text": [
      "Optimal value for alpha: 0.33333332585998426\n",
      "Optimal value for sigma: -7.803938995021298e-09\n"
     ]
    }
   ],
   "source": [
    "import numpy as np\n",
    "from scipy.optimize import minimize\n",
    "\n",
    "# Define the objective function to be minimized\n",
    "def objective(params, wM, wF, beta0, beta1):\n",
    "    alpha, sigma = params\n",
    "    error = 0\n",
    "    for i in range(len(wM)):\n",
    "        log_HFHM_hat = alpha + beta1 * np.log(wF[i]/wM[i])\n",
    "        error += (log_HFHM_hat - beta0 - beta1 * np.log(wF[i]/wM[i]))**2\n",
    "    return error + (alpha**2 + sigma**2)\n",
    "\n",
    "# Define the range of values for wM and wF\n",
    "wM = np.array([0.8, 0.9, 1.0, 1.1, 1.2])\n",
    "wF = np.array([0.8, 0.9, 1.0, 1.1, 1.2])\n",
    "\n",
    "# Define the initial values for alpha and sigma\n",
    "params0 = np.array([0, 1])\n",
    "\n",
    "# Define the values of beta0 and beta1\n",
    "beta0 = 0.4\n",
    "beta1 = -0.1\n",
    "\n",
    "# Use the minimize function to find the optimal values for alpha and sigma\n",
    "result = minimize(objective, params0, args=(wM, wF, beta0, beta1))\n",
    "alpha_opt, sigma_opt = result.x\n",
    "\n",
    "# Print the optimal values for alpha and sigma\n",
    "print(f\"Optimal value for alpha: {alpha_opt}\")\n",
    "print(f\"Optimal value for sigma: {sigma_opt}\")\n"
   ]
  },
  {
   "cell_type": "code",
   "execution_count": 20,
   "metadata": {},
   "outputs": [
    {
     "data": {
      "image/png": "[encoded data removed]",
      "text/plain": [
       "<Figure size 576x432 with 1 Axes>"
      ]
     },
     "metadata": {
      "needs_background": "light"
     },
     "output_type": "display_data"
    }
   ],
   "source": [
    "import numpy as np\n",
    "import matplotlib.pyplot as plt\n",
    "\n",
    "# Define the data and coefficients\n",
    "wM_values = np.array([0.8, 0.9, 1.0, 1.1, 1.2])\n",
    "wF_values = np.array([0.8, 0.9, 1.0, 1.1, 1.2])\n",
    "beta0 = 0.4\n",
    "beta1 = -0.1\n",
    "\n",
    "# Calculate the estimated coefficients for each wM and wF value\n",
    "beta0_hat = np.zeros(len(wM_values))\n",
    "beta1_hat = np.zeros(len(wM_values))\n",
    "for i in range(len(wM_values)):\n",
    "    x = np.log(wF_values/wM_values[i])\n",
    "    y = beta0 + beta1*x\n",
    "    beta1_hat[i], beta0_hat[i] = np.polyfit(x, y, 1)\n",
    "\n",
    "# Plot the results\n",
    "plt.figure(figsize=(8,6))\n",
    "plt.plot(np.log(wF_values/wM_values[:,None]), beta0 + beta1*np.log(wF_values/wM_values[:,None]), 'b-', label='Regression Line')\n",
    "for i in range(len(wM_values)):\n",
    "    plt.plot(np.log(wF_values/wM_values[i]), beta0_hat[i] + beta1_hat[i]*np.log(wF_values/wM_values[i]), 'r--', label=f'wM={wM_values[i]}')\n",
    "plt.legend()\n",
    "plt.xlabel('Log wF/wM')\n",
    "plt.ylabel('Log HF/HM')\n",
    "plt.show()\n"
   ]
  },
  {
   "attachments": {},
   "cell_type": "markdown",
   "metadata": {},
   "source": [
    "From the plot, we can see that the regression lines for each wM value are all roughly parallel to each other and to the overall regression line. This suggests that the relationship between log HF/HM and log wF/wM is fairly consistent across different values of wM and wF.\n",
    "\n",
    "Now, let's discuss the economic interpretation of the results. The regression model estimates the relationship between log HF/HM (the dependent variable) and log wF/wM (the independent variable). The coefficient β1 tells us how log HF/HM changes in response to a change in log wF/wM, holding all other variables constant. In this case, β1 ≈ −0.1, which means that a 1% increase in wF relative to wM is associated with a 0.1% decrease in the ratio of HF to HM.\n",
    "\n",
    "The coefficient β0 tells us the value of log HF/HM when log wF/wM is zero. In this case, β0 ≈ 0.4, which means that when wF is equal to wM, the ratio of HF to HM is about 1.5 (since exp(0.4) ≈ 1.5).\n",
    "\n",
    "Overall, the results suggest that in couples where the female partner earns more than the male partner, the ratio of household work done by the female partner relative to the male partner is lower than in couples where the male partner earns more. This could be due to a variety of factors, such as gender norms and expectations around household work, differences in work hours and responsibilities, and bargaining power within the relationship."
   ]
  }
 ],
 "metadata": {
  "kernelspec": {
   "display_name": "base",
   "language": "python",
   "name": "python3"
  },
  "language_info": {
   "codemirror_mode": {
    "name": "ipython",
    "version": 3
   },
   "file_extension": ".py",
   "mimetype": "text/x-python",
   "name": "python",
   "nbconvert_exporter": "python",
   "pygments_lexer": "ipython3",
   "version": "3.8.8"
  },
  "toc-autonumbering": true,
  "vscode": {
   "interpreter": {
    "hash": "f99cef36e6e567bd788162d91597941184a50bdf69e3170ba247968ea7d541f1"
   }
  }
 },
 "nbformat": 4,
 "nbformat_minor": 4
}
