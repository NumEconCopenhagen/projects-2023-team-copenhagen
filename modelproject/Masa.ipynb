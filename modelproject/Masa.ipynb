{
 "cells": [
  {
   "cell_type": "code",
   "execution_count": 8,
   "metadata": {},
   "outputs": [
    {
     "name": "stdout",
     "output_type": "stream",
     "text": [
      "The autoreload extension is already loaded. To reload it, use:\n",
      "  %reload_ext autoreload\n"
     ]
    }
   ],
   "source": [
    "from scipy import optimize\n",
    "import sympy as sm\n",
    "import numpy as np\n",
    "from scipy import optimize\n",
    "import matplotlib.pyplot as plt\n",
    "plt.rcParams.update({\"axes.grid\":True,\"grid.color\":\"black\",\"grid.alpha\":\"0.25\",\"grid.linestyle\":\"--\"})\n",
    "plt.rcParams.update({'font.size': 14})\n",
    "\n",
    "# autoreload modules when code is run\n",
    "%load_ext autoreload\n",
    "\n",
    "# local modules\n",
    "import cournot_fixed\n",
    "import cournot_nash\n",
    "import cournot_merge"
   ]
  },
  {
   "attachments": {},
   "cell_type": "markdown",
   "metadata": {},
   "source": [
    "To derive the Cournot-Nash equilibrium, we will focus on the example of a duopoly. That is, there are only two firms in the market. We will assume that firms 1 and 2 both produce the same good at the same production cost c1 = c2 = c. \n",
    "\n",
    "We assume demand is a linear function given by p(x) = a - bx where a > 0 and b > 0. If one firm produces x1 and the other produces x2, then the total market quantity is x = x1 + x2. So, we can substitute this expression for x in the following equations. Firm 1's total revenue r1 is then given by the market price times the quantity produced:\n",
    "\n",
    "$$\n",
    "\\begin{aligned}\n",
    "x&=x_{1}+x_{2}\\\\ p&=a-bx\\\\\n",
    "r_{1}&=px_{1}\\\\&=(a-b(x_{1}+x_{2}))x_{1}\\\\ \n",
    "\\end{aligned} \n",
    "$$\n",
    "※analogous for firm 2\n",
    "\n",
    "and firms 1's total profits π1 are calculated as the difference between revenue and production costs: \n",
    "$$\n",
    "\\begin{aligned}\n",
    "π_{1} &= px_{1}-cx_{1} \\\\&= (a-bx)x_{1}-cx_{1} \\\\&= [a-b(x_{1}+x_{2})]x_{1}-cx_{1} \\\\&=-bx_{1}^2-bx_{1}x_{2}+(a-c)x_{1}\\\\\n",
    "\\end{aligned}\n",
    "$$\n",
    "※analogous for firm 2"
   ]
  },
  {
   "attachments": {},
   "cell_type": "markdown",
   "metadata": {},
   "source": [
    "Each firm then chooses the production quantity that maximizes its profits, taking the quantity produced by its competitor into consideration. So, to derive the optimal output, we need to find the quantity q1 that maximizes the profit function for firm 1, taking q2 as given. Analogously, we will do the same for firm 2. To find the optimum, we take the partial derivative of the profit function and set that equation equal to 0:\n",
    "$$\n",
    "\\max_{x1}[π(x_{1})=-bx_{1}^2-bx_{1}x_{2}+(a-c)x_{1}]\\\\\n",
    "\\frac{d}{d\\Delta x_{1}} π(x_{1}) = 0 \\Leftrightarrow −2bx_{1}−bx_{2} +(a−c)=0\\\\\n",
    "x_{1}^* = -\\frac{1}{2}x_{2}+\\frac{a-c}{2b}  \\\\\n",
    "$$\n",
    "and analogously \n",
    "$$\n",
    "\\begin{aligned}\n",
    "x_{2}^* = -\\frac{1}{2}x_{1}+\\frac{a-c}{2b}\n",
    "\\end{aligned}\n",
    "$$"
   ]
  },
  {
   "attachments": {},
   "cell_type": "markdown",
   "metadata": {},
   "source": [
    "The equations x1* and x2* are called the best response functions. They tell us firm 1's optimal output for any quantity produced by firm 2, and firm 2's optimal output for any quantity produced by firm 1.  \n",
    "\n",
    "In the Cournot-Nash equilibrium, both firms will give their best response to each other's actions. To derive the equilibrium, we thus insert the optimal response of firm 2 into firm 1’s equation to calculate its optimal quantity, and vice versa: \n",
    "\n",
    "$$\n",
    "\\begin{aligned}\n",
    "x_{1} &= -\\frac{1}{2}(-\\frac{1}{2}x_{1}+\\frac{a-c}{2b})+\\frac{a-c}{2b}\\\\x_{1}^* &= \\frac{a-c}{3b}\n",
    "\\end{aligned}\n",
    "$$\n",
    "and analogously\n",
    "$$\n",
    "\\begin{aligned}\n",
    "x_{2}^* &= \\frac{a-c}{3b}=x_{1}^*\n",
    "\\end{aligned}\n",
    "$$\n"
   ]
  },
  {
   "attachments": {},
   "cell_type": "markdown",
   "metadata": {},
   "source": [
    "This is the unique Nash equilibrium for the Cournot duopoly. Entering the optimal quantities into the demand function gives us the total quantity x* and the market price p* in the equilibrium:\n",
    "\n",
    "\n",
    "$$\n",
    "\\begin{aligned}\n",
    "x^* &= x_{1}^*+x_{2}^* &=\\frac{2}{3}\\left[\\frac{a-c}{3b}\\right]\\\\\n",
    "p^*&=a-bx*\\\\&=\\frac{a+2b}{3}\n",
    "\\end{aligned}\n",
    "$$"
   ]
  },
  {
   "attachments": {},
   "cell_type": "markdown",
   "metadata": {},
   "source": [
    "In this condition, firm 1's profits π1 is:\n",
    "$$\n",
    "\\begin{aligned}\n",
    "π_{1} &= p^*x_{1}-cx_{1} &= (p^*-c)x_{1}\\\\&= \\frac{(a-c)^2}{9b}\n",
    "\\end{aligned}\n",
    "$$\n",
    "and analogously\n",
    "$$\n",
    "\\begin{aligned}\n",
    "π_{2} = \\frac{(a-c)^2}{9b} = π_{1}\n",
    "\\end{aligned}\n",
    "$$"
   ]
  },
  {
   "attachments": {},
   "cell_type": "markdown",
   "metadata": {},
   "source": [
    "# Analytical solution"
   ]
  },
  {
   "cell_type": "code",
   "execution_count": 9,
   "metadata": {},
   "outputs": [],
   "source": [
    "x = sm.symbols('x')\n",
    "x1 = sm.symbols('x_1')\n",
    "x2 = sm.symbols('x_2')\n",
    "π1 = sm.symbols('π_1')\n",
    "π2 = sm.symbols('π_2')\n",
    "p = sm.symbols('p')\n",
    "a = sm.symbols('a')\n",
    "b = sm.symbols('b')\n",
    "c = sm.symbols('c')"
   ]
  },
  {
   "cell_type": "code",
   "execution_count": 10,
   "metadata": {},
   "outputs": [
    {
     "data": {
      "text/latex": [
       "$\\displaystyle \\frac{a - b x_{2} - c}{2 b}$"
      ],
      "text/plain": [
       "(a - b*x_2 - c)/(2*b)"
      ]
     },
     "execution_count": 10,
     "metadata": {},
     "output_type": "execute_result"
    }
   ],
   "source": [
    "objective = p*x1 - c*x1\n",
    "price = sm.Eq(a-b*x,p)\n",
    "quantity = sm.Eq(x1+x2,x)\n",
    "p_from_pri = sm.solve(price, p)\n",
    "x_from_pri = sm.solve(quantity, x)\n",
    "objective_subs1 = objective.subs(p, p_from_pri[0])\n",
    "objective_subs2 = objective_subs1.subs(x, x_from_pri[0])\n",
    "foc = sm.diff(objective_subs2, x1)\n",
    "sol = sm.solve(sm.Eq(foc,0), x1)\n",
    "sol[0]"
   ]
  },
  {
   "cell_type": "code",
   "execution_count": 11,
   "metadata": {},
   "outputs": [
    {
     "data": {
      "text/latex": [
       "$\\displaystyle \\frac{a - b x_{1} - c}{2 b}$"
      ],
      "text/plain": [
       "(a - b*x_1 - c)/(2*b)"
      ]
     },
     "execution_count": 11,
     "metadata": {},
     "output_type": "execute_result"
    }
   ],
   "source": [
    "objective_2 = p*x2 - c*x2\n",
    "objective_subs3 = objective_2.subs(p, p_from_pri[0])\n",
    "objective_subs4 = objective_subs3.subs(x, x_from_pri[0])\n",
    "foc_2 = sm.diff(objective_subs4, x2)\n",
    "sol_2 = sm.solve(sm.Eq(foc_2,0), x2)\n",
    "sol_2[0]"
   ]
  },
  {
   "cell_type": "code",
   "execution_count": 12,
   "metadata": {},
   "outputs": [
    {
     "data": {
      "text/latex": [
       "$\\displaystyle \\frac{a - c}{3 b}$"
      ],
      "text/plain": [
       "(a - c)/(3*b)"
      ]
     },
     "execution_count": 12,
     "metadata": {},
     "output_type": "execute_result"
    }
   ],
   "source": [
    "quantity_x1 = sm.Eq((a-b*x2-c)/(2*b),x1)\n",
    "quantity_x2 = sm.Eq((a-b*x1-c)/(2*b),x2)\n",
    "x2_from_qua = sm.solve(quantity_x2, x2)\n",
    "objective_subs5 = quantity_x1.subs(x2, x2_from_qua[0])\n",
    "sol_x1 = sm.solve(objective_subs5, x1)\n",
    "sol_x1[0]\n"
   ]
  },
  {
   "cell_type": "code",
   "execution_count": 13,
   "metadata": {},
   "outputs": [
    {
     "data": {
      "text/latex": [
       "$\\displaystyle \\frac{a - c}{3 b}$"
      ],
      "text/plain": [
       "(a - c)/(3*b)"
      ]
     },
     "execution_count": 13,
     "metadata": {},
     "output_type": "execute_result"
    }
   ],
   "source": [
    "x1_from_qua = sm.solve(quantity_x1, x1)\n",
    "objective_subs6 = quantity_x2.subs(x1, x1_from_qua[0])\n",
    "sol_x2 = sm.solve(objective_subs6, x2)\n",
    "sol_x2[0]"
   ]
  },
  {
   "cell_type": "code",
   "execution_count": 14,
   "metadata": {},
   "outputs": [
    {
     "name": "stdout",
     "output_type": "stream",
     "text": [
      "best response x1(x2): 0.333\n",
      "best response x1(x2): 1.000\n",
      "best response x1(x2): 1.667\n",
      "best response x1(x2): 3.000\n",
      "best response x1(x2): 5.000\n"
     ]
    }
   ],
   "source": [
    "sol_x1_func = sm.lambdify(args = (a,b,c), expr = sol_x1[0])\n",
    "sol_x2_func = sm.lambdify(args = (a,b,c), expr = sol_x2[0])\n",
    "\n",
    "a_vec = np.array([1,2,3,5,8])\n",
    "b_val = 0.5\n",
    "c_val = 0.5\n",
    "\n",
    "best_response_a = sol_x1_func(a_vec, b_val, c_val)\n",
    "for d in best_response_a:\n",
    "    print(f'best response x1(x2): {d:1.3f}')"
   ]
  },
  {
   "attachments": {},
   "cell_type": "markdown",
   "metadata": {},
   "source": [
    "# Numerical solution"
   ]
  },
  {
   "cell_type": "code",
   "execution_count": 15,
   "metadata": {},
   "outputs": [
    {
     "data": {
      "text/latex": [
       "$\\displaystyle x_{1}$"
      ],
      "text/plain": [
       "x_1"
      ]
     },
     "execution_count": 15,
     "metadata": {},
     "output_type": "execute_result"
    }
   ],
   "source": [
    "fix_c = 13\n",
    "val_c = 1\n",
    "b_val = 1\n",
    "p = fix_c-x1-x2\n",
    "\n",
    "x1 + x2 < fix_c\n",
    "x1,x2 > 0\n",
    "π = (p-val_c)*x1-fix_c\n",
    "#differentiate π about x1, and x1=x2\n",
    "π_diff = fix_c-2*x1-x1\n",
    "π_diff = 0\n",
    "x1\n",
    "\n",
    "\n",
    "    \n",
    "    \n",
    "    \n"
   ]
  },
  {
   "cell_type": "code",
   "execution_count": 16,
   "metadata": {},
   "outputs": [
    {
     "data": {
      "image/png": "[encoded data removed]",
      "text/plain": [
       "<Figure size 432x288 with 1 Axes>"
      ]
     },
     "metadata": {
      "needs_background": "light"
     },
     "output_type": "display_data"
    }
   ],
   "source": [
    "b_val = 1\n",
    "c_val = 0.5\n",
    "a_val = 3\n",
    "\n",
    "x2_vec = np.linspace(-5, 5, 100)\n",
    "x1 = (a_val - b_val*x2_vec - c_val)/(2*b_val)\n",
    "x2 = (a_val - b_val*x1 - c_val)/(2*b_val)\n",
    "intersection_x1_x2 = (a_val - c_val)/(3*b_val)\n",
    "\n",
    "\n",
    "fig = plt.figure()\n",
    "\n",
    "# b. create the plot \n",
    "ax = fig.add_subplot(1,1,1)\n",
    "\n",
    "ax.plot(x2,x1,label='$x_{1}$')\n",
    "ax.plot(x1,x2,label='$x_{2}$')\n",
    "ax.scatter(intersection_x1_x2,intersection_x1_x2,s=50, marker='o', color='black',label='Cournot-Nash')\n",
    "\n",
    "ax.set_xlim([0, 5])\n",
    "ax.set_ylim([0, 5])\n",
    "plt.gca().set_aspect('equal', adjustable='box')\n",
    "ax.set_title('Cournot competition')\n",
    "ax.set_xlabel('$x_2$')\n",
    "ax.set_ylabel('$x_1$')\n",
    "ax.legend(loc='upper right'); # Activate legend (uses the labels in ax.plot())"
   ]
  },
  {
   "cell_type": "code",
   "execution_count": 17,
   "metadata": {},
   "outputs": [
    {
     "name": "stdout",
     "output_type": "stream",
     "text": [
      "8.0 5.0\n"
     ]
    }
   ],
   "source": [
    "b_val = 1\n",
    "c_val = 1\n",
    "k = 12\n",
    "intersection_x = (2*(c_val+k - c_val)) / (3 * b_val)\n",
    "intersection_y = c_val+k-b_val*intersection_x\n",
    "print(intersection_x, intersection_y)\n"
   ]
  },
  {
   "cell_type": "code",
   "execution_count": 18,
   "metadata": {},
   "outputs": [
    {
     "name": "stdout",
     "output_type": "stream",
     "text": [
      "4.0 4.0\n"
     ]
    }
   ],
   "source": [
    "x1_vec = intersection_x/2\n",
    "x2_vec = intersection_x/2\n",
    "print(x1_vec,x2_vec)\n"
   ]
  },
  {
   "cell_type": "code",
   "execution_count": 19,
   "metadata": {},
   "outputs": [
    {
     "name": "stdout",
     "output_type": "stream",
     "text": [
      "5.0 5.0\n"
     ]
    }
   ],
   "source": [
    "p = c_val+k-b_val*(x1_vec+x2_vec)\n",
    "p_ = (c_val+k+2*c_val)/3\n",
    "print(p,p_)"
   ]
  },
  {
   "cell_type": "code",
   "execution_count": 20,
   "metadata": {},
   "outputs": [],
   "source": [
    "from cournot_merge import Margegraph"
   ]
  },
  {
   "cell_type": "code",
   "execution_count": 21,
   "metadata": {},
   "outputs": [
    {
     "data": {
      "image/png": "[encoded data removed]",
      "text/plain": [
       "<Figure size 432x288 with 1 Axes>"
      ]
     },
     "metadata": {
      "needs_background": "light"
     },
     "output_type": "display_data"
    }
   ],
   "source": [
    "cc = Margegraph(b_val=1, c_val=1, k=12)\n",
    "cc.plot()"
   ]
  },
  {
   "cell_type": "code",
   "execution_count": 22,
   "metadata": {},
   "outputs": [],
   "source": [
    "from cournot_merge import Merge"
   ]
  },
  {
   "cell_type": "code",
   "execution_count": 26,
   "metadata": {},
   "outputs": [
    {
     "ename": "TypeError",
     "evalue": "object of type 'int' has no len()",
     "output_type": "error",
     "traceback": [
      "\u001b[1;31m---------------------------------------------------------------------------\u001b[0m",
      "\u001b[1;31mTypeError\u001b[0m                                 Traceback (most recent call last)",
      "\u001b[1;32m<ipython-input-26-fc9e8028d2ee>\u001b[0m in \u001b[0;36m<module>\u001b[1;34m\u001b[0m\n\u001b[0;32m      3\u001b[0m \u001b[1;33m\u001b[0m\u001b[0m\n\u001b[0;32m      4\u001b[0m \u001b[1;31m# call the solve_Q() method to obtain the optimal quantity of the new monopoly\u001b[0m\u001b[1;33m\u001b[0m\u001b[1;33m\u001b[0m\u001b[1;33m\u001b[0m\u001b[0m\n\u001b[1;32m----> 5\u001b[1;33m \u001b[0mmerge\u001b[0m\u001b[1;33m.\u001b[0m\u001b[0msolve_Q\u001b[0m\u001b[1;33m(\u001b[0m\u001b[1;33m)\u001b[0m\u001b[1;33m\u001b[0m\u001b[1;33m\u001b[0m\u001b[0m\n\u001b[0m\u001b[0;32m      6\u001b[0m \u001b[1;33m\u001b[0m\u001b[0m\n\u001b[0;32m      7\u001b[0m \u001b[1;31m# call the surplus() method to obtain the monopoly, consumers, and total surplus\u001b[0m\u001b[1;33m\u001b[0m\u001b[1;33m\u001b[0m\u001b[1;33m\u001b[0m\u001b[0m\n",
      "\u001b[1;32mc:\\Users\\masat\\Documents\\projects-2023-team-copenhagen\\modelproject\\cournot_merge.py\u001b[0m in \u001b[0;36msolve_Q\u001b[1;34m(self)\u001b[0m\n\u001b[0;32m     59\u001b[0m         \u001b[0mguess\u001b[0m \u001b[1;33m=\u001b[0m \u001b[1;36m6\u001b[0m\u001b[1;33m\u001b[0m\u001b[1;33m\u001b[0m\u001b[0m\n\u001b[0;32m     60\u001b[0m \u001b[1;33m\u001b[0m\u001b[0m\n\u001b[1;32m---> 61\u001b[1;33m         \u001b[0msol\u001b[0m \u001b[1;33m=\u001b[0m \u001b[0moptimize\u001b[0m\u001b[1;33m.\u001b[0m\u001b[0mminimize_scalar\u001b[0m\u001b[1;33m(\u001b[0m\u001b[0mobjective\u001b[0m\u001b[1;33m,\u001b[0m\u001b[0mguess\u001b[0m\u001b[1;33m,\u001b[0m\u001b[0mbounds\u001b[0m\u001b[1;33m=\u001b[0m\u001b[0mbounds\u001b[0m\u001b[1;33m)\u001b[0m\u001b[1;33m\u001b[0m\u001b[1;33m\u001b[0m\u001b[0m\n\u001b[0m\u001b[0;32m     62\u001b[0m \u001b[1;33m\u001b[0m\u001b[0m\n\u001b[0;32m     63\u001b[0m         \u001b[0mself\u001b[0m\u001b[1;33m.\u001b[0m\u001b[0mQ\u001b[0m \u001b[1;33m=\u001b[0m \u001b[0msol\u001b[0m\u001b[1;33m.\u001b[0m\u001b[0mx\u001b[0m\u001b[1;33m\u001b[0m\u001b[1;33m\u001b[0m\u001b[0m\n",
      "\u001b[1;32mc:\\Users\\masat\\anaconda3\\lib\\site-packages\\scipy\\optimize\\_minimize.py\u001b[0m in \u001b[0;36mminimize_scalar\u001b[1;34m(fun, bracket, bounds, args, method, tol, options)\u001b[0m\n\u001b[0;32m    788\u001b[0m         \u001b[1;32mreturn\u001b[0m \u001b[0mmethod\u001b[0m\u001b[1;33m(\u001b[0m\u001b[0mfun\u001b[0m\u001b[1;33m,\u001b[0m \u001b[0margs\u001b[0m\u001b[1;33m=\u001b[0m\u001b[0margs\u001b[0m\u001b[1;33m,\u001b[0m \u001b[0mbracket\u001b[0m\u001b[1;33m=\u001b[0m\u001b[0mbracket\u001b[0m\u001b[1;33m,\u001b[0m \u001b[0mbounds\u001b[0m\u001b[1;33m=\u001b[0m\u001b[0mbounds\u001b[0m\u001b[1;33m,\u001b[0m \u001b[1;33m**\u001b[0m\u001b[0moptions\u001b[0m\u001b[1;33m)\u001b[0m\u001b[1;33m\u001b[0m\u001b[1;33m\u001b[0m\u001b[0m\n\u001b[0;32m    789\u001b[0m     \u001b[1;32melif\u001b[0m \u001b[0mmeth\u001b[0m \u001b[1;33m==\u001b[0m \u001b[1;34m'brent'\u001b[0m\u001b[1;33m:\u001b[0m\u001b[1;33m\u001b[0m\u001b[1;33m\u001b[0m\u001b[0m\n\u001b[1;32m--> 790\u001b[1;33m         \u001b[1;32mreturn\u001b[0m \u001b[0m_minimize_scalar_brent\u001b[0m\u001b[1;33m(\u001b[0m\u001b[0mfun\u001b[0m\u001b[1;33m,\u001b[0m \u001b[0mbracket\u001b[0m\u001b[1;33m,\u001b[0m \u001b[0margs\u001b[0m\u001b[1;33m,\u001b[0m \u001b[1;33m**\u001b[0m\u001b[0moptions\u001b[0m\u001b[1;33m)\u001b[0m\u001b[1;33m\u001b[0m\u001b[1;33m\u001b[0m\u001b[0m\n\u001b[0m\u001b[0;32m    791\u001b[0m     \u001b[1;32melif\u001b[0m \u001b[0mmeth\u001b[0m \u001b[1;33m==\u001b[0m \u001b[1;34m'bounded'\u001b[0m\u001b[1;33m:\u001b[0m\u001b[1;33m\u001b[0m\u001b[1;33m\u001b[0m\u001b[0m\n\u001b[0;32m    792\u001b[0m         \u001b[1;32mif\u001b[0m \u001b[0mbounds\u001b[0m \u001b[1;32mis\u001b[0m \u001b[1;32mNone\u001b[0m\u001b[1;33m:\u001b[0m\u001b[1;33m\u001b[0m\u001b[1;33m\u001b[0m\u001b[0m\n",
      "\u001b[1;32mc:\\Users\\masat\\anaconda3\\lib\\site-packages\\scipy\\optimize\\optimize.py\u001b[0m in \u001b[0;36m_minimize_scalar_brent\u001b[1;34m(func, brack, args, xtol, maxiter, **unknown_options)\u001b[0m\n\u001b[0;32m   2328\u001b[0m                   full_output=True, maxiter=maxiter)\n\u001b[0;32m   2329\u001b[0m     \u001b[0mbrent\u001b[0m\u001b[1;33m.\u001b[0m\u001b[0mset_bracket\u001b[0m\u001b[1;33m(\u001b[0m\u001b[0mbrack\u001b[0m\u001b[1;33m)\u001b[0m\u001b[1;33m\u001b[0m\u001b[1;33m\u001b[0m\u001b[0m\n\u001b[1;32m-> 2330\u001b[1;33m     \u001b[0mbrent\u001b[0m\u001b[1;33m.\u001b[0m\u001b[0moptimize\u001b[0m\u001b[1;33m(\u001b[0m\u001b[1;33m)\u001b[0m\u001b[1;33m\u001b[0m\u001b[1;33m\u001b[0m\u001b[0m\n\u001b[0m\u001b[0;32m   2331\u001b[0m     \u001b[0mx\u001b[0m\u001b[1;33m,\u001b[0m \u001b[0mfval\u001b[0m\u001b[1;33m,\u001b[0m \u001b[0mnit\u001b[0m\u001b[1;33m,\u001b[0m \u001b[0mnfev\u001b[0m \u001b[1;33m=\u001b[0m \u001b[0mbrent\u001b[0m\u001b[1;33m.\u001b[0m\u001b[0mget_result\u001b[0m\u001b[1;33m(\u001b[0m\u001b[0mfull_output\u001b[0m\u001b[1;33m=\u001b[0m\u001b[1;32mTrue\u001b[0m\u001b[1;33m)\u001b[0m\u001b[1;33m\u001b[0m\u001b[1;33m\u001b[0m\u001b[0m\n\u001b[0;32m   2332\u001b[0m \u001b[1;33m\u001b[0m\u001b[0m\n",
      "\u001b[1;32mc:\\Users\\masat\\anaconda3\\lib\\site-packages\\scipy\\optimize\\optimize.py\u001b[0m in \u001b[0;36moptimize\u001b[1;34m(self)\u001b[0m\n\u001b[0;32m   2112\u001b[0m         \u001b[1;31m# set up for optimization\u001b[0m\u001b[1;33m\u001b[0m\u001b[1;33m\u001b[0m\u001b[1;33m\u001b[0m\u001b[0m\n\u001b[0;32m   2113\u001b[0m         \u001b[0mfunc\u001b[0m \u001b[1;33m=\u001b[0m \u001b[0mself\u001b[0m\u001b[1;33m.\u001b[0m\u001b[0mfunc\u001b[0m\u001b[1;33m\u001b[0m\u001b[1;33m\u001b[0m\u001b[0m\n\u001b[1;32m-> 2114\u001b[1;33m         \u001b[0mxa\u001b[0m\u001b[1;33m,\u001b[0m \u001b[0mxb\u001b[0m\u001b[1;33m,\u001b[0m \u001b[0mxc\u001b[0m\u001b[1;33m,\u001b[0m \u001b[0mfa\u001b[0m\u001b[1;33m,\u001b[0m \u001b[0mfb\u001b[0m\u001b[1;33m,\u001b[0m \u001b[0mfc\u001b[0m\u001b[1;33m,\u001b[0m \u001b[0mfuncalls\u001b[0m \u001b[1;33m=\u001b[0m \u001b[0mself\u001b[0m\u001b[1;33m.\u001b[0m\u001b[0mget_bracket_info\u001b[0m\u001b[1;33m(\u001b[0m\u001b[1;33m)\u001b[0m\u001b[1;33m\u001b[0m\u001b[1;33m\u001b[0m\u001b[0m\n\u001b[0m\u001b[0;32m   2115\u001b[0m         \u001b[0m_mintol\u001b[0m \u001b[1;33m=\u001b[0m \u001b[0mself\u001b[0m\u001b[1;33m.\u001b[0m\u001b[0m_mintol\u001b[0m\u001b[1;33m\u001b[0m\u001b[1;33m\u001b[0m\u001b[0m\n\u001b[0;32m   2116\u001b[0m         \u001b[0m_cg\u001b[0m \u001b[1;33m=\u001b[0m \u001b[0mself\u001b[0m\u001b[1;33m.\u001b[0m\u001b[0m_cg\u001b[0m\u001b[1;33m\u001b[0m\u001b[1;33m\u001b[0m\u001b[0m\n",
      "\u001b[1;32mc:\\Users\\masat\\anaconda3\\lib\\site-packages\\scipy\\optimize\\optimize.py\u001b[0m in \u001b[0;36mget_bracket_info\u001b[1;34m(self)\u001b[0m\n\u001b[0;32m   2087\u001b[0m         \u001b[1;32mif\u001b[0m \u001b[0mbrack\u001b[0m \u001b[1;32mis\u001b[0m \u001b[1;32mNone\u001b[0m\u001b[1;33m:\u001b[0m\u001b[1;33m\u001b[0m\u001b[1;33m\u001b[0m\u001b[0m\n\u001b[0;32m   2088\u001b[0m             \u001b[0mxa\u001b[0m\u001b[1;33m,\u001b[0m \u001b[0mxb\u001b[0m\u001b[1;33m,\u001b[0m \u001b[0mxc\u001b[0m\u001b[1;33m,\u001b[0m \u001b[0mfa\u001b[0m\u001b[1;33m,\u001b[0m \u001b[0mfb\u001b[0m\u001b[1;33m,\u001b[0m \u001b[0mfc\u001b[0m\u001b[1;33m,\u001b[0m \u001b[0mfuncalls\u001b[0m \u001b[1;33m=\u001b[0m \u001b[0mbracket\u001b[0m\u001b[1;33m(\u001b[0m\u001b[0mfunc\u001b[0m\u001b[1;33m,\u001b[0m \u001b[0margs\u001b[0m\u001b[1;33m=\u001b[0m\u001b[0margs\u001b[0m\u001b[1;33m)\u001b[0m\u001b[1;33m\u001b[0m\u001b[1;33m\u001b[0m\u001b[0m\n\u001b[1;32m-> 2089\u001b[1;33m         \u001b[1;32melif\u001b[0m \u001b[0mlen\u001b[0m\u001b[1;33m(\u001b[0m\u001b[0mbrack\u001b[0m\u001b[1;33m)\u001b[0m \u001b[1;33m==\u001b[0m \u001b[1;36m2\u001b[0m\u001b[1;33m:\u001b[0m\u001b[1;33m\u001b[0m\u001b[1;33m\u001b[0m\u001b[0m\n\u001b[0m\u001b[0;32m   2090\u001b[0m             xa, xb, xc, fa, fb, fc, funcalls = bracket(func, xa=brack[0],\n\u001b[0;32m   2091\u001b[0m                                                        xb=brack[1], args=args)\n",
      "\u001b[1;31mTypeError\u001b[0m: object of type 'int' has no len()"
     ]
    }
   ],
   "source": [
    "\n",
    "# create an instance of the Merge class\n",
    "merge = Merge()\n",
    "\n",
    "# call the solve_Q() method to obtain the optimal quantity of the new monopoly\n",
    "merge.solve_Q()\n",
    "\n",
    "# call the surplus() method to obtain the monopoly, consumers, and total surplus\n",
    "merge.surplus()\n"
   ]
  },
  {
   "cell_type": "code",
   "execution_count": 1,
   "metadata": {},
   "outputs": [],
   "source": [
    "class Mergegraph:\n",
    "    \n",
    "    def __init__(self, b_val=1, c_val=1, k=12):\n",
    "        self.b_val = b_val\n",
    "        self.c_val = c_val\n",
    "        self.k = k\n",
    "        self.intersection_x = (2*(self.c_val+self.k - self.c_val)) / (3 * self.b_val)\n",
    "        self.intersection_y = self.c_val+self.k-self.b_val*self.intersection_x\n",
    "        self.x1_vec = self.intersection_x/2\n",
    "        self.x2_vec = self.intersection_x/2\n",
    "        self.p = self.c_val+self.k-self.b_val*(self.x1_vec+self.x2_vec)\n",
    "        self.p_ = (self.c_val+self.k+2*self.c_val)/3\n",
    "\n",
    "    def plot(self):\n",
    "        x1_ = np.linspace(0,13,100)\n",
    "        x2_ = np.linspace(0,13,100)\n",
    "        x_true = x1_+x2_\n",
    "        p_line = self.c_val+self.k-self.b_val*x_true\n",
    "        mask = x_true < 13 # create a boolean mask based on the condition\n",
    "        x_true = x_true[mask] # apply the mask to filter out the values that don't satisfy the condition\n",
    "        p_line = self.c_val + self.k - self.b_val * x_true\n",
    "        fig = plt.figure()\n",
    "        ax = fig.add_subplot(1,1,1)\n",
    "        ax.plot(x_true, p_line, label='p')\n",
    "        ax.axhline(y=self.p_, color='r', linestyle='--', label='p_')\n",
    "        ax.scatter(0, self.c_val+self.k, s=50, marker='o', color='black')\n",
    "        ax.text(0.2, self.c_val+self.k+0.2, 'E', fontsize=15)\n",
    "        ax.scatter(self.intersection_x, self.intersection_y, s=50, marker='o', color='black')\n",
    "        ax.text(self.intersection_x , self.intersection_y + 0.2, 'G', fontsize=15)\n",
    "        ax.scatter(0, self.p_, s=50, marker='o', color='black')\n",
    "        ax.text(0.2, self.p_ + 0.2, 'F', fontsize=15)\n",
    "        ax.scatter(self.intersection_x, 0, s=60, marker='o', color='black')\n",
    "        ax.text(self.intersection_x+0.2, 0.2, 'H', fontsize=15)\n",
    "        ax.fill_between([0, self.intersection_x, 0], [self.c_val+self.k, self.intersection_y, self.p_], [0, 0, 0], where=[True, True, True], interpolate=True, color='blue', alpha=0.2)\n",
    "        xticks = np.arange(1, 15, 2)\n",
    "        ax.set_xticks(xticks)\n",
    "        ax.set_xticklabels(xticks)\n",
    "        yticks = np.arange(1, 15, 2)\n",
    "        ax.set_yticks(yticks)\n",
    "        ax.set_yticklabels(yticks)\n",
    "        ax.set_xlim([0, 14])\n",
    "        ax.set_ylim([0, 14])\n",
    "        plt.gca().set_aspect('equal', adjustable='box')\n",
    "        ax.set_title('Cournot competition - consumer profits and social profits')\n",
    "        ax.set_xlabel('$x$')\n",
    "        ax.set_ylabel('$p$')\n",
    "        ax.legend(loc='upper right');\n"
   ]
  }
 ],
 "metadata": {
  "kernelspec": {
   "display_name": "base",
   "language": "python",
   "name": "python3"
  },
  "language_info": {
   "codemirror_mode": {
    "name": "ipython",
    "version": 3
   },
   "file_extension": ".py",
   "mimetype": "text/x-python",
   "name": "python",
   "nbconvert_exporter": "python",
   "pygments_lexer": "ipython3",
   "version": "3.8.8"
  },
  "orig_nbformat": 4
 },
 "nbformat": 4,
 "nbformat_minor": 2
}
