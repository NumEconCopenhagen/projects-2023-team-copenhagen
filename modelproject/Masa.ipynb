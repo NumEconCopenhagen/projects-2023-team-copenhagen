{
 "cells": [
  {
   "cell_type": "code",
   "execution_count": 6,
   "metadata": {},
   "outputs": [],
   "source": [
    "import numpy as np\n",
    "from scipy import optimize\n",
    "import sympy as sm\n",
    "\n",
    "# autoreload modules when code is run\n",
    "%load_ext autoreload\n",
    "%autoreload 2\n",
    "\n",
    "# local modules\n",
    "import modelproject"
   ]
  },
  {
   "cell_type": "code",
   "execution_count": 7,
   "metadata": {},
   "outputs": [],
   "source": [
    "from types import SimpleNamespace\n",
    "from copy import deepcopy\n",
    "import time\n",
    "import numpy as np\n",
    "from scipy import optimize\n",
    "from scipy import interpolate\n",
    "\n",
    "import matplotlib.pyplot as plt\n",
    "plt.rcParams.update({\"axes.grid\":True,\"grid.color\":\"black\",\"grid.alpha\":\"0.25\",\"grid.linestyle\":\"--\"})\n",
    "plt.rcParams.update({'font.size': 14})"
   ]
  },
  {
   "attachments": {},
   "cell_type": "markdown",
   "metadata": {},
   "source": [
    "To derive the Cournot-Nash equilibrium, we will focus on the example of a duopoly. That is, there are only two firms in the market. We will assume that firms 1 and 2 both produce the same good at the same production cost c1 = c2 = c. \n",
    "\n",
    "We assume demand is a linear function given by p(x) = a - bx where a > 0 and b > 0. If one firm produces x1 and the other produces x2, then the total market quantity is x = x1 + x2. So, we can substitute this expression for x in the following equations. Firm 1's total revenue r1 is then given by the market price times the quantity produced:\n",
    "\n",
    "$$\n",
    "\\begin{aligned}\n",
    "x&=x_{1}+x_{2}\\\\ p&=a-bx\\\\\n",
    "r_{1}&=px_{1}\\\\&=(a-b(x_{1}+x_{2}))x_{1}\\\\ \n",
    "\\end{aligned} \n",
    "$$\n",
    "※analogous for firm 2\n",
    "\n",
    "and firms 1's total profits π1 are calculated as the difference between revenue and production costs: \n",
    "$$\n",
    "\\begin{aligned}\n",
    "π_{1} &= px_{1}-cx_{1} \\\\&= (a-bx)x_{1}-cx_{1} \\\\&= [a-b(x_{1}+x_{2})]x_{1}-cx_{1} \\\\&=-bx_{1}^2-bx_{1}x_{2}+(a-c)x_{1}\\\\\n",
    "\\end{aligned}\n",
    "$$\n",
    "※analogous for firm 2"
   ]
  },
  {
   "attachments": {},
   "cell_type": "markdown",
   "metadata": {},
   "source": [
    "Each firm then chooses the production quantity that maximizes its profits, taking the quantity produced by its competitor into consideration. So, to derive the optimal output, we need to find the quantity q1 that maximizes the profit function for firm 1, taking q2 as given. Analogously, we will do the same for firm 2. To find the optimum, we take the partial derivative of the profit function and set that equation equal to 0:\n",
    "$$\n",
    "\\max_{x1}[π(x_{1})=-bx_{1}^2-bx_{1}x_{2}+(a-c)x_{1}]\\\\\n",
    "\\frac{d}{d\\Delta x_{1}} π(x_{1}) = 0 \\Leftrightarrow −2bx_{1}−bx_{2} +(a−c)=0\\\\\n",
    "x_{1}^* = -\\frac{1}{2}x_{2}+\\frac{a-c}{2b}  \\\\\n",
    "$$\n",
    "and analogously \n",
    "$$\n",
    "\\begin{aligned}\n",
    "x_{2}^* = -\\frac{1}{2}x_{1}+\\frac{a-c}{2b}\n",
    "\\end{aligned}\n",
    "$$"
   ]
  },
  {
   "attachments": {},
   "cell_type": "markdown",
   "metadata": {},
   "source": [
    "The equations x1* and x2* are called the best response functions. They tell us firm 1's optimal output for any quantity produced by firm 2, and firm 2's optimal output for any quantity produced by firm 1.  \n",
    "\n",
    "In the Cournot-Nash equilibrium, both firms will give their best response to each other's actions. To derive the equilibrium, we thus insert the optimal response of firm 2 into firm 1’s equation to calculate its optimal quantity, and vice versa: \n",
    "\n",
    "$$\n",
    "\\begin{aligned}\n",
    "x_{1} &= -\\frac{1}{2}(-\\frac{1}{2}x_{1}+\\frac{a-c}{2b})+\\frac{a-c}{2b}\\\\x_{1}^* &= \\frac{a-c}{3b}\n",
    "\\end{aligned}\n",
    "$$\n",
    "and analogously\n",
    "$$\n",
    "\\begin{aligned}\n",
    "x_{2}^* &= \\frac{a-c}{3b}=x_{1}^*\n",
    "\\end{aligned}\n",
    "$$\n"
   ]
  },
  {
   "attachments": {},
   "cell_type": "markdown",
   "metadata": {},
   "source": [
    "This is the unique Nash equilibrium for the Cournot duopoly. Entering the optimal quantities into the demand function gives us the total quantity x* and the market price p* in the equilibrium:\n",
    "\n",
    "\n",
    "$$\n",
    "\\begin{aligned}\n",
    "x^* &= x_{1}^*+x_{2}^* &=\\frac{2}{3}\\left[\\frac{a-c}{3b}\\right]\\\\\n",
    "p^*&=a-bx*\\\\&=\\frac{a+2b}{3}\n",
    "\\end{aligned}\n",
    "$$"
   ]
  },
  {
   "attachments": {},
   "cell_type": "markdown",
   "metadata": {},
   "source": [
    "In this condition, firm 1's profits π1 is:\n",
    "$$\n",
    "\\begin{aligned}\n",
    "π_{1} &= p^*x_{1}-cx_{1} &= (p^*-c)x_{1}\\\\&= \\frac{(a-c)^2}{9b}\n",
    "\\end{aligned}\n",
    "$$\n",
    "and analogously\n",
    "$$\n",
    "\\begin{aligned}\n",
    "π_{2} = \\frac{(a-c)^2}{9b} = π_{1}\n",
    "\\end{aligned}\n",
    "$$"
   ]
  },
  {
   "attachments": {},
   "cell_type": "markdown",
   "metadata": {},
   "source": [
    "# Analytical solution"
   ]
  },
  {
   "cell_type": "code",
   "execution_count": 8,
   "metadata": {},
   "outputs": [],
   "source": [
    "x = sm.symbols('x')\n",
    "x1 = sm.symbols('x_1')\n",
    "x2 = sm.symbols('x_2')\n",
    "π1 = sm.symbols('π_1')\n",
    "π2 = sm.symbols('π_2')\n",
    "p = sm.symbols('p')\n",
    "a = sm.symbols('a')\n",
    "b = sm.symbols('b')\n",
    "c = sm.symbols('c')"
   ]
  },
  {
   "cell_type": "code",
   "execution_count": null,
   "metadata": {},
   "outputs": [],
   "source": [
    "\n"
   ]
  },
  {
   "cell_type": "code",
   "execution_count": 9,
   "metadata": {},
   "outputs": [
    {
     "data": {
      "text/latex": [
       "$\\displaystyle \\frac{a - b x_{2} - c}{2 b}$"
      ],
      "text/plain": [
       "(a - b*x_2 - c)/(2*b)"
      ]
     },
     "execution_count": 9,
     "metadata": {},
     "output_type": "execute_result"
    }
   ],
   "source": [
    "objective = p*x1 - c*x1\n",
    "price = sm.Eq(a-b*x,p)\n",
    "quantity = sm.Eq(x1+x2,x)\n",
    "p_from_pri = sm.solve(price, p)\n",
    "x_from_pri = sm.solve(quantity, x)\n",
    "objective_subs1 = objective.subs(p, p_from_pri[0])\n",
    "objective_subs2 = objective_subs1.subs(x, x_from_pri[0])\n",
    "foc = sm.diff(objective_subs2, x1)\n",
    "sol = sm.solve(sm.Eq(foc,0), x1)\n",
    "sol[0]"
   ]
  },
  {
   "cell_type": "code",
   "execution_count": 10,
   "metadata": {},
   "outputs": [
    {
     "data": {
      "text/latex": [
       "$\\displaystyle \\frac{a - b x_{1} - c}{2 b}$"
      ],
      "text/plain": [
       "(a - b*x_1 - c)/(2*b)"
      ]
     },
     "execution_count": 10,
     "metadata": {},
     "output_type": "execute_result"
    }
   ],
   "source": [
    "objective_2 = p*x2 - c*x2\n",
    "objective_subs3 = objective_2.subs(p, p_from_pri[0])\n",
    "objective_subs4 = objective_subs3.subs(x, x_from_pri[0])\n",
    "foc_2 = sm.diff(objective_subs4, x2)\n",
    "sol_2 = sm.solve(sm.Eq(foc_2,0), x2)\n",
    "sol_2[0]"
   ]
  },
  {
   "cell_type": "code",
   "execution_count": 11,
   "metadata": {},
   "outputs": [
    {
     "data": {
      "text/latex": [
       "$\\displaystyle \\frac{a - c}{3 b}$"
      ],
      "text/plain": [
       "(a - c)/(3*b)"
      ]
     },
     "execution_count": 11,
     "metadata": {},
     "output_type": "execute_result"
    }
   ],
   "source": [
    "quantity_x1 = sm.Eq((a-b*x2-c)/(2*b),x1)\n",
    "quantity_x2 = sm.Eq((a-b*x1-c)/(2*b),x2)\n",
    "x2_from_qua = sm.solve(quantity_x2, x2)\n",
    "objective_subs5 = quantity_x1.subs(x2, x2_from_qua[0])\n",
    "sol_x1 = sm.solve(objective_subs5, x1)\n",
    "sol_x1[0]\n"
   ]
  },
  {
   "cell_type": "code",
   "execution_count": 12,
   "metadata": {},
   "outputs": [
    {
     "data": {
      "text/latex": [
       "$\\displaystyle \\frac{a - c}{3 b}$"
      ],
      "text/plain": [
       "(a - c)/(3*b)"
      ]
     },
     "execution_count": 12,
     "metadata": {},
     "output_type": "execute_result"
    }
   ],
   "source": [
    "x1_from_qua = sm.solve(quantity_x1, x1)\n",
    "objective_subs6 = quantity_x2.subs(x1, x1_from_qua[0])\n",
    "sol_x2 = sm.solve(objective_subs6, x2)\n",
    "sol_x2[0]"
   ]
  },
  {
   "cell_type": "code",
   "execution_count": 13,
   "metadata": {},
   "outputs": [
    {
     "name": "stdout",
     "output_type": "stream",
     "text": [
      "best response x1(x2): 0.333\n",
      "best response x1(x2): 1.000\n",
      "best response x1(x2): 1.667\n",
      "best response x1(x2): 3.000\n",
      "best response x1(x2): 5.000\n"
     ]
    }
   ],
   "source": [
    "sol_x1_func = sm.lambdify(args = (a,b,c), expr = sol_x1[0])\n",
    "sol_x2_func = sm.lambdify(args = (a,b,c), expr = sol_x2[0])\n",
    "\n",
    "a_vec = np.array([1,2,3,5,8])\n",
    "b_val = 0.5\n",
    "c_val = 0.5\n",
    "\n",
    "best_response_a = sol_x1_func(a_vec, b_val, c_val)\n",
    "for d in best_response_a:\n",
    "    print(f'best response x1(x2): {d:1.3f}')"
   ]
  },
  {
   "attachments": {},
   "cell_type": "markdown",
   "metadata": {},
   "source": [
    "# Numerical solution"
   ]
  },
  {
   "cell_type": "code",
   "execution_count": 32,
   "metadata": {},
   "outputs": [
    {
     "data": {
      "image/png": "[encoded data removed]",
      "text/plain": [
       "<Figure size 432x288 with 1 Axes>"
      ]
     },
     "metadata": {
      "needs_background": "light"
     },
     "output_type": "display_data"
    }
   ],
   "source": [
    "b_val = 0.5\n",
    "c_val = 0.5\n",
    "a_val = 3\n",
    "\n",
    "x2_vec = np.linspace(-5, 5, 100)\n",
    "x1 = (a_val - b_val*x2_vec - c_val)/(2*b_val)\n",
    "x2 = (a_val - b_val*x1 - c_val)/(2*b_val)\n",
    "intersection_x1_x2 = (a_val - c_val)/(3*b_val)\n",
    "\n",
    "\n",
    "fig = plt.figure()\n",
    "\n",
    "# b. create the plot \n",
    "ax = fig.add_subplot(1,1,1)\n",
    "\n",
    "ax.plot(x2,x1,label='$x_{1}$')\n",
    "ax.plot(x1,x2,label='$x_{2}$')\n",
    "ax.scatter(intersection_x1_x2,intersection_x1_x2,s=50, marker='o', color='black',label='Equilibrium')\n",
    "\n",
    "ax.set_xlim([0, 5])\n",
    "ax.set_ylim([0, 5])\n",
    "plt.gca().set_aspect('equal', adjustable='box')\n",
    "ax.set_title('Cournot competition')\n",
    "ax.set_xlabel('$x_2$')\n",
    "ax.set_ylabel('$x_1$')\n",
    "ax.legend(loc='upper right'); # Activate legend (uses the labels in ax.plot())"
   ]
  },
  {
   "cell_type": "code",
   "execution_count": 52,
   "metadata": {},
   "outputs": [
    {
     "data": {
      "image/png": "[encoded data removed]",
      "text/plain": [
       "<Figure size 432x288 with 1 Axes>"
      ]
     },
     "metadata": {
      "needs_background": "light"
     },
     "output_type": "display_data"
    }
   ],
   "source": [
    "b_val = 1\n",
    "c_val = 0.5\n",
    "a_val = 6\n",
    "x_vec = np.linspace(-5, 6, 100)\n",
    "p = a_val-b_val*x_vec\n",
    "p_ = (a_val+2*c_val)/3\n",
    "x_equ = np.linspace(0, (2*(a_val - c_val))/(3*b_val), 100)\n",
    "\n",
    "fig = plt.figure()\n",
    "\n",
    "# b. create the plot \n",
    "ax = fig.add_subplot(1,1,1)\n",
    "\n",
    "ax.plot(x_vec, p, label='p')\n",
    "ax.axhline(y=p_, color='r', linestyle='--', label='p_')\n",
    "ax.fill_between(x_equ, p, p_, where=p >= p_, interpolate=True, color='gray', alpha=0.2)\n",
    "\n",
    "ax.set_xlim([0, 6])\n",
    "ax.set_ylim([0, 6])\n",
    "plt.gca().set_aspect('equal', adjustable='box')\n",
    "ax.set_title('Cournot competition-consumer profits and social profits')\n",
    "ax.set_xlabel('$x$')\n",
    "ax.set_ylabel('$p$')\n",
    "ax.legend(loc='upper right'); # Activate legend (uses the labels in ax.plot())"
   ]
  },
  {
   "cell_type": "code",
   "execution_count": null,
   "metadata": {},
   "outputs": [],
   "source": [
    "ax.plot(p_, label='p_')\n",
    "ax.plot(c_val, label='c')"
   ]
  }
 ],
 "metadata": {
  "kernelspec": {
   "display_name": "base",
   "language": "python",
   "name": "python3"
  },
  "language_info": {
   "codemirror_mode": {
    "name": "ipython",
    "version": 3
   },
   "file_extension": ".py",
   "mimetype": "text/x-python",
   "name": "python",
   "nbconvert_exporter": "python",
   "pygments_lexer": "ipython3",
   "version": "3.8.8"
  },
  "orig_nbformat": 4
 },
 "nbformat": 4,
 "nbformat_minor": 2
}
