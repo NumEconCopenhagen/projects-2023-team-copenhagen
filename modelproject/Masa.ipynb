{
 "cells": [
  {
   "cell_type": "code",
   "execution_count": 1,
   "metadata": {},
   "outputs": [],
   "source": [
    "import numpy as np\n",
    "from scipy import optimize\n",
    "import sympy as sm\n",
    "\n",
    "# autoreload modules when code is run\n",
    "%load_ext autoreload\n",
    "%autoreload 2\n",
    "\n",
    "# local modules\n",
    "import modelproject"
   ]
  },
  {
   "cell_type": "code",
   "execution_count": 2,
   "metadata": {},
   "outputs": [],
   "source": [
    "from types import SimpleNamespace\n",
    "from copy import deepcopy\n",
    "import time\n",
    "import numpy as np\n",
    "from scipy import optimize\n",
    "from scipy import interpolate\n",
    "\n",
    "import matplotlib.pyplot as plt\n",
    "plt.rcParams.update({\"axes.grid\":True,\"grid.color\":\"black\",\"grid.alpha\":\"0.25\",\"grid.linestyle\":\"--\"})\n",
    "plt.rcParams.update({'font.size': 14})"
   ]
  },
  {
   "attachments": {},
   "cell_type": "markdown",
   "metadata": {},
   "source": [
    "To derive the Cournot-Nash equilibrium, we will focus on the example of a duopoly. That is, there are only two firms in the market. We will assume that firms 1 and 2 both produce the same good at the same production cost c1 = c2 = c. \n",
    "\n",
    "We assume demand is a linear function given by p(x) = a - bx where a > 0 and b > 0. If one firm produces x1 and the other produces x2, then the total market quantity is x = x1 + x2. So, we can substitute this expression for x in the following equations. Firm 1's total revenue r1 is then given by the market price times the quantity produced:\n",
    "\n",
    "$$\n",
    "\\begin{aligned}\n",
    "x&=x_{1}+x_{2}\\\\ p&=a-bx\\\\\n",
    "r_{1}&=px_{1}\\\\&=(a-b(x_{1}+x_{2}))x_{1}\\\\ \n",
    "\\end{aligned} \n",
    "$$\n",
    "※analogous for firm 2\n",
    "\n",
    "and firms 1's total profits π1 are calculated as the difference between revenue and production costs: \n",
    "$$\n",
    "\\begin{aligned}\n",
    "π_{1} &= px_{1}-cx_{1} \\\\&= (a-bx)x_{1}-cx_{1} \\\\&= [a-b(x_{1}+x_{2})]x_{1}-cx_{1} \\\\&=-bx_{1}^2-bx_{1}x_{2}+(a-c)x_{1}\\\\\n",
    "\\end{aligned}\n",
    "$$\n",
    "※analogous for firm 2"
   ]
  },
  {
   "attachments": {},
   "cell_type": "markdown",
   "metadata": {},
   "source": [
    "Each firm then chooses the production quantity that maximizes its profits, taking the quantity produced by its competitor into consideration. So, to derive the optimal output, we need to find the quantity q1 that maximizes the profit function for firm 1, taking q2 as given. Analogously, we will do the same for firm 2. To find the optimum, we take the partial derivative of the profit function and set that equation equal to 0:\n",
    "$$\n",
    "\\max_{x1}[π(x_{1})=-bx_{1}^2-bx_{1}x_{2}+(a-c)x_{1}]\\\\\n",
    "\\frac{d}{d\\Delta x_{1}} π(x_{1}) = 0 \\Leftrightarrow −2bx_{1}−bx_{2} +(a−c)=0\\\\\n",
    "x_{1}^* = -\\frac{1}{2}x_{2}+\\frac{a-c}{2b}  \\\\\n",
    "$$\n",
    "and analogously \n",
    "$$\n",
    "\\begin{aligned}\n",
    "x_{2}^* = -\\frac{1}{2}x_{1}+\\frac{a-c}{2b}\n",
    "\\end{aligned}\n",
    "$$"
   ]
  },
  {
   "attachments": {},
   "cell_type": "markdown",
   "metadata": {},
   "source": [
    "The equations x1* and x2* are called the best response functions. They tell us firm 1's optimal output for any quantity produced by firm 2, and firm 2's optimal output for any quantity produced by firm 1.  \n",
    "\n",
    "In the Cournot-Nash equilibrium, both firms will give their best response to each other's actions. To derive the equilibrium, we thus insert the optimal response of firm 2 into firm 1’s equation to calculate its optimal quantity, and vice versa: \n",
    "\n",
    "$$\n",
    "\\begin{aligned}\n",
    "x_{1} &= -\\frac{1}{2}(-\\frac{1}{2}x_{1}+\\frac{a-c}{2b})+\\frac{a-c}{2b}\\\\x_{1}^* &= \\frac{a-c}{3b}\n",
    "\\end{aligned}\n",
    "$$\n",
    "and analogously\n",
    "$$\n",
    "\\begin{aligned}\n",
    "x_{2}^* &= \\frac{a-c}{3b}=x_{1}^*\n",
    "\\end{aligned}\n",
    "$$\n"
   ]
  },
  {
   "attachments": {},
   "cell_type": "markdown",
   "metadata": {},
   "source": [
    "This is the unique Nash equilibrium for the Cournot duopoly. Entering the optimal quantities into the demand function gives us the total quantity x* and the market price p* in the equilibrium:\n",
    "\n",
    "\n",
    "$$\n",
    "\\begin{aligned}\n",
    "x^* &= x_{1}^*+x_{2}^* &=\\frac{2}{3}\\left[\\frac{a-c}{3b}\\right]\\\\\n",
    "p^*&=a-bx*\\\\&=\\frac{a+2b}{3}\n",
    "\\end{aligned}\n",
    "$$"
   ]
  },
  {
   "attachments": {},
   "cell_type": "markdown",
   "metadata": {},
   "source": [
    "In this condition, firm 1's profits π1 is:\n",
    "$$\n",
    "\\begin{aligned}\n",
    "π_{1} &= p^*x_{1}-cx_{1} &= (p^*-c)x_{1}\\\\&= \\frac{(a-c)^2}{9b}\n",
    "\\end{aligned}\n",
    "$$\n",
    "and analogously\n",
    "$$\n",
    "\\begin{aligned}\n",
    "π_{2} = \\frac{(a-c)^2}{9b} = π_{1}\n",
    "\\end{aligned}\n",
    "$$"
   ]
  },
  {
   "attachments": {},
   "cell_type": "markdown",
   "metadata": {},
   "source": [
    "# Analytical solution"
   ]
  },
  {
   "cell_type": "code",
   "execution_count": 3,
   "metadata": {},
   "outputs": [],
   "source": [
    "x = sm.symbols('x')\n",
    "x1 = sm.symbols('x_1')\n",
    "x2 = sm.symbols('x_2')\n",
    "π1 = sm.symbols('π_1')\n",
    "π2 = sm.symbols('π_2')\n",
    "p = sm.symbols('p')\n",
    "a = sm.symbols('a')\n",
    "b = sm.symbols('b')\n",
    "c = sm.symbols('c')"
   ]
  },
  {
   "cell_type": "code",
   "execution_count": 4,
   "metadata": {},
   "outputs": [
    {
     "data": {
      "text/latex": [
       "$\\displaystyle \\frac{a - b x_{2} - c}{2 b}$"
      ],
      "text/plain": [
       "(a - b*x_2 - c)/(2*b)"
      ]
     },
     "execution_count": 4,
     "metadata": {},
     "output_type": "execute_result"
    }
   ],
   "source": [
    "objective = p*x1 - c*x1\n",
    "price = sm.Eq(a-b*x,p)\n",
    "quantity = sm.Eq(x1+x2,x)\n",
    "p_from_pri = sm.solve(price, p)\n",
    "x_from_pri = sm.solve(quantity, x)\n",
    "objective_subs1 = objective.subs(p, p_from_pri[0])\n",
    "objective_subs2 = objective_subs1.subs(x, x_from_pri[0])\n",
    "foc = sm.diff(objective_subs2, x1)\n",
    "sol = sm.solve(sm.Eq(foc,0), x1)\n",
    "sol[0]"
   ]
  },
  {
   "cell_type": "code",
   "execution_count": 5,
   "metadata": {},
   "outputs": [
    {
     "data": {
      "text/latex": [
       "$\\displaystyle \\frac{a - b x_{1} - c}{2 b}$"
      ],
      "text/plain": [
       "(a - b*x_1 - c)/(2*b)"
      ]
     },
     "execution_count": 5,
     "metadata": {},
     "output_type": "execute_result"
    }
   ],
   "source": [
    "objective_2 = p*x2 - c*x2\n",
    "objective_subs3 = objective_2.subs(p, p_from_pri[0])\n",
    "objective_subs4 = objective_subs3.subs(x, x_from_pri[0])\n",
    "foc_2 = sm.diff(objective_subs4, x2)\n",
    "sol_2 = sm.solve(sm.Eq(foc_2,0), x2)\n",
    "sol_2[0]"
   ]
  },
  {
   "cell_type": "code",
   "execution_count": 6,
   "metadata": {},
   "outputs": [
    {
     "data": {
      "text/latex": [
       "$\\displaystyle \\frac{a - c}{3 b}$"
      ],
      "text/plain": [
       "(a - c)/(3*b)"
      ]
     },
     "execution_count": 6,
     "metadata": {},
     "output_type": "execute_result"
    }
   ],
   "source": [
    "quantity_x1 = sm.Eq((a-b*x2-c)/(2*b),x1)\n",
    "quantity_x2 = sm.Eq((a-b*x1-c)/(2*b),x2)\n",
    "x2_from_qua = sm.solve(quantity_x2, x2)\n",
    "objective_subs5 = quantity_x1.subs(x2, x2_from_qua[0])\n",
    "sol_x1 = sm.solve(objective_subs5, x1)\n",
    "sol_x1[0]\n"
   ]
  },
  {
   "cell_type": "code",
   "execution_count": 7,
   "metadata": {},
   "outputs": [
    {
     "data": {
      "text/latex": [
       "$\\displaystyle \\frac{a - c}{3 b}$"
      ],
      "text/plain": [
       "(a - c)/(3*b)"
      ]
     },
     "execution_count": 7,
     "metadata": {},
     "output_type": "execute_result"
    }
   ],
   "source": [
    "x1_from_qua = sm.solve(quantity_x1, x1)\n",
    "objective_subs6 = quantity_x2.subs(x1, x1_from_qua[0])\n",
    "sol_x2 = sm.solve(objective_subs6, x2)\n",
    "sol_x2[0]"
   ]
  },
  {
   "cell_type": "code",
   "execution_count": 8,
   "metadata": {},
   "outputs": [
    {
     "name": "stdout",
     "output_type": "stream",
     "text": [
      "best response x1(x2): 0.333\n",
      "best response x1(x2): 1.000\n",
      "best response x1(x2): 1.667\n",
      "best response x1(x2): 3.000\n",
      "best response x1(x2): 5.000\n"
     ]
    }
   ],
   "source": [
    "sol_x1_func = sm.lambdify(args = (a,b,c), expr = sol_x1[0])\n",
    "sol_x2_func = sm.lambdify(args = (a,b,c), expr = sol_x2[0])\n",
    "\n",
    "a_vec = np.array([1,2,3,5,8])\n",
    "b_val = 0.5\n",
    "c_val = 0.5\n",
    "\n",
    "best_response_a = sol_x1_func(a_vec, b_val, c_val)\n",
    "for d in best_response_a:\n",
    "    print(f'best response x1(x2): {d:1.3f}')"
   ]
  },
  {
   "attachments": {},
   "cell_type": "markdown",
   "metadata": {},
   "source": [
    "# Numerical solution"
   ]
  },
  {
   "cell_type": "code",
   "execution_count": 54,
   "metadata": {},
   "outputs": [
    {
     "data": {
      "text/plain": [
       "array([5.        , 4.94949495, 4.8989899 , 4.84848485, 4.7979798 ,\n",
       "       4.74747475, 4.6969697 , 4.64646465, 4.5959596 , 4.54545455,\n",
       "       4.49494949, 4.44444444, 4.39393939, 4.34343434, 4.29292929,\n",
       "       4.24242424, 4.19191919, 4.14141414, 4.09090909, 4.04040404,\n",
       "       3.98989899, 3.93939394, 3.88888889, 3.83838384, 3.78787879,\n",
       "       3.73737374, 3.68686869, 3.63636364, 3.58585859, 3.53535354,\n",
       "       3.48484848, 3.43434343, 3.38383838, 3.33333333, 3.28282828,\n",
       "       3.23232323, 3.18181818, 3.13131313, 3.08080808, 3.03030303,\n",
       "       2.97979798, 2.92929293, 2.87878788, 2.82828283, 2.77777778,\n",
       "       2.72727273, 2.67676768, 2.62626263, 2.57575758, 2.52525253,\n",
       "       2.47474747, 2.42424242, 2.37373737, 2.32323232, 2.27272727,\n",
       "       2.22222222, 2.17171717, 2.12121212, 2.07070707, 2.02020202,\n",
       "       1.96969697, 1.91919192, 1.86868687, 1.81818182, 1.76767677,\n",
       "       1.71717172, 1.66666667, 1.61616162, 1.56565657, 1.51515152,\n",
       "       1.46464646, 1.41414141, 1.36363636, 1.31313131, 1.26262626,\n",
       "       1.21212121, 1.16161616, 1.11111111, 1.06060606, 1.01010101,\n",
       "       0.95959596, 0.90909091, 0.85858586, 0.80808081, 0.75757576,\n",
       "       0.70707071, 0.65656566, 0.60606061, 0.55555556, 0.50505051,\n",
       "       0.45454545, 0.4040404 , 0.35353535, 0.3030303 , 0.25252525,\n",
       "       0.2020202 , 0.15151515, 0.1010101 , 0.05050505, 0.        ])"
      ]
     },
     "execution_count": 54,
     "metadata": {},
     "output_type": "execute_result"
    }
   ],
   "source": [
    "fix_c = 13\n",
    "val_c = 1\n",
    "b_val = 1\n",
    "p = fix_c-x1-x2\n",
    "\n",
    "x1 + x2 < fix_c\n",
    "x1,x2 > 0\n",
    "π = (p-val_c)*x1-fix_c\n",
    "#differentiate π about x1, and x1=x2\n",
    "π_diff = fix_c-2*x1-x1\n",
    "π_diff = 0\n",
    "x1\n",
    "\n",
    "\n",
    "    \n",
    "    \n",
    "    \n"
   ]
  },
  {
   "cell_type": "code",
   "execution_count": 33,
   "metadata": {},
   "outputs": [
    {
     "data": {
      "image/png": "[encoded data removed]",
      "text/plain": [
       "<Figure size 432x288 with 1 Axes>"
      ]
     },
     "metadata": {
      "needs_background": "light"
     },
     "output_type": "display_data"
    }
   ],
   "source": [
    "b_val = 0.5\n",
    "c_val = 0.5\n",
    "a_val = 3\n",
    "\n",
    "x2_vec = np.linspace(-5, 5, 100)\n",
    "x1 = (a_val - b_val*x2_vec - c_val)/(2*b_val)\n",
    "x2 = (a_val - b_val*x1 - c_val)/(2*b_val)\n",
    "intersection_x1_x2 = (a_val - c_val)/(3*b_val)\n",
    "\n",
    "\n",
    "fig = plt.figure()\n",
    "\n",
    "# b. create the plot \n",
    "ax = fig.add_subplot(1,1,1)\n",
    "\n",
    "ax.plot(x2,x1,label='$x_{1}$')\n",
    "ax.plot(x1,x2,label='$x_{2}$')\n",
    "ax.scatter(intersection_x1_x2,intersection_x1_x2,s=50, marker='o', color='black',label='Cournot-Nash')\n",
    "\n",
    "ax.set_xlim([0, 5])\n",
    "ax.set_ylim([0, 5])\n",
    "plt.gca().set_aspect('equal', adjustable='box')\n",
    "ax.set_title('Cournot competition')\n",
    "ax.set_xlabel('$x_2$')\n",
    "ax.set_ylabel('$x_1$')\n",
    "ax.legend(loc='upper right'); # Activate legend (uses the labels in ax.plot())"
   ]
  },
  {
   "cell_type": "code",
   "execution_count": 32,
   "metadata": {},
   "outputs": [
    {
     "data": {
      "image/png": "[encoded data removed]",
      "text/plain": [
       "<Figure size 432x288 with 1 Axes>"
      ]
     },
     "metadata": {
      "needs_background": "light"
     },
     "output_type": "display_data"
    }
   ],
   "source": [
    "b_val = 1\n",
    "c_val = 0.5\n",
    "a_val = 6\n",
    "x_vec = np.linspace(-5, 6, 100)\n",
    "p = a_val-b_val*x_vec\n",
    "p_ = (a_val+2*c_val)/3\n",
    "x_equ = np.linspace(0, (2*(a_val - c_val))/(3*b_val), 100)\n",
    "intersection_x = (2*(a_val - c_val)) / (3 * b_val)\n",
    "intersection_y = a_val - b_val * intersection_x\n",
    "\n",
    "fig = plt.figure()\n",
    "\n",
    "# create the plot \n",
    "ax = fig.add_subplot(1,1,1)\n",
    "\n",
    "ax.plot(x_vec, p, label='p')\n",
    "ax.axhline(y=p_, color='r', linestyle='--', label='p_')\n",
    "\n",
    "ax.scatter(0, 6, s=50, marker='o', color='black')\n",
    "ax.text(0.2, 6.2, 'E', fontsize=15)\n",
    "ax.scatter(intersection_x, intersection_y, s=50, marker='o', color='black')\n",
    "ax.text(intersection_x , intersection_y + 0.2, 'G', fontsize=15)\n",
    "ax.scatter(0, p_, s=50, marker='o', color='black')\n",
    "ax.text(0.2, p_ + 0.2, 'F', fontsize=15)\n",
    "ax.scatter(intersection_x, 0, s=60, marker='o', color='black')\n",
    "ax.text(intersection_x+0.2, 0.2, 'H', fontsize=15)\n",
    "\n",
    "# fill the area of triangle EFG with blue color\n",
    "ax.fill_between([0, intersection_x, 0], [6, intersection_y, p_], [0, 0, 0], where=[True, True, True], interpolate=True, color='blue', alpha=0.2)\n",
    "\n",
    "ax.set_xlim([0, 7])\n",
    "ax.set_ylim([0, 7])\n",
    "plt.gca().set_aspect('equal', adjustable='box')\n",
    "ax.set_title('Cournot competition - consumer profits and social profits')\n",
    "ax.set_xlabel('$x$')\n",
    "ax.set_ylabel('$p$')\n",
    "ax.legend(loc='upper right'); # Activate legend (uses the labels in ax.plot())"
   ]
  },
  {
   "cell_type": "code",
   "execution_count": 40,
   "metadata": {},
   "outputs": [
    {
     "data": {
      "text/plain": [
       "1.111111111111111"
      ]
     },
     "execution_count": 40,
     "metadata": {},
     "output_type": "execute_result"
    }
   ],
   "source": [
    "GF = (2*(a_val - c_val)) / (3 * b_val)\n",
    "EF = a_val - p_\n",
    "EFG = GF*EF*0.5\n",
    "EFG"
   ]
  },
  {
   "cell_type": "code",
   "execution_count": 48,
   "metadata": {},
   "outputs": [
    {
     "name": "stdout",
     "output_type": "stream",
     "text": [
      "Maximum value of EFG: inf\n"
     ]
    },
    {
     "name": "stderr",
     "output_type": "stream",
     "text": [
      "<ipython-input-48-71f7c971fc69>:16: RuntimeWarning: overflow encountered in double_scalars\n",
      "  return 0.5 * EF * GF\n"
     ]
    }
   ],
   "source": [
    "import numpy as np\n",
    "import matplotlib.pyplot as plt\n",
    "from scipy.optimize import minimize_scalar\n",
    "def E(x):\n",
    "    return a_val - b_val * x\n",
    "\n",
    "def F(x):\n",
    "    return p_\n",
    "\n",
    "def G(x):\n",
    "    return (a_val - c_val) / b_val - (b_val / 3) * x\n",
    "\n",
    "def EFG(x):\n",
    "    EF = E(x) - F(x)\n",
    "    GF = G(x) - F(x)\n",
    "    return 0.5 * EF * GF\n",
    "\n",
    "# find the maximum value of EFG using minimize_scalar\n",
    "res = minimize_scalar(lambda x: -EFG(x), bounds=[0, 6])\n",
    "\n",
    "# print the maximum value of EFG\n",
    "print(\"Maximum value of EFG:\", -res.fun)"
   ]
  }
 ],
 "metadata": {
  "kernelspec": {
   "display_name": "base",
   "language": "python",
   "name": "python3"
  },
  "language_info": {
   "codemirror_mode": {
    "name": "ipython",
    "version": 3
   },
   "file_extension": ".py",
   "mimetype": "text/x-python",
   "name": "python",
   "nbconvert_exporter": "python",
   "pygments_lexer": "ipython3",
   "version": "3.8.8"
  },
  "orig_nbformat": 4
 },
 "nbformat": 4,
 "nbformat_minor": 2
}
