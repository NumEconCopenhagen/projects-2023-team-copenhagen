{
 "cells": [
  {
   "cell_type": "code",
   "execution_count": 1,
   "metadata": {},
   "outputs": [],
   "source": [
    "import numpy as np\n",
    "from scipy import optimize\n",
    "import sympy as sm\n",
    "\n",
    "# autoreload modules when code is run\n",
    "%load_ext autoreload\n",
    "%autoreload 2\n",
    "\n",
    "# local modules\n",
    "import modelproject"
   ]
  },
  {
   "cell_type": "code",
   "execution_count": 99,
   "metadata": {},
   "outputs": [],
   "source": [
    "from types import SimpleNamespace\n",
    "from copy import deepcopy\n",
    "import time\n",
    "import numpy as np\n",
    "from scipy import optimize\n",
    "from scipy import interpolate\n",
    "\n",
    "import matplotlib.pyplot as plt\n",
    "plt.rcParams.update({\"axes.grid\":True,\"grid.color\":\"black\",\"grid.alpha\":\"0.25\",\"grid.linestyle\":\"--\"})\n",
    "plt.rcParams.update({'font.size': 14})"
   ]
  },
  {
   "attachments": {},
   "cell_type": "markdown",
   "metadata": {},
   "source": [
    "To derive the Cournot-Nash equilibrium, we will focus on the example of a duopoly. That is, there are only two firms in the market. We will assume that firms 1 and 2 both produce the same good at the same production cost c1 = c2 = c. \n",
    "\n",
    "We assume demand is a linear function given by p(x) = a - bx where a > 0 and b > 0. If one firm produces x1 and the other produces x2, then the total market quantity is x = x1 + x2. So, we can substitute this expression for x in the following equations. Firm 1's total revenue r1 is then given by the market price times the quantity produced:\n",
    "\n",
    "$$\n",
    "\\begin{aligned}\n",
    "x&=x_{1}+x_{2}\\\\ p&=a-bx\\\\\n",
    "r_{1}&=px_{1}\\\\&=(a-b(x_{1}+x_{2}))x_{1}\\\\ \n",
    "\\end{aligned} \n",
    "$$\n",
    "※analogous for firm 2\n",
    "\n",
    "and firms 1's total profits π1 are calculated as the difference between revenue and production costs: \n",
    "$$\n",
    "\\begin{aligned}\n",
    "π_{1} &= px_{1}-cx_{1} \\\\&= (a-bx)x_{1}-cx_{1} \\\\&= [a-b(x_{1}+x_{2})]x_{1}-cx_{1} \\\\&=-bx_{1}^2-bx_{1}x_{2}+(a-c)x_{1}\\\\\n",
    "\\end{aligned}\n",
    "$$\n",
    "※analogous for firm 2"
   ]
  },
  {
   "attachments": {},
   "cell_type": "markdown",
   "metadata": {},
   "source": [
    "Each firm then chooses the production quantity that maximizes its profits, taking the quantity produced by its competitor into consideration. So, to derive the optimal output, we need to find the quantity q1 that maximizes the profit function for firm 1, taking q2 as given. Analogously, we will do the same for firm 2. To find the optimum, we take the partial derivative of the profit function and set that equation equal to 0:\n",
    "$$\n",
    "\\max_{x1}[π(x_{1})=-bx_{1}^2-bx_{1}x_{2}+(a-c)x_{1}]\\\\\n",
    "\\frac{d}{d\\Delta x_{1}} π(x_{1}) = 0 \\Leftrightarrow −2bx_{1}−bx_{2} +(a−c)=0\\\\\n",
    "x_{1}^* = -\\frac{1}{2}x_{2}+\\frac{a-c}{2b}  \\\\\n",
    "$$\n",
    "and analogously \n",
    "$$\n",
    "\\begin{aligned}\n",
    "x_{2}^* = -\\frac{1}{2}x_{1}+\\frac{a-c}{2b}\n",
    "\\end{aligned}\n",
    "$$"
   ]
  },
  {
   "attachments": {},
   "cell_type": "markdown",
   "metadata": {},
   "source": [
    "The equations x1* and x2* are called the best response functions. They tell us firm 1's optimal output for any quantity produced by firm 2, and firm 2's optimal output for any quantity produced by firm 1.  \n",
    "\n",
    "In the Cournot-Nash equilibrium, both firms will give their best response to each other's actions. To derive the equilibrium, we thus insert the optimal response of firm 2 into firm 1’s equation to calculate its optimal quantity, and vice versa: \n",
    "\n",
    "$$\n",
    "\\begin{aligned}\n",
    "x_{1} &= -\\frac{1}{2}(-\\frac{1}{2}x_{1}+\\frac{a-c}{2b})+\\frac{a-c}{2b}\\\\x_{1}^* &= \\frac{a-c}{3b}\n",
    "\\end{aligned}\n",
    "$$\n",
    "and analogously\n",
    "$$\n",
    "\\begin{aligned}\n",
    "x_{2}^* &= \\frac{a-c}{3b}=x_{1}^*\n",
    "\\end{aligned}\n",
    "$$\n"
   ]
  },
  {
   "attachments": {},
   "cell_type": "markdown",
   "metadata": {},
   "source": [
    "This is the unique Nash equilibrium for the Cournot duopoly. Entering the optimal quantities into the demand function gives us the total quantity x* and the market price p* in the equilibrium:\n",
    "\n",
    "\n",
    "$$\n",
    "\\begin{aligned}\n",
    "x^* &= x_{1}^*+x_{2}^* &=\\frac{2}{3}\\left[\\frac{a-c}{3b}\\right]\\\\\n",
    "p^*&=a-bx*\\\\&=\\frac{a+2b}{3}\n",
    "\\end{aligned}\n",
    "$$"
   ]
  },
  {
   "attachments": {},
   "cell_type": "markdown",
   "metadata": {},
   "source": [
    "In this condition, firm 1's profits π1 is:\n",
    "$$\n",
    "\\begin{aligned}\n",
    "π_{1} &= p^*x_{1}-cx_{1} &= (p^*-c)x_{1}\\\\&= \\frac{(a-c)^2}{9b}\n",
    "\\end{aligned}\n",
    "$$\n",
    "and analogously\n",
    "$$\n",
    "\\begin{aligned}\n",
    "π_{2} = \\frac{(a-c)^2}{9b} = π_{1}\n",
    "\\end{aligned}\n",
    "$$"
   ]
  },
  {
   "attachments": {},
   "cell_type": "markdown",
   "metadata": {},
   "source": [
    "# Analytical solution"
   ]
  },
  {
   "cell_type": "code",
   "execution_count": 16,
   "metadata": {},
   "outputs": [],
   "source": [
    "x = sm.symbols('x')\n",
    "x1 = sm.symbols('x_1')\n",
    "x2 = sm.symbols('x_2')\n",
    "π1 = sm.symbols('π_1')\n",
    "π2 = sm.symbols('π_2')\n",
    "p = sm.symbols('p')\n",
    "a = sm.symbols('a')\n",
    "b = sm.symbols('b')\n",
    "c = sm.symbols('c')\n"
   ]
  },
  {
   "cell_type": "code",
   "execution_count": 79,
   "metadata": {},
   "outputs": [
    {
     "data": {
      "text/latex": [
       "$\\displaystyle \\frac{a - b x_{2} - c}{2 b}$"
      ],
      "text/plain": [
       "(a - b*x_2 - c)/(2*b)"
      ]
     },
     "execution_count": 79,
     "metadata": {},
     "output_type": "execute_result"
    }
   ],
   "source": [
    "objective = p*x1 - c*x1\n",
    "price = sm.Eq(a-b*x,p)\n",
    "quantity = sm.Eq(x1+x2,x)\n",
    "p_from_pri = sm.solve(price, p)\n",
    "x_from_pri = sm.solve(quantity, x)\n",
    "objective_subs1 = objective.subs(p, p_from_pri[0])\n",
    "objective_subs2 = objective_subs1.subs(x, x_from_pri[0])\n",
    "foc = sm.diff(objective_subs2, x1)\n",
    "sol = sm.solve(sm.Eq(foc,0), x1)\n",
    "sol[0]"
   ]
  },
  {
   "cell_type": "code",
   "execution_count": 73,
   "metadata": {},
   "outputs": [
    {
     "data": {
      "text/latex": [
       "$\\displaystyle \\frac{a - b x_{1} - c}{2 b}$"
      ],
      "text/plain": [
       "(a - b*x_1 - c)/(2*b)"
      ]
     },
     "execution_count": 73,
     "metadata": {},
     "output_type": "execute_result"
    }
   ],
   "source": [
    "objective_2 = p*x2 - c*x2\n",
    "objective_subs3 = objective_2.subs(p, p_from_pri[0])\n",
    "objective_subs4 = objective_subs3.subs(x, x_from_pri[0])\n",
    "foc_2 = sm.diff(objective_subs4, x2)\n",
    "sol_2 = sm.solve(sm.Eq(foc_2,0), x2)\n",
    "sol_2[0]"
   ]
  },
  {
   "cell_type": "code",
   "execution_count": 88,
   "metadata": {},
   "outputs": [
    {
     "data": {
      "text/latex": [
       "$\\displaystyle \\frac{a - c}{3 b}$"
      ],
      "text/plain": [
       "(a - c)/(3*b)"
      ]
     },
     "execution_count": 88,
     "metadata": {},
     "output_type": "execute_result"
    }
   ],
   "source": [
    "quantity_x1 = sm.Eq((a-b*x2-c)/(2*b),x1)\n",
    "quantity_x2 = sm.Eq((a-b*x1-c)/(2*b),x2)\n",
    "x2_from_qua = sm.solve(quantity_x2, x2)\n",
    "objective_subs5 = quantity_x1.subs(x2, x2_from_qua[0])\n",
    "sol_x1 = sm.solve(objective_subs5, x1)\n",
    "sol_x1[0]\n"
   ]
  },
  {
   "cell_type": "code",
   "execution_count": 89,
   "metadata": {},
   "outputs": [
    {
     "data": {
      "text/latex": [
       "$\\displaystyle \\frac{a - c}{3 b}$"
      ],
      "text/plain": [
       "(a - c)/(3*b)"
      ]
     },
     "execution_count": 89,
     "metadata": {},
     "output_type": "execute_result"
    }
   ],
   "source": [
    "x1_from_qua = sm.solve(quantity_x1, x1)\n",
    "objective_subs6 = quantity_x2.subs(x1, x1_from_qua[0])\n",
    "sol_x2 = sm.solve(objective_subs6, x2)\n",
    "sol_x2[0]"
   ]
  },
  {
   "cell_type": "code",
   "execution_count": 97,
   "metadata": {},
   "outputs": [
    {
     "name": "stdout",
     "output_type": "stream",
     "text": [
      "best response x1(x2): 0.467\n",
      "best response x1(x2): 1.667\n",
      "best response x1(x2): 3.000\n",
      "best response x1(x2): 5.667\n"
     ]
    }
   ],
   "source": [
    "sol_x1_func = sm.lambdify(args = (a,b,c), expr = sol_x1[0])\n",
    "sol_x2_func = sm.lambdify(args = (a,b,c), expr = sol_x2[0])\n",
    "\n",
    "a_vec = np.array([1.2,3,5,9])\n",
    "b_val = 0.5\n",
    "c_val = 0.5\n",
    "\n",
    "best_response_a = sol_x1_func(a_vec, b_val, c_val)\n",
    "for d in best_response_a:\n",
    "    print(f'best response x1(x2): {d:1.3f}')"
   ]
  },
  {
   "attachments": {},
   "cell_type": "markdown",
   "metadata": {},
   "source": [
    "# Numerical solution"
   ]
  },
  {
   "cell_type": "code",
   "execution_count": 104,
   "metadata": {},
   "outputs": [
    {
     "name": "stdout",
     "output_type": "stream",
     "text": [
      "Cournot-Nash equilibrium: q1 = 1.333, q2 = 1.333\n",
      "Profits at Cournot-Nash equilibrium: π1 = 4.889, π2 = 4.889\n"
     ]
    },
    {
     "data": {
      "image/png": "[encoded data removed]",
      "text/plain": [
       "<Figure size 432x288 with 1 Axes>"
      ]
     },
     "metadata": {
      "needs_background": "light"
     },
     "output_type": "display_data"
    }
   ],
   "source": [
    "import numpy as np\n",
    "import matplotlib.pyplot as plt\n",
    "\n",
    "# Define the parameters\n",
    "a = 10\n",
    "b = 2\n",
    "c = 1\n",
    "\n",
    "# Define the inverse demand function\n",
    "def p(x):\n",
    "    return a - b*x\n",
    "\n",
    "# Define the profit functions\n",
    "def π1(x1,x2):\n",
    "    return (p(x1+x2) - c)*x1\n",
    "\n",
    "def π2(x1,x2):\n",
    "    return (p(x1+x2) - c)*x2\n",
    "\n",
    "# Define a function to find the Cournot-Nash equilibrium\n",
    "def cournot_nash(x1_guess, x2_guess):\n",
    "    error = 1\n",
    "    while error > 1e-6:\n",
    "        x1_new = (a - 2*c - b*x2_guess)/(2*b)\n",
    "        x2_new = (a - 2*c - b*x1_guess)/(2*b)\n",
    "        error = max(abs(x1_new - x1_guess), abs(x2_new - x2_guess))\n",
    "        x1_guess, x2_guess = x1_new, x2_new\n",
    "    return x1_guess, x2_guess\n",
    "\n",
    "# Find the Cournot-Nash equilibrium\n",
    "x1_star, x2_star = cournot_nash(1, 1)\n",
    "\n",
    "# Compute the profits at the Cournot-Nash equilibrium\n",
    "π1_star = π1(x1_star, x2_star)\n",
    "π2_star = π2(x1_star, x2_star)\n",
    "\n",
    "# Print the results\n",
    "print(f\"Cournot-Nash equilibrium: q1 = {x1_star:.3f}, q2 = {x2_star:.3f}\")\n",
    "print(f\"Profits at Cournot-Nash equilibrium: π1 = {π1_star:.3f}, π2 = {π2_star:.3f}\")\n",
    "\n",
    "# Plot the reaction functions\n",
    "x1_vals = np.linspace(0,5,100)\n",
    "x2_vals = np.linspace(0,5,100)\n",
    "\n",
    "plt.plot(x1_vals, (a-2*c-b*x2_vals)/(2*b), label='$R_1(x_2)$')\n",
    "plt.plot(x2_vals, (a-2*c-b*x1_vals)/(2*b), label='$R_2(x_1)$')\n",
    "plt.xlabel('$x_1$,$x_2$')\n",
    "plt.ylabel('Quantity')\n",
    "plt.legend()\n",
    "plt.show()\n"
   ]
  },
  {
   "cell_type": "code",
   "execution_count": 100,
   "metadata": {},
   "outputs": [
    {
     "name": "stderr",
     "output_type": "stream",
     "text": [
      "<>:1: SyntaxWarning: 'int' object is not callable; perhaps you missed a comma?\n",
      "<>:1: SyntaxWarning: 'int' object is not callable; perhaps you missed a comma?\n",
      "<ipython-input-100-db982d01fe17>:1: SyntaxWarning: 'int' object is not callable; perhaps you missed a comma?\n",
      "  f = lambda a: (2(a-c)**2)/(9*b)\n"
     ]
    },
    {
     "ename": "TypeError",
     "evalue": "'int' object is not callable",
     "output_type": "error",
     "traceback": [
      "\u001b[1;31m---------------------------------------------------------------------------\u001b[0m",
      "\u001b[1;31mTypeError\u001b[0m                                 Traceback (most recent call last)",
      "\u001b[1;32m<ipython-input-100-db982d01fe17>\u001b[0m in \u001b[0;36m<module>\u001b[1;34m\u001b[0m\n\u001b[0;32m      2\u001b[0m \u001b[1;33m\u001b[0m\u001b[0m\n\u001b[0;32m      3\u001b[0m \u001b[0mG\u001b[0m \u001b[1;33m=\u001b[0m \u001b[0mnp\u001b[0m\u001b[1;33m.\u001b[0m\u001b[0mlinspace\u001b[0m\u001b[1;33m(\u001b[0m\u001b[1;33m-\u001b[0m\u001b[1;36m5\u001b[0m\u001b[1;33m,\u001b[0m\u001b[1;36m10\u001b[0m\u001b[1;33m,\u001b[0m\u001b[1;36m6\u001b[0m\u001b[1;33m)\u001b[0m\u001b[1;33m\u001b[0m\u001b[1;33m\u001b[0m\u001b[0m\n\u001b[1;32m----> 4\u001b[1;33m \u001b[0mF\u001b[0m \u001b[1;33m=\u001b[0m \u001b[0mf\u001b[0m\u001b[1;33m(\u001b[0m\u001b[0mG\u001b[0m\u001b[1;33m)\u001b[0m\u001b[1;33m\u001b[0m\u001b[1;33m\u001b[0m\u001b[0m\n\u001b[0m",
      "\u001b[1;32m<ipython-input-100-db982d01fe17>\u001b[0m in \u001b[0;36m<lambda>\u001b[1;34m(a)\u001b[0m\n\u001b[1;32m----> 1\u001b[1;33m \u001b[0mf\u001b[0m \u001b[1;33m=\u001b[0m \u001b[1;32mlambda\u001b[0m \u001b[0ma\u001b[0m\u001b[1;33m:\u001b[0m \u001b[1;33m(\u001b[0m\u001b[1;36m2\u001b[0m\u001b[1;33m(\u001b[0m\u001b[0ma\u001b[0m\u001b[1;33m-\u001b[0m\u001b[0mc\u001b[0m\u001b[1;33m)\u001b[0m\u001b[1;33m**\u001b[0m\u001b[1;36m2\u001b[0m\u001b[1;33m)\u001b[0m\u001b[1;33m/\u001b[0m\u001b[1;33m(\u001b[0m\u001b[1;36m9\u001b[0m\u001b[1;33m*\u001b[0m\u001b[0mb\u001b[0m\u001b[1;33m)\u001b[0m\u001b[1;33m\u001b[0m\u001b[1;33m\u001b[0m\u001b[0m\n\u001b[0m\u001b[0;32m      2\u001b[0m \u001b[1;33m\u001b[0m\u001b[0m\n\u001b[0;32m      3\u001b[0m \u001b[0mG\u001b[0m \u001b[1;33m=\u001b[0m \u001b[0mnp\u001b[0m\u001b[1;33m.\u001b[0m\u001b[0mlinspace\u001b[0m\u001b[1;33m(\u001b[0m\u001b[1;33m-\u001b[0m\u001b[1;36m5\u001b[0m\u001b[1;33m,\u001b[0m\u001b[1;36m10\u001b[0m\u001b[1;33m,\u001b[0m\u001b[1;36m6\u001b[0m\u001b[1;33m)\u001b[0m\u001b[1;33m\u001b[0m\u001b[1;33m\u001b[0m\u001b[0m\n\u001b[0;32m      4\u001b[0m \u001b[0mF\u001b[0m \u001b[1;33m=\u001b[0m \u001b[0mf\u001b[0m\u001b[1;33m(\u001b[0m\u001b[0mG\u001b[0m\u001b[1;33m)\u001b[0m\u001b[1;33m\u001b[0m\u001b[1;33m\u001b[0m\u001b[0m\n",
      "\u001b[1;31mTypeError\u001b[0m: 'int' object is not callable"
     ]
    }
   ],
   "source": [
    "f = lambda a: (2(a-c)**2)/(9*b)\n",
    "\n",
    "G = np.linspace(-5,10,6)\n",
    "F = f(G)"
   ]
  },
  {
   "cell_type": "code",
   "execution_count": null,
   "metadata": {},
   "outputs": [],
   "source": [
    "grid = np.linspace(-7,12,500) # 500 makes it \"fine\"\n",
    "F_true = f(grid)"
   ]
  }
 ],
 "metadata": {
  "kernelspec": {
   "display_name": "base",
   "language": "python",
   "name": "python3"
  },
  "language_info": {
   "codemirror_mode": {
    "name": "ipython",
    "version": 3
   },
   "file_extension": ".py",
   "mimetype": "text/x-python",
   "name": "python",
   "nbconvert_exporter": "python",
   "pygments_lexer": "ipython3",
   "version": "3.8.8"
  },
  "orig_nbformat": 4
 },
 "nbformat": 4,
 "nbformat_minor": 2
}
