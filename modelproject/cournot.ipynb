{
 "cells": [
  {
   "cell_type": "code",
   "execution_count": 1,
   "metadata": {},
   "outputs": [],
   "source": [
    "import numpy as np\n",
    "import sympy as sm\n",
    "from scipy import optimize\n",
    "\n",
    "import matplotlib.pyplot as plt\n",
    "plt.rcParams.update({\"axes.grid\":True,\"grid.color\":\"black\",\"grid.alpha\":\"0.25\",\"grid.linestyle\":\"--\"})\n",
    "plt.rcParams.update({'font.size': 14})\n",
    "\n",
    "from IPython.display import display"
   ]
  },
  {
   "attachments": {},
   "cell_type": "markdown",
   "metadata": {},
   "source": [
    "## Cournot Model"
   ]
  },
  {
   "attachments": {},
   "cell_type": "markdown",
   "metadata": {},
   "source": [
    "Cournot Model applies for a market of the structure of a duopoly in which each firm chooses the quantity they want to supply to a demand."
   ]
  },
  {
   "attachments": {},
   "cell_type": "markdown",
   "metadata": {},
   "source": [
    "To solve this we suppose two firms with symetric costs functions and also the production of homogeneous goods"
   ]
  },
  {
   "attachments": {},
   "cell_type": "markdown",
   "metadata": {},
   "source": [
    "The residual demand curve could be consider as what one firm gets of the total demand"
   ]
  },
  {
   "cell_type": "code",
   "execution_count": 2,
   "metadata": {},
   "outputs": [],
   "source": [
    "q1 = sm.Symbol('q1')\n",
    "q2 = sm.Symbol('q2')\n",
    "Q = sm.Symbol('Q')\n",
    "total_Q = (sm.Eq(q1+q2,Q))\n",
    "P = sm.Symbol('P')\n",
    "a = sm.Symbol('a')\n",
    "b = sm.Symbol('b')"
   ]
  },
  {
   "attachments": {},
   "cell_type": "markdown",
   "metadata": {},
   "source": [
    "We use the inverse demand because is a function of the quantities that both firms are going to sell. Q is the sum of the quantities of both firms"
   ]
  },
  {
   "cell_type": "code",
   "execution_count": 3,
   "metadata": {},
   "outputs": [
    {
     "data": {
      "text/latex": [
       "$\\displaystyle - Q b + a$"
      ],
      "text/plain": [
       "-Q*b + a"
      ]
     },
     "execution_count": 3,
     "metadata": {},
     "output_type": "execute_result"
    }
   ],
   "source": [
    "inv_demand = a - b*Q\n",
    "inv_demand"
   ]
  },
  {
   "attachments": {},
   "cell_type": "markdown",
   "metadata": {},
   "source": [
    "Lets derive the residual demand of firm 1"
   ]
  },
  {
   "cell_type": "code",
   "execution_count": 4,
   "metadata": {},
   "outputs": [
    {
     "data": {
      "text/latex": [
       "$\\displaystyle \\frac{- P + a}{b}$"
      ],
      "text/plain": [
       "(-P + a)/b"
      ]
     },
     "execution_count": 4,
     "metadata": {},
     "output_type": "execute_result"
    }
   ],
   "source": [
    "direct_d = sm.Eq(inv_demand,P)\n",
    "direct_demand = sm.solve(direct_d,Q)\n",
    "direct_demand[0]"
   ]
  },
  {
   "cell_type": "code",
   "execution_count": 5,
   "metadata": {},
   "outputs": [
    {
     "data": {
      "text/latex": [
       "$\\displaystyle - q_{2} + \\frac{- P + a}{b} = q_{1}$"
      ],
      "text/plain": [
       "Eq(-q2 + (-P + a)/b, q1)"
      ]
     },
     "execution_count": 5,
     "metadata": {},
     "output_type": "execute_result"
    }
   ],
   "source": [
    "q1 = sm.Symbol('q1')\n",
    "new_q1 = sm.Eq(direct_demand[0]-q2,q1) #get the output of firm 1 based on firm 2 output and demand\n",
    "new_q1 "
   ]
  },
  {
   "cell_type": "code",
   "execution_count": 6,
   "metadata": {},
   "outputs": [
    {
     "data": {
      "text/latex": [
       "$\\displaystyle a - b q_{1} - b q_{2}$"
      ],
      "text/plain": [
       "a - b*q1 - b*q2"
      ]
     },
     "execution_count": 6,
     "metadata": {},
     "output_type": "execute_result"
    }
   ],
   "source": [
    "inverse_demand1 = sm.solve(new_q1,P)\n",
    "inverse_demand1[0]"
   ]
  },
  {
   "attachments": {},
   "cell_type": "markdown",
   "metadata": {},
   "source": [
    "If we do the same for the firm 2 we will get the same result but in function of q1 because of the symmetry"
   ]
  },
  {
   "cell_type": "code",
   "execution_count": 7,
   "metadata": {},
   "outputs": [
    {
     "data": {
      "text/latex": [
       "$\\displaystyle - q_{1} + \\frac{- P + a}{b} = q_{2}$"
      ],
      "text/plain": [
       "Eq(-q1 + (-P + a)/b, q2)"
      ]
     },
     "execution_count": 7,
     "metadata": {},
     "output_type": "execute_result"
    }
   ],
   "source": [
    "new_q2 = sm.Eq(direct_demand[0]-q1,q2)\n",
    "new_q2"
   ]
  },
  {
   "cell_type": "code",
   "execution_count": 8,
   "metadata": {},
   "outputs": [
    {
     "data": {
      "text/latex": [
       "$\\displaystyle a - b q_{1} - b q_{2}$"
      ],
      "text/plain": [
       "a - b*q1 - b*q2"
      ]
     },
     "execution_count": 8,
     "metadata": {},
     "output_type": "execute_result"
    }
   ],
   "source": [
    "inverse_demand2 = sm.solve(new_q2,P)\n",
    "inverse_demand2[0]"
   ]
  },
  {
   "attachments": {},
   "cell_type": "markdown",
   "metadata": {},
   "source": [
    "In the most general case of the Cournot model it is assumed that we have the same cost function for each firm.\n",
    "So lets define a function for the cost"
   ]
  },
  {
   "cell_type": "code",
   "execution_count": 9,
   "metadata": {},
   "outputs": [
    {
     "data": {
      "text/latex": [
       "$\\displaystyle Q c$"
      ],
      "text/plain": [
       "Q*c"
      ]
     },
     "execution_count": 9,
     "metadata": {},
     "output_type": "execute_result"
    }
   ],
   "source": [
    "cost = sm.Symbol('c')\n",
    "cost_func = cost*Q\n",
    "cost_func"
   ]
  },
  {
   "cell_type": "code",
   "execution_count": 10,
   "metadata": {},
   "outputs": [
    {
     "data": {
      "text/latex": [
       "$\\displaystyle \\left|{c}\\right|$"
      ],
      "text/plain": [
       "Abs(c)"
      ]
     },
     "execution_count": 10,
     "metadata": {},
     "output_type": "execute_result"
    }
   ],
   "source": [
    "MC = abs(sm.diff(cost_func,Q)) #marginal cost, is always increasing if we increase the production of the good that's why is always positive\n",
    "MC"
   ]
  },
  {
   "attachments": {},
   "cell_type": "markdown",
   "metadata": {},
   "source": [
    "Now that we have the price of the inverse demand and the quantities that each firm produces and also its cost, so we can get the profit function."
   ]
  },
  {
   "cell_type": "code",
   "execution_count": 11,
   "metadata": {},
   "outputs": [
    {
     "data": {
      "text/latex": [
       "$\\displaystyle - Q c + q_{1} \\left(a - b q_{1} - b q_{2}\\right)$"
      ],
      "text/plain": [
       "-Q*c + q1*(a - b*q1 - b*q2)"
      ]
     },
     "execution_count": 11,
     "metadata": {},
     "output_type": "execute_result"
    }
   ],
   "source": [
    "profit1 = inverse_demand1[0]*q1-cost_func\n",
    "profit1"
   ]
  },
  {
   "cell_type": "code",
   "execution_count": 12,
   "metadata": {},
   "outputs": [
    {
     "data": {
      "text/latex": [
       "$\\displaystyle - Q c + q_{2} \\left(a - b q_{1} - b q_{2}\\right)$"
      ],
      "text/plain": [
       "-Q*c + q2*(a - b*q1 - b*q2)"
      ]
     },
     "execution_count": 12,
     "metadata": {},
     "output_type": "execute_result"
    }
   ],
   "source": [
    "profit2 = inverse_demand2[0]*q2-cost_func\n",
    "profit2"
   ]
  },
  {
   "cell_type": "code",
   "execution_count": 13,
   "metadata": {},
   "outputs": [
    {
     "name": "stdout",
     "output_type": "stream",
     "text": [
      "Eq(a - 2*b*q1 - b*q2 - c, 0)\n"
     ]
    },
    {
     "data": {
      "text/latex": [
       "$\\displaystyle \\frac{a - b q_{2} - c}{2 b} = q_{1}$"
      ],
      "text/plain": [
       "Eq((a - b*q2 - c)/(2*b), q1)"
      ]
     },
     "execution_count": 13,
     "metadata": {},
     "output_type": "execute_result"
    }
   ],
   "source": [
    "FOC1 = sm.diff(inverse_demand1[0]*q1,q1) - sm.diff(cost_func,Q)\n",
    "FOC1 = sm.Eq(FOC1,0) #equal to 0 so we can solve for the optimize q1\n",
    "print(FOC1)\n",
    "\n",
    "opt_q1 = sm.solve(FOC1,q1)\n",
    "opt_q1f = sm.Eq(opt_q1[0],q1)\n",
    "opt_q1f"
   ]
  },
  {
   "cell_type": "code",
   "execution_count": 14,
   "metadata": {},
   "outputs": [
    {
     "name": "stdout",
     "output_type": "stream",
     "text": [
      "Eq(a - b*q1 - 2*b*q2 - c, 0)\n"
     ]
    },
    {
     "data": {
      "text/latex": [
       "$\\displaystyle \\frac{a - b q_{1} - c}{2 b} = q_{2}$"
      ],
      "text/plain": [
       "Eq((a - b*q1 - c)/(2*b), q2)"
      ]
     },
     "execution_count": 14,
     "metadata": {},
     "output_type": "execute_result"
    }
   ],
   "source": [
    "FOC2 = sm.diff(inverse_demand2[0]*q2,q2) - sm.diff(cost_func,Q)\n",
    "FOC2 = sm.Eq(FOC2,0) #equal to 0 so we can solve for the optimize q1\n",
    "print(FOC2)\n",
    "\n",
    "opt_q2 = sm.solve(FOC2,q2)\n",
    "opt_q2f = sm.Eq(opt_q2[0],q2)\n",
    "opt_q2f"
   ]
  },
  {
   "attachments": {},
   "cell_type": "markdown",
   "metadata": {},
   "source": [
    "When we get the optimal output of each firm it can be observed that it depends on the output of the other, so at the end the equilibrium in the market is going to be a **Nash equilibrium** between both outputs."
   ]
  },
  {
   "cell_type": "code",
   "execution_count": 15,
   "metadata": {},
   "outputs": [
    {
     "data": {
      "text/latex": [
       "$\\displaystyle \\frac{a - c}{3 b}$"
      ],
      "text/plain": [
       "(a - c)/(3*b)"
      ]
     },
     "execution_count": 15,
     "metadata": {},
     "output_type": "execute_result"
    }
   ],
   "source": [
    "c = sm.Symbol('c')\n",
    "#in this part we want to get the value of q1 when we equal the optimal quantity of both firms\n",
    "sol1 = opt_q1[0].subs(q2,opt_q2[0])\n",
    "sub1 = sm.Eq(sol1,q1)\n",
    "sol_sub1 = sm.solve(sub1,q1)\n",
    "sol_sub1[0]"
   ]
  },
  {
   "cell_type": "code",
   "execution_count": 16,
   "metadata": {},
   "outputs": [
    {
     "data": {
      "text/latex": [
       "$\\displaystyle \\frac{a - c}{3 b}$"
      ],
      "text/plain": [
       "(a - c)/(3*b)"
      ]
     },
     "execution_count": 16,
     "metadata": {},
     "output_type": "execute_result"
    }
   ],
   "source": [
    "#we do the same but for the case of the firm 2\n",
    "sol2 = opt_q2[0].subs(q1,opt_q1[0])\n",
    "sub2 = sm.Eq(sol2,q2)\n",
    "sol_sub2= sm.solve(sub2,q2)\n",
    "sol_sub2[0]"
   ]
  },
  {
   "cell_type": "code",
   "execution_count": 17,
   "metadata": {},
   "outputs": [
    {
     "name": "stdout",
     "output_type": "stream",
     "text": [
      "best response q1(q2): 0.333\n",
      "best response q1(q2): 1.000\n",
      "best response q1(q2): 1.667\n",
      "best response q1(q2): 3.000\n",
      "best response q1(q2): 5.000\n"
     ]
    }
   ],
   "source": [
    "#we create functions for the result that we obtain\n",
    "sol_q1_func = sm.lambdify(args = (a,b,c), expr = sol_sub1[0])\n",
    "sol_q2_func = sm.lambdify(args = (a,b,c), expr = sol_sub2[0])\n",
    "\n",
    "a_vec = np.array([1,2,3,5,8])\n",
    "b_val = 0.5\n",
    "c_val = 0.5\n",
    "\n",
    "best_response_a = sol_q1_func(a_vec, b_val, c_val)\n",
    "for d in best_response_a:\n",
    "    print(f'best response q1(q2): {d:1.3f}')"
   ]
  },
  {
   "attachments": {},
   "cell_type": "markdown",
   "metadata": {},
   "source": [
    "In this condition, the relation between firm1 and firm2 is below:"
   ]
  },
  {
   "cell_type": "code",
   "execution_count": 18,
   "metadata": {},
   "outputs": [
    {
     "data": {
      "image/png": "[encoded data removed]",
      "text/plain": [
       "<Figure size 432x288 with 1 Axes>"
      ]
     },
     "metadata": {
      "needs_background": "light"
     },
     "output_type": "display_data"
    }
   ],
   "source": [
    "b_val = 0.5\n",
    "c_val = 0.5\n",
    "a_val = 3\n",
    "\n",
    "q2_vec = np.linspace(-5, 5, 100)\n",
    "q1 = (a_val - b_val*q2_vec - c_val)/(2*b_val)\n",
    "q2 = (a_val - b_val*q1 - c_val)/(2*b_val)\n",
    "intersection_q1_q2 = (a_val - c_val)/(3*b_val)\n",
    "\n",
    "\n",
    "fig = plt.figure()\n",
    "\n",
    "# b. create the plot \n",
    "ax = fig.add_subplot(1,1,1)\n",
    "\n",
    "ax.plot(q2,q1,label='$q_{1}$')\n",
    "ax.plot(q1,q2,label='$q_{2}$')\n",
    "ax.scatter(intersection_q1_q2,intersection_q1_q2,s=50, marker='o', color='black',label='Equilibrium')\n",
    "\n",
    "ax.set_xlim([0, 5])\n",
    "ax.set_ylim([0, 5])\n",
    "plt.gca().set_aspect('equal', adjustable='box')\n",
    "ax.set_title('Cournot competition')\n",
    "ax.set_xlabel('$q_2$')\n",
    "ax.set_ylabel('$q_1$')\n",
    "ax.legend(loc='upper right'); # Activate legend (uses the labels in ax.plot())"
   ]
  },
  {
   "attachments": {},
   "cell_type": "markdown",
   "metadata": {},
   "source": [
    "## Numerical Analysis"
   ]
  },
  {
   "attachments": {},
   "cell_type": "markdown",
   "metadata": {},
   "source": [
    "First we are going to solve when the firm 2 has a fixed output of 6, we are going to get the output that maximizes the profits for the firm1."
   ]
  },
  {
   "cell_type": "code",
   "execution_count": 19,
   "metadata": {},
   "outputs": [],
   "source": [
    "# Ensures automatic reloading of module\n",
    "%load_ext autoreload \n",
    "%autoreload 2\n",
    "# Import all functions from module \"cournot1\" \n",
    "from cournot1 import *"
   ]
  },
  {
   "cell_type": "code",
   "execution_count": 20,
   "metadata": {},
   "outputs": [
    {
     "name": "stdout",
     "output_type": "stream",
     "text": [
      "The optimal output for Fimr 1 is: 3.00 units\n"
     ]
    }
   ],
   "source": [
    "test = Firm1()\n",
    "\n",
    "test.solve_q1()"
   ]
  },
  {
   "attachments": {},
   "cell_type": "markdown",
   "metadata": {},
   "source": [
    "Now we are going to a different case where we don't know which is the best output for both firms, we are going to get the Nash equilibrium."
   ]
  },
  {
   "cell_type": "code",
   "execution_count": 21,
   "metadata": {},
   "outputs": [
    {
     "name": "stdout",
     "output_type": "stream",
     "text": [
      "The optimal output for Fimr 1 is: 3.00 units.\n",
      "The optimal output for Fimr 2 is: 3.00 units\n"
     ]
    }
   ],
   "source": [
    "from cournot2 import *\n",
    "\n",
    "test2 = Nash_Eq()\n",
    "\n",
    "test2.solve_q1_q2()\n",
    "\n",
    "test_q1 = test2.q1\n",
    "test_q2 = test2.q2"
   ]
  },
  {
   "attachments": {},
   "cell_type": "markdown",
   "metadata": {},
   "source": [
    "We can observe that both firms produce the same because both have symmetric costs and they face the same demand"
   ]
  },
  {
   "attachments": {},
   "cell_type": "markdown",
   "metadata": {},
   "source": [
    "## Extension"
   ]
  },
  {
   "attachments": {},
   "cell_type": "markdown",
   "metadata": {},
   "source": [
    "For the extension we are going to suppose a case where we have two firms that decide to merge and become a monopoly, the cost of the monopoly is going to be the one that belongs to the most efficient firm, at the end we are going to compare the total surplus in the market to the one where we have the previous situation."
   ]
  },
  {
   "cell_type": "code",
   "execution_count": 23,
   "metadata": {},
   "outputs": [
    {
     "name": "stdout",
     "output_type": "stream",
     "text": [
      "The optimal output for Fimr 1 is: 3.00 units.\n",
      "The optimal output for Fimr 2 is: 3.00 units\n",
      "The total surplus is 54.00,               the surplus for the Firm 1 is 18.00 and for the Firm 2 is 18.00              the surplus of the consumers is 18.00\n"
     ]
    }
   ],
   "source": [
    "duopoly = Nash_Eq()\n",
    "duopoly.solve_q1_q2()\n",
    "duopoly.surplus()"
   ]
  },
  {
   "cell_type": "code",
   "execution_count": 5,
   "metadata": {},
   "outputs": [],
   "source": [
    "from merge_cournot import *"
   ]
  },
  {
   "cell_type": "code",
   "execution_count": 8,
   "metadata": {},
   "outputs": [
    {
     "name": "stdout",
     "output_type": "stream",
     "text": [
      "The optimal output for the monopoly is 5.50\n",
      "The total surplus is 45.38,               the surplus for the mopoly is 30.25 and               the surplus of the consumers is 15.12\n"
     ]
    }
   ],
   "source": [
    "uuu = Merge()\n",
    "uuu.solve_Q()\n",
    "uuu.surplus()"
   ]
  },
  {
   "attachments": {},
   "cell_type": "markdown",
   "metadata": {},
   "source": [
    "## Conclusion"
   ]
  },
  {
   "attachments": {},
   "cell_type": "markdown",
   "metadata": {},
   "source": [
    "We can observe that both firms produce the same because both have symmetric costs and they face the same demand\n",
    "\n",
    "It can be observed that in the case of the monoploy the total surplus is lower than in a case of a dupoly, that is why we recommend to the governments to try to avoid collusion between firms. \n",
    "\n",
    "Nash Equilibrium: When two or more firms are competing in a market, they will try to maximize their profits, leading to a Nash equilibrium where no firm can increase its profits by changing its strategy unilaterally. In such a scenario, both firms produce the same because both have symmetric costs and they face the same demand.\n",
    "\n",
    "Merge: If the two firms merge, they can eliminate competition and become a monopoly, but the profits are lower than Nash Equilibrium. "
   ]
  }
 ],
 "metadata": {
  "kernelspec": {
   "display_name": "base",
   "language": "python",
   "name": "python3"
  },
  "language_info": {
   "codemirror_mode": {
    "name": "ipython",
    "version": 3
   },
   "file_extension": ".py",
   "mimetype": "text/x-python",
   "name": "python",
   "nbconvert_exporter": "python",
   "pygments_lexer": "ipython3",
   "version": "3.8.8"
  },
  "orig_nbformat": 4
 },
 "nbformat": 4,
 "nbformat_minor": 2
}
