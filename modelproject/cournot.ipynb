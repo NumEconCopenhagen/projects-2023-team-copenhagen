{
 "cells": [
  {
   "cell_type": "code",
   "execution_count": 84,
   "metadata": {},
   "outputs": [],
   "source": [
    "import numpy as np\n",
    "import sympy as sm\n",
    "from scipy import optimize\n",
    "\n",
    "import matplotlib.pyplot as plt\n",
    "plt.rcParams.update({\"axes.grid\":True,\"grid.color\":\"black\",\"grid.alpha\":\"0.25\",\"grid.linestyle\":\"--\"})\n",
    "plt.rcParams.update({'font.size': 14})\n",
    "\n",
    "from IPython.display import display"
   ]
  },
  {
   "attachments": {},
   "cell_type": "markdown",
   "metadata": {},
   "source": [
    "## Cournot Model"
   ]
  },
  {
   "attachments": {},
   "cell_type": "markdown",
   "metadata": {},
   "source": [
    "Cournot Model applies for a market of the structure of a duopoly in which each firm chooses the quantity they want to supply to a demand."
   ]
  },
  {
   "attachments": {},
   "cell_type": "markdown",
   "metadata": {},
   "source": [
    "To solve this we suppose two firms with symetric costs functions and also the production of homogeneous goods"
   ]
  },
  {
   "attachments": {},
   "cell_type": "markdown",
   "metadata": {},
   "source": [
    "The residual demand curve could be consider as what one firm gets of the total demand"
   ]
  },
  {
   "cell_type": "code",
   "execution_count": 192,
   "metadata": {},
   "outputs": [],
   "source": [
    "q1 = sm.Symbol('q1')\n",
    "q2 = sm.Symbol('q2')\n",
    "Q = sm.Symbol('Q')\n",
    "total_Q = (sm.Eq(q1+q2,Q))\n",
    "P = sm.Symbol('P')\n",
    "a = sm.Symbol('a')\n",
    "b = sm.Symbol('b')"
   ]
  },
  {
   "cell_type": "code",
   "execution_count": 86,
   "metadata": {},
   "outputs": [
    {
     "data": {
      "text/latex": [
       "$\\displaystyle - Q b + a$"
      ],
      "text/plain": [
       "-Q*b + a"
      ]
     },
     "execution_count": 86,
     "metadata": {},
     "output_type": "execute_result"
    }
   ],
   "source": [
    "inv_demand = a - b*Q\n",
    "inv_demand"
   ]
  },
  {
   "attachments": {},
   "cell_type": "markdown",
   "metadata": {},
   "source": [
    "We use the inverse demand because is a function of the quantities that both firms are going to sell. Q is the sum of the quantities of both firms"
   ]
  },
  {
   "attachments": {},
   "cell_type": "markdown",
   "metadata": {},
   "source": [
    "Lets derive the residual demand of firm 1"
   ]
  },
  {
   "cell_type": "code",
   "execution_count": 87,
   "metadata": {},
   "outputs": [
    {
     "data": {
      "text/latex": [
       "$\\displaystyle \\frac{- P + a}{b}$"
      ],
      "text/plain": [
       "(-P + a)/b"
      ]
     },
     "execution_count": 87,
     "metadata": {},
     "output_type": "execute_result"
    }
   ],
   "source": [
    "direct_d = sm.Eq(inv_demand,P)\n",
    "direct_demand = sm.solve(direct_d,Q)\n",
    "direct_demand[0]"
   ]
  },
  {
   "cell_type": "code",
   "execution_count": 88,
   "metadata": {},
   "outputs": [
    {
     "data": {
      "text/latex": [
       "$\\displaystyle - q_{2} + \\frac{- P + a}{b} = q_{1}$"
      ],
      "text/plain": [
       "Eq(-q2 + (-P + a)/b, q1)"
      ]
     },
     "execution_count": 88,
     "metadata": {},
     "output_type": "execute_result"
    }
   ],
   "source": [
    "q1 = sm.Symbol('q1')\n",
    "new_q1 = sm.Eq(direct_demand[0]-q2,q1) #get the output of firm 1 based on firm 2 output and demand\n",
    "new_q1 "
   ]
  },
  {
   "cell_type": "code",
   "execution_count": 89,
   "metadata": {},
   "outputs": [
    {
     "data": {
      "text/latex": [
       "$\\displaystyle a - b q_{1} - b q_{2}$"
      ],
      "text/plain": [
       "a - b*q1 - b*q2"
      ]
     },
     "execution_count": 89,
     "metadata": {},
     "output_type": "execute_result"
    }
   ],
   "source": [
    "inverse_demand1 = sm.solve(new_q1,P)\n",
    "inverse_demand1[0]"
   ]
  },
  {
   "attachments": {},
   "cell_type": "markdown",
   "metadata": {},
   "source": [
    "If we do the same for the firm 2 we will get the same result but in function of q1 because of the symmetry"
   ]
  },
  {
   "cell_type": "code",
   "execution_count": 90,
   "metadata": {},
   "outputs": [
    {
     "data": {
      "text/latex": [
       "$\\displaystyle - q_{1} + \\frac{- P + a}{b} = q_{2}$"
      ],
      "text/plain": [
       "Eq(-q1 + (-P + a)/b, q2)"
      ]
     },
     "execution_count": 90,
     "metadata": {},
     "output_type": "execute_result"
    }
   ],
   "source": [
    "new_q2 = sm.Eq(direct_demand[0]-q1,q2)\n",
    "new_q2"
   ]
  },
  {
   "cell_type": "code",
   "execution_count": 91,
   "metadata": {},
   "outputs": [
    {
     "data": {
      "text/latex": [
       "$\\displaystyle a - b q_{1} - b q_{2}$"
      ],
      "text/plain": [
       "a - b*q1 - b*q2"
      ]
     },
     "execution_count": 91,
     "metadata": {},
     "output_type": "execute_result"
    }
   ],
   "source": [
    "inverse_demand2 = sm.solve(new_q2,P)\n",
    "inverse_demand2[0]"
   ]
  },
  {
   "attachments": {},
   "cell_type": "markdown",
   "metadata": {},
   "source": [
    "In the most general case of the Cournot model it is assumed that we have the same cost function for each firm.\n",
    "So lets define a function for the cost"
   ]
  },
  {
   "cell_type": "code",
   "execution_count": 92,
   "metadata": {},
   "outputs": [
    {
     "data": {
      "text/latex": [
       "$\\displaystyle Q c$"
      ],
      "text/plain": [
       "Q*c"
      ]
     },
     "execution_count": 92,
     "metadata": {},
     "output_type": "execute_result"
    }
   ],
   "source": [
    "cost = sm.Symbol('c')\n",
    "cost_func = cost*Q\n",
    "cost_func"
   ]
  },
  {
   "cell_type": "code",
   "execution_count": 93,
   "metadata": {},
   "outputs": [
    {
     "data": {
      "text/latex": [
       "$\\displaystyle \\left|{c}\\right|$"
      ],
      "text/plain": [
       "Abs(c)"
      ]
     },
     "execution_count": 93,
     "metadata": {},
     "output_type": "execute_result"
    }
   ],
   "source": [
    "MC = abs(sm.diff(cost_func,Q)) #marginal cost, is always increasing if we increase the production of the good that's why is always positive\n",
    "MC"
   ]
  },
  {
   "attachments": {},
   "cell_type": "markdown",
   "metadata": {},
   "source": [
    "Now that we have the price that is the inverse demand and the quantities that each firm produces and also it's cost we can get the profit function"
   ]
  },
  {
   "cell_type": "code",
   "execution_count": 94,
   "metadata": {},
   "outputs": [
    {
     "data": {
      "text/latex": [
       "$\\displaystyle - Q c + q_{1} \\left(a - b q_{1} - b q_{2}\\right)$"
      ],
      "text/plain": [
       "-Q*c + q1*(a - b*q1 - b*q2)"
      ]
     },
     "execution_count": 94,
     "metadata": {},
     "output_type": "execute_result"
    }
   ],
   "source": [
    "profit1 = inverse_demand1[0]*q1-cost_func\n",
    "profit1"
   ]
  },
  {
   "cell_type": "code",
   "execution_count": 95,
   "metadata": {},
   "outputs": [
    {
     "data": {
      "text/latex": [
       "$\\displaystyle - Q c + q_{2} \\left(a - b q_{1} - b q_{2}\\right)$"
      ],
      "text/plain": [
       "-Q*c + q2*(a - b*q1 - b*q2)"
      ]
     },
     "execution_count": 95,
     "metadata": {},
     "output_type": "execute_result"
    }
   ],
   "source": [
    "profit2 = inverse_demand2[0]*q2-cost_func\n",
    "profit2"
   ]
  },
  {
   "cell_type": "code",
   "execution_count": 168,
   "metadata": {},
   "outputs": [
    {
     "name": "stdout",
     "output_type": "stream",
     "text": [
      "Eq(a - 2*b*q1 - b*q2 - c, 0)\n"
     ]
    },
    {
     "data": {
      "text/latex": [
       "$\\displaystyle \\frac{a - b q_{2} - c}{2 b} = q_{1}$"
      ],
      "text/plain": [
       "Eq((a - b*q2 - c)/(2*b), q1)"
      ]
     },
     "execution_count": 168,
     "metadata": {},
     "output_type": "execute_result"
    }
   ],
   "source": [
    "FOC1 = sm.diff(inverse_demand1[0]*q1,q1) - sm.diff(cost_func,Q)\n",
    "FOC1 = sm.Eq(FOC1,0) #equal to 0 so we can solve for the optimize q1\n",
    "print(FOC1)\n",
    "\n",
    "opt_q1 = sm.solve(FOC1,q1)\n",
    "opt_q1f = sm.Eq(opt_q1[0],q1)\n",
    "opt_q1f"
   ]
  },
  {
   "cell_type": "code",
   "execution_count": 169,
   "metadata": {},
   "outputs": [
    {
     "name": "stdout",
     "output_type": "stream",
     "text": [
      "Eq(a - b*q1 - 2*b*q2 - c, 0)\n"
     ]
    },
    {
     "data": {
      "text/latex": [
       "$\\displaystyle \\frac{a - b q_{1} - c}{2 b} = q_{2}$"
      ],
      "text/plain": [
       "Eq((a - b*q1 - c)/(2*b), q2)"
      ]
     },
     "execution_count": 169,
     "metadata": {},
     "output_type": "execute_result"
    }
   ],
   "source": [
    "FOC2 = sm.diff(inverse_demand2[0]*q2,q2) - sm.diff(cost_func,Q)\n",
    "FOC2 = sm.Eq(FOC2,0) #equal to 0 so we can solve for the optimize q1\n",
    "print(FOC2)\n",
    "\n",
    "opt_q2 = sm.solve(FOC2,q2)\n",
    "opt_q2f = sm.Eq(opt_q2[0],q2)\n",
    "opt_q2f"
   ]
  },
  {
   "attachments": {},
   "cell_type": "markdown",
   "metadata": {},
   "source": [
    "## When we get the optimal output of each firm it can be observed that it depends on the output of the other, so at the end the equilibrium in the market is going to be a Nash equilibrium between both outputs."
   ]
  },
  {
   "cell_type": "code",
   "execution_count": 183,
   "metadata": {},
   "outputs": [
    {
     "data": {
      "text/latex": [
       "$\\displaystyle \\frac{a - c}{3 b}$"
      ],
      "text/plain": [
       "(a - c)/(3*b)"
      ]
     },
     "execution_count": 183,
     "metadata": {},
     "output_type": "execute_result"
    }
   ],
   "source": [
    "c = sm.Symbol('c')\n",
    "#in this part we want to get the value of q1 when we equal the optimal quantity of both firms\n",
    "sol1 = opt_q1[0].subs(q2,opt_q2[0])\n",
    "sub1 = sm.Eq(sol1,q1)\n",
    "sol_sub1 = sm.solve(sub1,q1)\n",
    "sol_sub1[0]"
   ]
  },
  {
   "cell_type": "code",
   "execution_count": 184,
   "metadata": {},
   "outputs": [
    {
     "data": {
      "text/latex": [
       "$\\displaystyle \\frac{a - c}{3 b}$"
      ],
      "text/plain": [
       "(a - c)/(3*b)"
      ]
     },
     "execution_count": 184,
     "metadata": {},
     "output_type": "execute_result"
    }
   ],
   "source": [
    "#we do the same but for the case of the firm 2\n",
    "sol2 = opt_q2[0].subs(q1,opt_q1[0])\n",
    "sub2 = sm.Eq(sol2,q2)\n",
    "sol_sub2= sm.solve(sub2,q2)\n",
    "sol_sub2[0]"
   ]
  },
  {
   "cell_type": "code",
   "execution_count": 193,
   "metadata": {},
   "outputs": [
    {
     "name": "stdout",
     "output_type": "stream",
     "text": [
      "best response q1(q2): 0.333\n",
      "best response q1(q2): 1.000\n",
      "best response q1(q2): 1.667\n",
      "best response q1(q2): 3.000\n",
      "best response q1(q2): 5.000\n"
     ]
    }
   ],
   "source": [
    "#we create functions for the result that we obtain\n",
    "sol_q1_func = sm.lambdify(args = (a,b,c), expr = sol_sub1[0])\n",
    "sol_q2_func = sm.lambdify(args = (a,b,c), expr = sol_sub2[0])\n",
    "\n",
    "a_vec = np.array([1,2,3,5,8])\n",
    "b_val = 0.5\n",
    "c_val = 0.5\n",
    "\n",
    "best_response_a = sol_q1_func(a_vec, b_val, c_val)\n",
    "for d in best_response_a:\n",
    "    print(f'best response q1(q2): {d:1.3f}')"
   ]
  },
  {
   "cell_type": "code",
   "execution_count": 195,
   "metadata": {},
   "outputs": [
    {
     "data": {
      "image/png": "[encoded data removed]",
      "text/plain": [
       "<Figure size 640x480 with 1 Axes>"
      ]
     },
     "metadata": {},
     "output_type": "display_data"
    }
   ],
   "source": [
    "b_val = 0.5\n",
    "c_val = 0.5\n",
    "a_val = 3\n",
    "\n",
    "q2_vec = np.linspace(-5, 5, 100)\n",
    "q1 = (a_val - b_val*q2_vec - c_val)/(2*b_val)\n",
    "q2 = (a_val - b_val*q1 - c_val)/(2*b_val)\n",
    "intersection_q1_q2 = (a_val - c_val)/(3*b_val)\n",
    "\n",
    "\n",
    "fig = plt.figure()\n",
    "\n",
    "# b. create the plot \n",
    "ax = fig.add_subplot(1,1,1)\n",
    "\n",
    "ax.plot(q2,q1,label='$q_{1}$')\n",
    "ax.plot(q1,q2,label='$q_{2}$')\n",
    "ax.scatter(intersection_q1_q2,intersection_q1_q2,s=50, marker='o', color='black',label='Equilibrium')\n",
    "\n",
    "ax.set_xlim([0, 5])\n",
    "ax.set_ylim([0, 5])\n",
    "plt.gca().set_aspect('equal', adjustable='box')\n",
    "ax.set_title('Cournot competition')\n",
    "ax.set_xlabel('$q_2$')\n",
    "ax.set_ylabel('$q_1$')\n",
    "ax.legend(loc='upper right'); # Activate legend (uses the labels in ax.plot())"
   ]
  },
  {
   "attachments": {},
   "cell_type": "markdown",
   "metadata": {},
   "source": [
    "## Numerical Analysis"
   ]
  },
  {
   "cell_type": "code",
   "execution_count": 37,
   "metadata": {},
   "outputs": [
    {
     "name": "stdout",
     "output_type": "stream",
     "text": [
      "The autoreload extension is already loaded. To reload it, use:\n",
      "  %reload_ext autoreload\n"
     ]
    }
   ],
   "source": [
    "# Ensures automatic reloading of module\n",
    "%load_ext autoreload \n",
    "%autoreload 2\n",
    "# Import all functions from module \"cournot1\" \n",
    "from cournot1 import *"
   ]
  },
  {
   "cell_type": "code",
   "execution_count": 38,
   "metadata": {},
   "outputs": [
    {
     "name": "stdout",
     "output_type": "stream",
     "text": [
      "4.000000000000003\n",
      "4.0\n"
     ]
    }
   ],
   "source": [
    "test = Firm1()\n",
    "\n",
    "test.solve_q1()\n",
    "\n",
    "optimal_q1 = test.q1\n",
    "print(optimal_q1)\n",
    "\n",
    "profit = (13-4-optimal_q1-1)*optimal_q1-12\n",
    "print(profit)"
   ]
  }
 ],
 "metadata": {
  "kernelspec": {
   "display_name": "base",
   "language": "python",
   "name": "python3"
  },
  "language_info": {
   "codemirror_mode": {
    "name": "ipython",
    "version": 3
   },
   "file_extension": ".py",
   "mimetype": "text/x-python",
   "name": "python",
   "nbconvert_exporter": "python",
   "pygments_lexer": "ipython3",
   "version": "3.9.16"
  },
  "orig_nbformat": 4
 },
 "nbformat": 4,
 "nbformat_minor": 2
}
