{
 "cells": [
  {
   "cell_type": "markdown",
   "metadata": {},
   "source": [
    "# YOUR PROJECT TITLE"
   ]
  },
  {
   "cell_type": "markdown",
   "metadata": {},
   "source": [
    "Imports and set magics:"
   ]
  },
  {
   "cell_type": "code",
   "execution_count": 55,
   "metadata": {},
   "outputs": [
    {
     "name": "stdout",
     "output_type": "stream",
     "text": [
      "Collecting git+https://github.com/elben10/pydstNote: you may need to restart the kernel to use updated packages.\n"
     ]
    },
    {
     "name": "stderr",
     "output_type": "stream",
     "text": [
      "  Running command git clone -q https://github.com/elben10/pydst 'C:\\Users\\masat\\AppData\\Local\\Temp\\pip-req-build-fu_ohttv'\n"
     ]
    },
    {
     "name": "stdout",
     "output_type": "stream",
     "text": [
      "\n",
      "  Cloning https://github.com/elben10/pydst to c:\\users\\masat\\appdata\\local\\temp\\pip-req-build-fu_ohttv\n",
      "Requirement already satisfied: pandas>=0.23.4 in c:\\users\\masat\\anaconda3\\lib\\site-packages (from pydst==0.1.0.9000) (1.2.4)\n",
      "Requirement already satisfied: cerberus==1.2 in c:\\users\\masat\\anaconda3\\lib\\site-packages (from pydst==0.1.0.9000) (1.2)\n",
      "Requirement already satisfied: requests>=2.21.0 in c:\\users\\masat\\anaconda3\\lib\\site-packages (from pydst==0.1.0.9000) (2.25.1)\n",
      "Requirement already satisfied: python-dateutil>=2.7.3 in c:\\users\\masat\\anaconda3\\lib\\site-packages (from pandas>=0.23.4->pydst==0.1.0.9000) (2.8.1)\n",
      "Requirement already satisfied: numpy>=1.16.5 in c:\\users\\masat\\anaconda3\\lib\\site-packages (from pandas>=0.23.4->pydst==0.1.0.9000) (1.20.1)\n",
      "Requirement already satisfied: pytz>=2017.3 in c:\\users\\masat\\anaconda3\\lib\\site-packages (from pandas>=0.23.4->pydst==0.1.0.9000) (2021.1)\n",
      "Requirement already satisfied: six>=1.5 in c:\\users\\masat\\anaconda3\\lib\\site-packages (from python-dateutil>=2.7.3->pandas>=0.23.4->pydst==0.1.0.9000) (1.15.0)\n",
      "Requirement already satisfied: certifi>=2017.4.17 in c:\\users\\masat\\anaconda3\\lib\\site-packages (from requests>=2.21.0->pydst==0.1.0.9000) (2020.12.5)\n",
      "Requirement already satisfied: urllib3<1.27,>=1.21.1 in c:\\users\\masat\\anaconda3\\lib\\site-packages (from requests>=2.21.0->pydst==0.1.0.9000) (1.26.4)\n",
      "Requirement already satisfied: idna<3,>=2.5 in c:\\users\\masat\\anaconda3\\lib\\site-packages (from requests>=2.21.0->pydst==0.1.0.9000) (2.10)\n",
      "Requirement already satisfied: chardet<5,>=3.0.2 in c:\\users\\masat\\anaconda3\\lib\\site-packages (from requests>=2.21.0->pydst==0.1.0.9000) (4.0.0)\n"
     ]
    }
   ],
   "source": [
    "# The DST API wrapper\n",
    "%pip install git+https://github.com/elben10/pydst"
   ]
  },
  {
   "cell_type": "code",
   "execution_count": 56,
   "metadata": {},
   "outputs": [],
   "source": [
    "import numpy as np\n",
    "import pandas as pd\n",
    "import datetime\n",
    "\n",
    "import pandas_datareader # install with `pip install pandas-datareader`\n",
    "import pydst # install with `pip install git+https://github.com/elben10/pydst`\n",
    "\n",
    "import matplotlib.pyplot as plt\n",
    "plt.rcParams.update({\"axes.grid\":True,\"grid.color\":\"black\",\"grid.alpha\":\"0.25\",\"grid.linestyle\":\"--\"})\n",
    "plt.rcParams.update({'font.size': 14})"
   ]
  },
  {
   "cell_type": "markdown",
   "metadata": {},
   "source": [
    "# Read and clean data"
   ]
  },
  {
   "attachments": {},
   "cell_type": "markdown",
   "metadata": {},
   "source": [
    "### 1-1. Import **Renewable energy consumption** data manually, and load it. "
   ]
  },
  {
   "cell_type": "code",
   "execution_count": 91,
   "metadata": {},
   "outputs": [],
   "source": [
    "# Need a different module than in the FRED case\n",
    "from pandas_datareader import wb"
   ]
  },
  {
   "cell_type": "code",
   "execution_count": 92,
   "metadata": {},
   "outputs": [
    {
     "data": {
      "text/html": [
       "<div>\n",
       "<style scoped>\n",
       "    .dataframe tbody tr th:only-of-type {\n",
       "        vertical-align: middle;\n",
       "    }\n",
       "\n",
       "    .dataframe tbody tr th {\n",
       "        vertical-align: top;\n",
       "    }\n",
       "\n",
       "    .dataframe thead th {\n",
       "        text-align: right;\n",
       "    }\n",
       "</style>\n",
       "<table border=\"1\" class=\"dataframe\">\n",
       "  <thead>\n",
       "    <tr style=\"text-align: right;\">\n",
       "      <th></th>\n",
       "      <th>country</th>\n",
       "      <th>year</th>\n",
       "      <th>rec</th>\n",
       "    </tr>\n",
       "  </thead>\n",
       "  <tbody>\n",
       "    <tr>\n",
       "      <th>33</th>\n",
       "      <td>Denmark</td>\n",
       "      <td>2006</td>\n",
       "      <td>15.26</td>\n",
       "    </tr>\n",
       "    <tr>\n",
       "      <th>72</th>\n",
       "      <td>Lithuania</td>\n",
       "      <td>2007</td>\n",
       "      <td>17.06</td>\n",
       "    </tr>\n",
       "    <tr>\n",
       "      <th>77</th>\n",
       "      <td>Lithuania</td>\n",
       "      <td>2002</td>\n",
       "      <td>17.89</td>\n",
       "    </tr>\n",
       "    <tr>\n",
       "      <th>32</th>\n",
       "      <td>Denmark</td>\n",
       "      <td>2007</td>\n",
       "      <td>17.69</td>\n",
       "    </tr>\n",
       "    <tr>\n",
       "      <th>36</th>\n",
       "      <td>Denmark</td>\n",
       "      <td>2003</td>\n",
       "      <td>12.72</td>\n",
       "    </tr>\n",
       "  </tbody>\n",
       "</table>\n",
       "</div>"
      ],
      "text/plain": [
       "      country  year    rec\n",
       "33    Denmark  2006  15.26\n",
       "72  Lithuania  2007  17.06\n",
       "77  Lithuania  2002  17.89\n",
       "32    Denmark  2007  17.69\n",
       "36    Denmark  2003  12.72"
      ]
     },
     "execution_count": 92,
     "metadata": {},
     "output_type": "execute_result"
    }
   ],
   "source": [
    "# Renewable energy consumption(% of total final energy consumption)\n",
    "wb_rec = wb.download(indicator='EG.FEC.RNEW.ZS', country=['DE','DK','IT','LT'], start=2000, end=2019)\n",
    "\n",
    "wb_rec = wb_rec.rename(columns = {'EG.FEC.RNEW.ZS':'rec'})\n",
    "wb_rec = wb_rec.reset_index()\n",
    "wb_rec.sample(5)"
   ]
  },
  {
   "cell_type": "code",
   "execution_count": 93,
   "metadata": {},
   "outputs": [
    {
     "name": "stdout",
     "output_type": "stream",
     "text": [
      "<class 'pandas.core.frame.DataFrame'>\n",
      "RangeIndex: 80 entries, 0 to 79\n",
      "Data columns (total 3 columns):\n",
      " #   Column   Non-Null Count  Dtype  \n",
      "---  ------   --------------  -----  \n",
      " 0   country  80 non-null     string \n",
      " 1   year     80 non-null     int32  \n",
      " 2   rec      80 non-null     float64\n",
      "dtypes: float64(1), int32(1), string(1)\n",
      "memory usage: 1.7 KB\n"
     ]
    }
   ],
   "source": [
    "wb_rec.year = wb_rec.year.astype(int) # convert year\n",
    "wb_rec.country = wb_rec.country.astype('string') # convert country to the special pandas string type\n",
    "wb_rec.info()"
   ]
  },
  {
   "attachments": {},
   "cell_type": "markdown",
   "metadata": {},
   "source": [
    "**Calculate among countries difference to mean of renewable energy consumption rate.**"
   ]
  },
  {
   "cell_type": "code",
   "execution_count": 103,
   "metadata": {},
   "outputs": [
    {
     "data": {
      "text/plain": [
       "country\n",
       "Denmark      22.4725\n",
       "Germany      10.6920\n",
       "Italy        11.5275\n",
       "Lithuania    23.1465\n",
       "Name: rec, dtype: float64"
      ]
     },
     "execution_count": 103,
     "metadata": {},
     "output_type": "execute_result"
    }
   ],
   "source": [
    "wb_rec.groupby(['country'])['rec'].mean().head()"
   ]
  },
  {
   "attachments": {},
   "cell_type": "markdown",
   "metadata": {},
   "source": [
    "Split-Apply-Combine"
   ]
  },
  {
   "cell_type": "code",
   "execution_count": 132,
   "metadata": {},
   "outputs": [
    {
     "name": "stdout",
     "output_type": "stream",
     "text": [
      "<pandas.core.groupby.generic.SeriesGroupBy object at 0x00000285763F6CD0>\n"
     ]
    },
    {
     "data": {
      "text/html": [
       "<div>\n",
       "<style scoped>\n",
       "    .dataframe tbody tr th:only-of-type {\n",
       "        vertical-align: middle;\n",
       "    }\n",
       "\n",
       "    .dataframe tbody tr th {\n",
       "        vertical-align: top;\n",
       "    }\n",
       "\n",
       "    .dataframe thead th {\n",
       "        text-align: right;\n",
       "    }\n",
       "</style>\n",
       "<table border=\"1\" class=\"dataframe\">\n",
       "  <thead>\n",
       "    <tr style=\"text-align: right;\">\n",
       "      <th></th>\n",
       "      <th>year</th>\n",
       "      <th>rec</th>\n",
       "      <th>rec_mean</th>\n",
       "      <th>rec_demean</th>\n",
       "    </tr>\n",
       "    <tr>\n",
       "      <th>country</th>\n",
       "      <th></th>\n",
       "      <th></th>\n",
       "      <th></th>\n",
       "      <th></th>\n",
       "    </tr>\n",
       "  </thead>\n",
       "  <tbody>\n",
       "    <tr>\n",
       "      <th>Germany</th>\n",
       "      <td>2019</td>\n",
       "      <td>17.17</td>\n",
       "      <td>10.692</td>\n",
       "      <td>6.478</td>\n",
       "    </tr>\n",
       "    <tr>\n",
       "      <th>Germany</th>\n",
       "      <td>2018</td>\n",
       "      <td>16.12</td>\n",
       "      <td>10.692</td>\n",
       "      <td>5.428</td>\n",
       "    </tr>\n",
       "    <tr>\n",
       "      <th>Germany</th>\n",
       "      <td>2017</td>\n",
       "      <td>15.22</td>\n",
       "      <td>10.692</td>\n",
       "      <td>4.528</td>\n",
       "    </tr>\n",
       "    <tr>\n",
       "      <th>Germany</th>\n",
       "      <td>2016</td>\n",
       "      <td>14.24</td>\n",
       "      <td>10.692</td>\n",
       "      <td>3.548</td>\n",
       "    </tr>\n",
       "    <tr>\n",
       "      <th>Germany</th>\n",
       "      <td>2015</td>\n",
       "      <td>14.55</td>\n",
       "      <td>10.692</td>\n",
       "      <td>3.858</td>\n",
       "    </tr>\n",
       "    <tr>\n",
       "      <th>Germany</th>\n",
       "      <td>2014</td>\n",
       "      <td>14.02</td>\n",
       "      <td>10.692</td>\n",
       "      <td>3.328</td>\n",
       "    </tr>\n",
       "    <tr>\n",
       "      <th>Germany</th>\n",
       "      <td>2013</td>\n",
       "      <td>13.63</td>\n",
       "      <td>10.692</td>\n",
       "      <td>2.938</td>\n",
       "    </tr>\n",
       "    <tr>\n",
       "      <th>Germany</th>\n",
       "      <td>2012</td>\n",
       "      <td>13.64</td>\n",
       "      <td>10.692</td>\n",
       "      <td>2.948</td>\n",
       "    </tr>\n",
       "    <tr>\n",
       "      <th>Germany</th>\n",
       "      <td>2011</td>\n",
       "      <td>12.54</td>\n",
       "      <td>10.692</td>\n",
       "      <td>1.848</td>\n",
       "    </tr>\n",
       "    <tr>\n",
       "      <th>Germany</th>\n",
       "      <td>2010</td>\n",
       "      <td>11.61</td>\n",
       "      <td>10.692</td>\n",
       "      <td>0.918</td>\n",
       "    </tr>\n",
       "    <tr>\n",
       "      <th>Germany</th>\n",
       "      <td>2009</td>\n",
       "      <td>10.72</td>\n",
       "      <td>10.692</td>\n",
       "      <td>0.028</td>\n",
       "    </tr>\n",
       "    <tr>\n",
       "      <th>Germany</th>\n",
       "      <td>2008</td>\n",
       "      <td>10.25</td>\n",
       "      <td>10.692</td>\n",
       "      <td>-0.442</td>\n",
       "    </tr>\n",
       "    <tr>\n",
       "      <th>Germany</th>\n",
       "      <td>2007</td>\n",
       "      <td>10.47</td>\n",
       "      <td>10.692</td>\n",
       "      <td>-0.222</td>\n",
       "    </tr>\n",
       "    <tr>\n",
       "      <th>Germany</th>\n",
       "      <td>2006</td>\n",
       "      <td>8.59</td>\n",
       "      <td>10.692</td>\n",
       "      <td>-2.102</td>\n",
       "    </tr>\n",
       "    <tr>\n",
       "      <th>Germany</th>\n",
       "      <td>2005</td>\n",
       "      <td>7.28</td>\n",
       "      <td>10.692</td>\n",
       "      <td>-3.412</td>\n",
       "    </tr>\n",
       "    <tr>\n",
       "      <th>Germany</th>\n",
       "      <td>2004</td>\n",
       "      <td>6.34</td>\n",
       "      <td>10.692</td>\n",
       "      <td>-4.352</td>\n",
       "    </tr>\n",
       "    <tr>\n",
       "      <th>Germany</th>\n",
       "      <td>2003</td>\n",
       "      <td>5.44</td>\n",
       "      <td>10.692</td>\n",
       "      <td>-5.252</td>\n",
       "    </tr>\n",
       "    <tr>\n",
       "      <th>Germany</th>\n",
       "      <td>2002</td>\n",
       "      <td>4.41</td>\n",
       "      <td>10.692</td>\n",
       "      <td>-6.282</td>\n",
       "    </tr>\n",
       "    <tr>\n",
       "      <th>Germany</th>\n",
       "      <td>2001</td>\n",
       "      <td>3.90</td>\n",
       "      <td>10.692</td>\n",
       "      <td>-6.792</td>\n",
       "    </tr>\n",
       "    <tr>\n",
       "      <th>Germany</th>\n",
       "      <td>2000</td>\n",
       "      <td>3.70</td>\n",
       "      <td>10.692</td>\n",
       "      <td>-6.992</td>\n",
       "    </tr>\n",
       "  </tbody>\n",
       "</table>\n",
       "</div>"
      ],
      "text/plain": [
       "         year    rec  rec_mean  rec_demean\n",
       "country                                   \n",
       "Germany  2019  17.17    10.692       6.478\n",
       "Germany  2018  16.12    10.692       5.428\n",
       "Germany  2017  15.22    10.692       4.528\n",
       "Germany  2016  14.24    10.692       3.548\n",
       "Germany  2015  14.55    10.692       3.858\n",
       "Germany  2014  14.02    10.692       3.328\n",
       "Germany  2013  13.63    10.692       2.938\n",
       "Germany  2012  13.64    10.692       2.948\n",
       "Germany  2011  12.54    10.692       1.848\n",
       "Germany  2010  11.61    10.692       0.918\n",
       "Germany  2009  10.72    10.692       0.028\n",
       "Germany  2008  10.25    10.692      -0.442\n",
       "Germany  2007  10.47    10.692      -0.222\n",
       "Germany  2006   8.59    10.692      -2.102\n",
       "Germany  2005   7.28    10.692      -3.412\n",
       "Germany  2004   6.34    10.692      -4.352\n",
       "Germany  2003   5.44    10.692      -5.252\n",
       "Germany  2002   4.41    10.692      -6.282\n",
       "Germany  2001   3.90    10.692      -6.792\n",
       "Germany  2000   3.70    10.692      -6.992"
      ]
     },
     "execution_count": 132,
     "metadata": {},
     "output_type": "execute_result"
    }
   ],
   "source": [
    "# split\n",
    "rec_grouped = wb_rec.groupby('country')['rec'] \n",
    "print(rec_grouped)\n",
    "\n",
    "# apply\n",
    "rec_mean = rec_grouped.mean() # mean renewable energy consumption rate\n",
    "rec_mean.head()\n",
    "\n",
    "rec_mean.name = 'rec_mean' # necessary for join\n",
    "\n",
    "# combine\n",
    "wb_rec_copy = wb_rec.set_index('country') # returns a copy\n",
    "rec_ = wb_rec_copy.join(rec_mean, how='left')\n",
    "rec_['rec_demean'] = rec_.rec - rec_.rec_mean\n",
    "rec_.xs('Germany') # let's see the result of split-apply-combine"
   ]
  },
  {
   "attachments": {},
   "cell_type": "markdown",
   "metadata": {},
   "source": [
    "### 1-2. Import **GDP per capita growth** data manually, and load it. "
   ]
  },
  {
   "cell_type": "code",
   "execution_count": 74,
   "metadata": {},
   "outputs": [
    {
     "data": {
      "text/html": [
       "<div>\n",
       "<style scoped>\n",
       "    .dataframe tbody tr th:only-of-type {\n",
       "        vertical-align: middle;\n",
       "    }\n",
       "\n",
       "    .dataframe tbody tr th {\n",
       "        vertical-align: top;\n",
       "    }\n",
       "\n",
       "    .dataframe thead th {\n",
       "        text-align: right;\n",
       "    }\n",
       "</style>\n",
       "<table border=\"1\" class=\"dataframe\">\n",
       "  <thead>\n",
       "    <tr style=\"text-align: right;\">\n",
       "      <th></th>\n",
       "      <th>country</th>\n",
       "      <th>year</th>\n",
       "      <th>gdp</th>\n",
       "    </tr>\n",
       "  </thead>\n",
       "  <tbody>\n",
       "    <tr>\n",
       "      <th>29</th>\n",
       "      <td>Denmark</td>\n",
       "      <td>2010</td>\n",
       "      <td>1.419487</td>\n",
       "    </tr>\n",
       "    <tr>\n",
       "      <th>48</th>\n",
       "      <td>Italy</td>\n",
       "      <td>2011</td>\n",
       "      <td>0.534287</td>\n",
       "    </tr>\n",
       "    <tr>\n",
       "      <th>32</th>\n",
       "      <td>Denmark</td>\n",
       "      <td>2007</td>\n",
       "      <td>0.462731</td>\n",
       "    </tr>\n",
       "    <tr>\n",
       "      <th>27</th>\n",
       "      <td>Denmark</td>\n",
       "      <td>2012</td>\n",
       "      <td>-0.149916</td>\n",
       "    </tr>\n",
       "    <tr>\n",
       "      <th>72</th>\n",
       "      <td>Lithuania</td>\n",
       "      <td>2007</td>\n",
       "      <td>12.435250</td>\n",
       "    </tr>\n",
       "  </tbody>\n",
       "</table>\n",
       "</div>"
      ],
      "text/plain": [
       "      country  year        gdp\n",
       "29    Denmark  2010   1.419487\n",
       "48      Italy  2011   0.534287\n",
       "32    Denmark  2007   0.462731\n",
       "27    Denmark  2012  -0.149916\n",
       "72  Lithuania  2007  12.435250"
      ]
     },
     "execution_count": 74,
     "metadata": {},
     "output_type": "execute_result"
    }
   ],
   "source": [
    "# GDP per capita growth (% annual)\n",
    "wb_gdp = wb.download(indicator='NY.GDP.PCAP.KD.ZG', country=['DE','DK','LT','IT'], start=2000, end=2019)\n",
    "\n",
    "wb_gdp = wb_gdp.rename(columns = {'NY.GDP.PCAP.KD.ZG':'gdp'})\n",
    "wb_gdp = wb_gdp.reset_index()\n",
    "wb_gdp.sample(5)"
   ]
  },
  {
   "cell_type": "code",
   "execution_count": 75,
   "metadata": {},
   "outputs": [
    {
     "name": "stdout",
     "output_type": "stream",
     "text": [
      "<class 'pandas.core.frame.DataFrame'>\n",
      "RangeIndex: 80 entries, 0 to 79\n",
      "Data columns (total 3 columns):\n",
      " #   Column   Non-Null Count  Dtype  \n",
      "---  ------   --------------  -----  \n",
      " 0   country  80 non-null     string \n",
      " 1   year     80 non-null     int32  \n",
      " 2   gdp      80 non-null     float64\n",
      "dtypes: float64(1), int32(1), string(1)\n",
      "memory usage: 1.7 KB\n"
     ]
    }
   ],
   "source": [
    "wb_gdp.year = wb_gdp.year.astype(int) # convert year\n",
    "wb_gdp.country = wb_gdp.country.astype('string') # convert country to the special pandas string type\n",
    "wb_gdp.info()"
   ]
  },
  {
   "attachments": {},
   "cell_type": "markdown",
   "metadata": {},
   "source": [
    "**Calculate among countries difference to mean of GDP per capita growth rate.**"
   ]
  },
  {
   "cell_type": "code",
   "execution_count": 104,
   "metadata": {},
   "outputs": [
    {
     "data": {
      "text/plain": [
       "country\n",
       "Denmark      0.938160\n",
       "Germany      1.305578\n",
       "Italy        0.169534\n",
       "Lithuania    5.428168\n",
       "Name: gdp, dtype: float64"
      ]
     },
     "execution_count": 104,
     "metadata": {},
     "output_type": "execute_result"
    }
   ],
   "source": [
    "wb_gdp.groupby(['country'])['gdp'].mean().head()"
   ]
  },
  {
   "attachments": {},
   "cell_type": "markdown",
   "metadata": {},
   "source": [
    "Split-Apply-Combine"
   ]
  },
  {
   "cell_type": "code",
   "execution_count": 128,
   "metadata": {},
   "outputs": [
    {
     "name": "stdout",
     "output_type": "stream",
     "text": [
      "<pandas.core.groupby.generic.SeriesGroupBy object at 0x00000285761A85B0>\n"
     ]
    },
    {
     "data": {
      "text/html": [
       "<div>\n",
       "<style scoped>\n",
       "    .dataframe tbody tr th:only-of-type {\n",
       "        vertical-align: middle;\n",
       "    }\n",
       "\n",
       "    .dataframe tbody tr th {\n",
       "        vertical-align: top;\n",
       "    }\n",
       "\n",
       "    .dataframe thead th {\n",
       "        text-align: right;\n",
       "    }\n",
       "</style>\n",
       "<table border=\"1\" class=\"dataframe\">\n",
       "  <thead>\n",
       "    <tr style=\"text-align: right;\">\n",
       "      <th></th>\n",
       "      <th>year</th>\n",
       "      <th>gdp</th>\n",
       "      <th>gdp_mean</th>\n",
       "      <th>gdp_demean</th>\n",
       "    </tr>\n",
       "    <tr>\n",
       "      <th>country</th>\n",
       "      <th></th>\n",
       "      <th></th>\n",
       "      <th></th>\n",
       "      <th></th>\n",
       "    </tr>\n",
       "  </thead>\n",
       "  <tbody>\n",
       "    <tr>\n",
       "      <th>Germany</th>\n",
       "      <td>2019</td>\n",
       "      <td>0.828958</td>\n",
       "      <td>1.305578</td>\n",
       "      <td>-0.476620</td>\n",
       "    </tr>\n",
       "    <tr>\n",
       "      <th>Germany</th>\n",
       "      <td>2018</td>\n",
       "      <td>0.678213</td>\n",
       "      <td>1.305578</td>\n",
       "      <td>-0.627365</td>\n",
       "    </tr>\n",
       "    <tr>\n",
       "      <th>Germany</th>\n",
       "      <td>2017</td>\n",
       "      <td>2.297206</td>\n",
       "      <td>1.305578</td>\n",
       "      <td>0.991628</td>\n",
       "    </tr>\n",
       "    <tr>\n",
       "      <th>Germany</th>\n",
       "      <td>2016</td>\n",
       "      <td>1.408102</td>\n",
       "      <td>1.305578</td>\n",
       "      <td>0.102524</td>\n",
       "    </tr>\n",
       "    <tr>\n",
       "      <th>Germany</th>\n",
       "      <td>2015</td>\n",
       "      <td>0.617105</td>\n",
       "      <td>1.305578</td>\n",
       "      <td>-0.688472</td>\n",
       "    </tr>\n",
       "    <tr>\n",
       "      <th>Germany</th>\n",
       "      <td>2014</td>\n",
       "      <td>1.784342</td>\n",
       "      <td>1.305578</td>\n",
       "      <td>0.478764</td>\n",
       "    </tr>\n",
       "    <tr>\n",
       "      <th>Germany</th>\n",
       "      <td>2013</td>\n",
       "      <td>0.163871</td>\n",
       "      <td>1.305578</td>\n",
       "      <td>-1.141707</td>\n",
       "    </tr>\n",
       "    <tr>\n",
       "      <th>Germany</th>\n",
       "      <td>2012</td>\n",
       "      <td>0.230161</td>\n",
       "      <td>1.305578</td>\n",
       "      <td>-1.075417</td>\n",
       "    </tr>\n",
       "    <tr>\n",
       "      <th>Germany</th>\n",
       "      <td>2011</td>\n",
       "      <td>5.869636</td>\n",
       "      <td>1.305578</td>\n",
       "      <td>4.564058</td>\n",
       "    </tr>\n",
       "    <tr>\n",
       "      <th>Germany</th>\n",
       "      <td>2010</td>\n",
       "      <td>4.339607</td>\n",
       "      <td>1.305578</td>\n",
       "      <td>3.034029</td>\n",
       "    </tr>\n",
       "    <tr>\n",
       "      <th>Germany</th>\n",
       "      <td>2009</td>\n",
       "      <td>-5.454577</td>\n",
       "      <td>1.305578</td>\n",
       "      <td>-6.760155</td>\n",
       "    </tr>\n",
       "    <tr>\n",
       "      <th>Germany</th>\n",
       "      <td>2008</td>\n",
       "      <td>1.152030</td>\n",
       "      <td>1.305578</td>\n",
       "      <td>-0.153548</td>\n",
       "    </tr>\n",
       "    <tr>\n",
       "      <th>Germany</th>\n",
       "      <td>2007</td>\n",
       "      <td>3.114246</td>\n",
       "      <td>1.305578</td>\n",
       "      <td>1.808668</td>\n",
       "    </tr>\n",
       "    <tr>\n",
       "      <th>Germany</th>\n",
       "      <td>2006</td>\n",
       "      <td>3.933610</td>\n",
       "      <td>1.305578</td>\n",
       "      <td>2.628033</td>\n",
       "    </tr>\n",
       "    <tr>\n",
       "      <th>Germany</th>\n",
       "      <td>2005</td>\n",
       "      <td>0.788917</td>\n",
       "      <td>1.305578</td>\n",
       "      <td>-0.516661</td>\n",
       "    </tr>\n",
       "    <tr>\n",
       "      <th>Germany</th>\n",
       "      <td>2004</td>\n",
       "      <td>1.197055</td>\n",
       "      <td>1.305578</td>\n",
       "      <td>-0.108522</td>\n",
       "    </tr>\n",
       "    <tr>\n",
       "      <th>Germany</th>\n",
       "      <td>2003</td>\n",
       "      <td>-0.755077</td>\n",
       "      <td>1.305578</td>\n",
       "      <td>-2.060655</td>\n",
       "    </tr>\n",
       "    <tr>\n",
       "      <th>Germany</th>\n",
       "      <td>2002</td>\n",
       "      <td>-0.365628</td>\n",
       "      <td>1.305578</td>\n",
       "      <td>-1.671206</td>\n",
       "    </tr>\n",
       "    <tr>\n",
       "      <th>Germany</th>\n",
       "      <td>2001</td>\n",
       "      <td>1.510558</td>\n",
       "      <td>1.305578</td>\n",
       "      <td>0.204980</td>\n",
       "    </tr>\n",
       "    <tr>\n",
       "      <th>Germany</th>\n",
       "      <td>2000</td>\n",
       "      <td>2.773221</td>\n",
       "      <td>1.305578</td>\n",
       "      <td>1.467643</td>\n",
       "    </tr>\n",
       "  </tbody>\n",
       "</table>\n",
       "</div>"
      ],
      "text/plain": [
       "         year       gdp  gdp_mean  gdp_demean\n",
       "country                                      \n",
       "Germany  2019  0.828958  1.305578   -0.476620\n",
       "Germany  2018  0.678213  1.305578   -0.627365\n",
       "Germany  2017  2.297206  1.305578    0.991628\n",
       "Germany  2016  1.408102  1.305578    0.102524\n",
       "Germany  2015  0.617105  1.305578   -0.688472\n",
       "Germany  2014  1.784342  1.305578    0.478764\n",
       "Germany  2013  0.163871  1.305578   -1.141707\n",
       "Germany  2012  0.230161  1.305578   -1.075417\n",
       "Germany  2011  5.869636  1.305578    4.564058\n",
       "Germany  2010  4.339607  1.305578    3.034029\n",
       "Germany  2009 -5.454577  1.305578   -6.760155\n",
       "Germany  2008  1.152030  1.305578   -0.153548\n",
       "Germany  2007  3.114246  1.305578    1.808668\n",
       "Germany  2006  3.933610  1.305578    2.628033\n",
       "Germany  2005  0.788917  1.305578   -0.516661\n",
       "Germany  2004  1.197055  1.305578   -0.108522\n",
       "Germany  2003 -0.755077  1.305578   -2.060655\n",
       "Germany  2002 -0.365628  1.305578   -1.671206\n",
       "Germany  2001  1.510558  1.305578    0.204980\n",
       "Germany  2000  2.773221  1.305578    1.467643"
      ]
     },
     "execution_count": 128,
     "metadata": {},
     "output_type": "execute_result"
    }
   ],
   "source": [
    "# split\n",
    "gdp_grouped = wb_gdp.groupby('country')['gdp'] \n",
    "print(gdp_grouped)\n",
    "\n",
    "# apply\n",
    "gdp_mean = gdp_grouped.mean() # mean GDP per capita growth rate\n",
    "gdp_mean.head()\n",
    "\n",
    "gdp_mean.name = 'gdp_mean' # necessary for join\n",
    "\n",
    "# combine\n",
    "wb_gdp_copy = wb_gdp.set_index('country') # returns a copy\n",
    "gdp_ = wb_gdp_copy.join(gdp_mean, how='left')\n",
    "gdp_['gdp_demean'] = gdp_.gdp - gdp_.gdp_mean\n",
    "gdp_.xs('Germany') # let's see the result of split-apply-combine"
   ]
  },
  {
   "attachments": {},
   "cell_type": "markdown",
   "metadata": {},
   "source": [
    "# Merge data sets"
   ]
  },
  {
   "cell_type": "code",
   "execution_count": 138,
   "metadata": {},
   "outputs": [
    {
     "data": {
      "text/html": [
       "<div>\n",
       "<style scoped>\n",
       "    .dataframe tbody tr th:only-of-type {\n",
       "        vertical-align: middle;\n",
       "    }\n",
       "\n",
       "    .dataframe tbody tr th {\n",
       "        vertical-align: top;\n",
       "    }\n",
       "\n",
       "    .dataframe thead th {\n",
       "        text-align: right;\n",
       "    }\n",
       "</style>\n",
       "<table border=\"1\" class=\"dataframe\">\n",
       "  <thead>\n",
       "    <tr style=\"text-align: right;\">\n",
       "      <th></th>\n",
       "      <th>country</th>\n",
       "      <th>year</th>\n",
       "      <th>rec</th>\n",
       "      <th>rec_mean</th>\n",
       "      <th>rec_demean</th>\n",
       "      <th>gdp</th>\n",
       "      <th>gdp_mean</th>\n",
       "      <th>gdp_demean</th>\n",
       "    </tr>\n",
       "  </thead>\n",
       "  <tbody>\n",
       "    <tr>\n",
       "      <th>0</th>\n",
       "      <td>Germany</td>\n",
       "      <td>2019</td>\n",
       "      <td>17.17</td>\n",
       "      <td>10.692</td>\n",
       "      <td>6.478</td>\n",
       "      <td>0.828958</td>\n",
       "      <td>1.305578</td>\n",
       "      <td>-0.476620</td>\n",
       "    </tr>\n",
       "    <tr>\n",
       "      <th>1</th>\n",
       "      <td>Germany</td>\n",
       "      <td>2018</td>\n",
       "      <td>16.12</td>\n",
       "      <td>10.692</td>\n",
       "      <td>5.428</td>\n",
       "      <td>0.678213</td>\n",
       "      <td>1.305578</td>\n",
       "      <td>-0.627365</td>\n",
       "    </tr>\n",
       "    <tr>\n",
       "      <th>2</th>\n",
       "      <td>Germany</td>\n",
       "      <td>2017</td>\n",
       "      <td>15.22</td>\n",
       "      <td>10.692</td>\n",
       "      <td>4.528</td>\n",
       "      <td>2.297206</td>\n",
       "      <td>1.305578</td>\n",
       "      <td>0.991628</td>\n",
       "    </tr>\n",
       "    <tr>\n",
       "      <th>3</th>\n",
       "      <td>Germany</td>\n",
       "      <td>2016</td>\n",
       "      <td>14.24</td>\n",
       "      <td>10.692</td>\n",
       "      <td>3.548</td>\n",
       "      <td>1.408102</td>\n",
       "      <td>1.305578</td>\n",
       "      <td>0.102524</td>\n",
       "    </tr>\n",
       "    <tr>\n",
       "      <th>4</th>\n",
       "      <td>Germany</td>\n",
       "      <td>2015</td>\n",
       "      <td>14.55</td>\n",
       "      <td>10.692</td>\n",
       "      <td>3.858</td>\n",
       "      <td>0.617105</td>\n",
       "      <td>1.305578</td>\n",
       "      <td>-0.688472</td>\n",
       "    </tr>\n",
       "  </tbody>\n",
       "</table>\n",
       "</div>"
      ],
      "text/plain": [
       "   country  year    rec  rec_mean  rec_demean       gdp  gdp_mean  gdp_demean\n",
       "0  Germany  2019  17.17    10.692       6.478  0.828958  1.305578   -0.476620\n",
       "1  Germany  2018  16.12    10.692       5.428  0.678213  1.305578   -0.627365\n",
       "2  Germany  2017  15.22    10.692       4.528  2.297206  1.305578    0.991628\n",
       "3  Germany  2016  14.24    10.692       3.548  1.408102  1.305578    0.102524\n",
       "4  Germany  2015  14.55    10.692       3.858  0.617105  1.305578   -0.688472"
      ]
     },
     "execution_count": 138,
     "metadata": {},
     "output_type": "execute_result"
    }
   ],
   "source": [
    "inner_rec = pd.merge( wb_rec, rec_, how='inner', on=['rec','year']) \n",
    "\n",
    "inner_gdp = pd.merge( wb_gdp, gdp_, how='inner', on=['gdp','year'])\n",
    "\n",
    "inner = pd.merge(inner_rec, inner_gdp, how='inner', on=['country','year']) \n",
    "inner.head()"
   ]
  },
  {
   "cell_type": "code",
   "execution_count": 139,
   "metadata": {},
   "outputs": [
    {
     "name": "stdout",
     "output_type": "stream",
     "text": [
      "<class 'pandas.core.frame.DataFrame'>\n",
      "Int64Index: 80 entries, 0 to 79\n",
      "Data columns (total 8 columns):\n",
      " #   Column      Non-Null Count  Dtype  \n",
      "---  ------      --------------  -----  \n",
      " 0   country     80 non-null     string \n",
      " 1   year        80 non-null     int32  \n",
      " 2   rec         80 non-null     float64\n",
      " 3   rec_mean    80 non-null     float64\n",
      " 4   rec_demean  80 non-null     float64\n",
      " 5   gdp         80 non-null     float64\n",
      " 6   gdp_mean    80 non-null     float64\n",
      " 7   gdp_demean  80 non-null     float64\n",
      "dtypes: float64(6), int32(1), string(1)\n",
      "memory usage: 5.3 KB\n"
     ]
    }
   ],
   "source": [
    "inner.year = inner.year.astype(int) # convert year\n",
    "inner.country = inner.country.astype('string') # convert country to the special pandas string type\n",
    "inner.info()"
   ]
  },
  {
   "attachments": {},
   "cell_type": "markdown",
   "metadata": {},
   "source": [
    "## Explore each data set"
   ]
  },
  {
   "attachments": {},
   "cell_type": "markdown",
   "metadata": {},
   "source": [
    "**Plot**: difference to mean among countries"
   ]
  },
  {
   "attachments": {},
   "cell_type": "markdown",
   "metadata": {},
   "source": [
    "**1**: Renewable energy consumption (% of total final energy consumption)"
   ]
  },
  {
   "cell_type": "code",
   "execution_count": 143,
   "metadata": {},
   "outputs": [
    {
     "data": {
      "text/plain": [
       "Text(0, 0.5, 'difference to mean')"
      ]
     },
     "execution_count": 143,
     "metadata": {},
     "output_type": "execute_result"
    },
    {
     "data": {
      "image/png": "[encoded data removed]",
      "text/plain": [
       "<Figure size 432x288 with 1 Axes>"
      ]
     },
     "metadata": {
      "needs_background": "light"
     },
     "output_type": "display_data"
    }
   ],
   "source": [
    "# plot\n",
    "countries = ['Denmark','Germany','Lithuania','Italy']\n",
    "\n",
    "fig = plt.figure()\n",
    "ax = fig.add_subplot(1,1,1)\n",
    "\n",
    "for m in countries:\n",
    "    rec_.xs(m).plot(x='year',y='rec_demean',ax=ax,label=m)\n",
    "\n",
    "ax.legend(frameon=True)\n",
    "ax.set_ylabel('difference to mean')"
   ]
  },
  {
   "attachments": {},
   "cell_type": "markdown",
   "metadata": {},
   "source": [
    "This plot can provide insights into the relative performance of each country in terms of renewable energy consumption compared to the mean. Positive values suggest that a country's renewable energy consumption is higher than the average, while negative values suggest that a country's consumption is lower than the average. This plot can help identify trends and patterns in renewable energy consumption across the four countries over the time period studied. Overall, the main trend among countries is increasing the ratio of the renewable energy in consumption through decades."
   ]
  },
  {
   "attachments": {},
   "cell_type": "markdown",
   "metadata": {},
   "source": [
    "**2**: GDP per capita growth (% annual)"
   ]
  },
  {
   "cell_type": "code",
   "execution_count": 144,
   "metadata": {},
   "outputs": [
    {
     "data": {
      "text/plain": [
       "Text(0, 0.5, 'difference to mean')"
      ]
     },
     "execution_count": 144,
     "metadata": {},
     "output_type": "execute_result"
    },
    {
     "data": {
      "image/png": "[encoded data removed]",
      "text/plain": [
       "<Figure size 432x288 with 1 Axes>"
      ]
     },
     "metadata": {
      "needs_background": "light"
     },
     "output_type": "display_data"
    }
   ],
   "source": [
    "# plot\n",
    "countries = ['Denmark','Germany','Lithuania','Italy']\n",
    "\n",
    "fig = plt.figure()\n",
    "ax = fig.add_subplot(1,1,1)\n",
    "\n",
    "for m in countries:\n",
    "    gdp_.xs(m).plot(x='year',y='gdp_demean',ax=ax,label=m)\n",
    "\n",
    "ax.legend(frameon=True)\n",
    "ax.set_ylabel('difference to mean')"
   ]
  },
  {
   "attachments": {},
   "cell_type": "markdown",
   "metadata": {},
   "source": [
    "The result of this analysis provides information on the relative performance of each country in terms of GDP per capita growth rate compared to the mean. Positive values in the 'gdp_demean' column suggest that a country's GDP per capita growth rate is higher than the average, while negative values suggest that a country's growth rate is lower than the average. This analysis can help identify trends and patterns in GDP per capita growth rates across the four countries over the time period studied. Overall, the main trend among countries is the stagnation of the GDP per capita growth through decades."
   ]
  },
  {
   "cell_type": "markdown",
   "metadata": {},
   "source": [
    "**Interactive plot** :"
   ]
  },
  {
   "cell_type": "code",
   "execution_count": 142,
   "metadata": {},
   "outputs": [
    {
     "data": {
      "application/vnd.jupyter.widget-view+json": {
       "model_id": "38b82ddc001747dfbdec4a95e07bb56c",
       "version_major": 2,
       "version_minor": 0
      },
      "text/plain": [
       "interactive(children=(Dropdown(description='country', options=('Germany', 'Denmark', 'Italy', 'Lithuania'), va…"
      ]
     },
     "metadata": {},
     "output_type": "display_data"
    }
   ],
   "source": [
    "# Function that operates on data set\n",
    "import ipywidgets as widgets\n",
    "def plot_e(df, country): \n",
    "    I = df['country'] == country\n",
    "    ax=df.loc[I,:].plot(x='year', y='rec_demean', style='-o', legend=False)\n",
    "    ax=df.loc[I,:].plot(x='year', y='gdp_demean', style='-o', legend=False)\n",
    "\n",
    "# Let the widget interact with data through plot_func()    \n",
    "widgets.interact(plot_e, \n",
    "df = widgets.fixed(inner),\n",
    "country = widgets.Dropdown(description='country', \n",
    "                                options=inner.country.unique(), \n",
    "                                value='Germany')\n",
    "); \n"
   ]
  },
  {
   "cell_type": "markdown",
   "metadata": {},
   "source": [
    "Explain what you see when moving elements of the interactive plot around. "
   ]
  },
  {
   "cell_type": "markdown",
   "metadata": {},
   "source": [
    "# Analysis"
   ]
  },
  {
   "cell_type": "markdown",
   "metadata": {},
   "source": [
    "To get a quick overview of the data, we show some **summary statistics** on a meaningful aggregation. "
   ]
  },
  {
   "cell_type": "markdown",
   "metadata": {},
   "source": [
    "MAKE FURTHER ANALYSIS. EXPLAIN THE CODE BRIEFLY AND SUMMARIZE THE RESULTS."
   ]
  },
  {
   "cell_type": "markdown",
   "metadata": {},
   "source": [
    "# Conclusion"
   ]
  },
  {
   "cell_type": "markdown",
   "metadata": {},
   "source": [
    "ADD CONCISE CONLUSION."
   ]
  }
 ],
 "metadata": {
  "kernelspec": {
   "display_name": "base",
   "language": "python",
   "name": "python3"
  },
  "language_info": {
   "codemirror_mode": {
    "name": "ipython",
    "version": 3
   },
   "file_extension": ".py",
   "mimetype": "text/x-python",
   "name": "python",
   "nbconvert_exporter": "python",
   "pygments_lexer": "ipython3",
   "version": "3.8.8"
  },
  "toc-autonumbering": true,
  "vscode": {
   "interpreter": {
    "hash": "47ef90cdf3004d3f859f1fb202523c65c07ba7c22eefd261b181f4744e2d0403"
   }
  }
 },
 "nbformat": 4,
 "nbformat_minor": 4
}
