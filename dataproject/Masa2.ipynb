{
 "cells": [
  {
   "cell_type": "code",
   "execution_count": null,
   "metadata": {},
   "outputs": [],
   "source": [
    "inner_rec = pd.merge( wb_rec, rec_, how='inner', on=['rec','year']) \n",
    "\n",
    "inner_gdp = pd.merge( wb_gdp, gdp_, how='inner', on=['gdp','year'])\n",
    "\n",
    "inner = pd.merge(inner_rec, inner_gdp, how='inner', on=['country','year']) \n",
    "inner.head()\n",
    "\n",
    "Now, I merged two data, inner_rec and inner_gdp, and "
   ]
  },
  {
   "cell_type": "code",
   "execution_count": null,
   "metadata": {},
   "outputs": [],
   "source": [
    "import numpy as np\n",
    "import pandas as pd\n",
    "import datetime\n",
    "\n",
    "import pandas_datareader # install with `pip install pandas-datareader`\n",
    "import pydst # install with `pip install git+https://github.com/elben10/pydst`\n",
    "\n",
    "import matplotlib.pyplot as plt\n",
    "plt.rcParams.update({\"axes.grid\":True,\"grid.color\":\"black\",\"grid.alpha\":\"0.25\",\"grid.linestyle\":\"--\"})\n",
    "plt.rcParams.update({'font.size': 14})\n",
    "from pandas_datareader import wb"
   ]
  },
  {
   "cell_type": "code",
   "execution_count": null,
   "metadata": {},
   "outputs": [],
   "source": [
    "\n",
    "wb_rec = wb.download(indicator='EG.FEC.RNEW.ZS', country=['DE','DK','LT','IT'], start=2000, end=2019)\n",
    "\n",
    "wb_rec = wb_rec.rename(columns = {'EG.FEC.RNEW.ZS':'Renewable_energy_consumption'})\n",
    "wb_rec = wb_rec.reset_index()\n",
    "wb_rec.sample(5)\n",
    "\n",
    "wb_rec.groupby(['country'])['rec'].mean().head()\n",
    "\n",
    "# split\n",
    "rec_grouped = wb_rec.groupby('country')['rec'] \n",
    "print(rec_grouped)\n",
    "\n",
    "# apply\n",
    "rec_mean = rec_grouped.mean() # mean renewable energy consumption rate\n",
    "rec_mean.head()\n",
    "\n",
    "rec_mean.name = 'rec_mean' # necessary for join\n",
    "\n",
    "# combine\n",
    "rec_ = wb_rec.set_index('country').join(rec_mean, how='left')\n",
    "rec_['rec_demean'] = rec_.rec - rec_.rec_mean\n",
    "\n",
    "# plot\n",
    "countries = ['Denmark','Germany','Lithuania','Italy']\n",
    "\n",
    "fig = plt.figure()\n",
    "ax = fig.add_subplot(1,1,1)\n",
    "\n",
    "# Here we use the fact that the index has multiple levels (years) for an elegant loop\n",
    "for m in countries:\n",
    "    rec_.xs(m).plot(x='year',y='rec_demean',ax=ax,label=m)\n",
    "\n",
    "ax.legend(frameon=True)\n",
    "ax.set_ylabel('difference to mean')"
   ]
  },
  {
   "attachments": {},
   "cell_type": "markdown",
   "metadata": {},
   "source": [
    "import matplotlib.pyplot as plt\n",
    "\n",
    "# Grouping by 'country'\n",
    "grouped = inner.groupby('country')\n",
    "\n",
    "# Looping through each country and plotting the data\n",
    "for country, data in grouped:\n",
    "    # Creating a figure and axis for each country\n",
    "    fig, ax = plt.subplots()\n",
    "    ax.plot(data['year'], data['Renewable_energy_consumption'], label='Renewable_energy_consumption')\n",
    "    ax.plot(data['year'], data['GDP_per_capita_growth'], label='GDP_per_capita_growth')\n",
    "    \n",
    "\n",
    "    # Adding labels and title\n",
    "    ax.set_xlabel('Year')\n",
    "    ax.set_ylabel('Percentage')\n",
    "    ax.set_title(f'{country} - Renewable energy consumption and GDP growth')\n",
    "\n",
    "    # Adding legend\n",
    "    ax.legend(loc='center left', bbox_to_anchor=(1.0, 0.5))\n",
    "\n",
    "    # Adding grid lines\n",
    "    ax.grid(True)\n",
    "\n",
    "    # Displaying the plot\n",
    "    plt.show()\n"
   ]
  }
 ],
 "metadata": {
  "language_info": {
   "name": "python"
  },
  "orig_nbformat": 4
 },
 "nbformat": 4,
 "nbformat_minor": 2
}
