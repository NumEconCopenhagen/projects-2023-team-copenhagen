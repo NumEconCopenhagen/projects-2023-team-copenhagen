{
 "cells": [
  {
   "cell_type": "code",
   "execution_count": 2,
   "metadata": {},
   "outputs": [],
   "source": [
    "import numpy as np\n",
    "import pandas as pd\n",
    "import datetime\n",
    "\n",
    "import pandas_datareader # install with `pip install pandas-datareader`\n",
    "import pydst # install with `pip install git+https://github.com/elben10/pydst`\n",
    "\n",
    "import matplotlib.pyplot as plt\n",
    "plt.rcParams.update({\"axes.grid\":True,\"grid.color\":\"black\",\"grid.alpha\":\"0.25\",\"grid.linestyle\":\"--\"})\n",
    "plt.rcParams.update({'font.size': 14})"
   ]
  },
  {
   "attachments": {},
   "cell_type": "markdown",
   "metadata": {},
   "source": [
    "## 1. Read and clean data"
   ]
  },
  {
   "attachments": {},
   "cell_type": "markdown",
   "metadata": {},
   "source": [
    "### 1-1. Import **Renewable energy consumption** data manually, and load it. "
   ]
  },
  {
   "attachments": {},
   "cell_type": "markdown",
   "metadata": {},
   "source": [
    "Apply the method we saw in the video to **import data** from the **WB**"
   ]
  },
  {
   "cell_type": "code",
   "execution_count": 56,
   "metadata": {},
   "outputs": [],
   "source": [
    "from pandas_datareader import wb"
   ]
  },
  {
   "attachments": {},
   "cell_type": "markdown",
   "metadata": {},
   "source": [
    "**Cleanning the Data**"
   ]
  },
  {
   "cell_type": "code",
   "execution_count": 58,
   "metadata": {},
   "outputs": [
    {
     "data": {
      "text/html": [
       "<div>\n",
       "<style scoped>\n",
       "    .dataframe tbody tr th:only-of-type {\n",
       "        vertical-align: middle;\n",
       "    }\n",
       "\n",
       "    .dataframe tbody tr th {\n",
       "        vertical-align: top;\n",
       "    }\n",
       "\n",
       "    .dataframe thead th {\n",
       "        text-align: right;\n",
       "    }\n",
       "</style>\n",
       "<table border=\"1\" class=\"dataframe\">\n",
       "  <thead>\n",
       "    <tr style=\"text-align: right;\">\n",
       "      <th></th>\n",
       "      <th>country</th>\n",
       "      <th>year</th>\n",
       "      <th>rec</th>\n",
       "    </tr>\n",
       "  </thead>\n",
       "  <tbody>\n",
       "    <tr>\n",
       "      <th>38</th>\n",
       "      <td>Denmark</td>\n",
       "      <td>2001</td>\n",
       "      <td>11.12</td>\n",
       "    </tr>\n",
       "    <tr>\n",
       "      <th>33</th>\n",
       "      <td>Denmark</td>\n",
       "      <td>2006</td>\n",
       "      <td>15.26</td>\n",
       "    </tr>\n",
       "    <tr>\n",
       "      <th>34</th>\n",
       "      <td>Denmark</td>\n",
       "      <td>2005</td>\n",
       "      <td>16.12</td>\n",
       "    </tr>\n",
       "    <tr>\n",
       "      <th>2</th>\n",
       "      <td>Germany</td>\n",
       "      <td>2017</td>\n",
       "      <td>15.22</td>\n",
       "    </tr>\n",
       "    <tr>\n",
       "      <th>65</th>\n",
       "      <td>Lithuania</td>\n",
       "      <td>2014</td>\n",
       "      <td>27.73</td>\n",
       "    </tr>\n",
       "  </tbody>\n",
       "</table>\n",
       "</div>"
      ],
      "text/plain": [
       "      country  year    rec\n",
       "38    Denmark  2001  11.12\n",
       "33    Denmark  2006  15.26\n",
       "34    Denmark  2005  16.12\n",
       "2     Germany  2017  15.22\n",
       "65  Lithuania  2014  27.73"
      ]
     },
     "execution_count": 58,
     "metadata": {},
     "output_type": "execute_result"
    }
   ],
   "source": [
    "# Renewable energy consumption(% of total final energy consumption)\n",
    "wb_rec = wb.download(indicator='EG.FEC.RNEW.ZS', country=['DE','DK','IT','LT'], start=2000, end=2019)\n",
    "\n",
    "wb_rec = wb_rec.rename(columns = {'EG.FEC.RNEW.ZS':'rec'})\n",
    "wb_rec = wb_rec.reset_index()\n",
    "wb_rec.sample(5)"
   ]
  },
  {
   "cell_type": "code",
   "execution_count": 59,
   "metadata": {},
   "outputs": [
    {
     "name": "stdout",
     "output_type": "stream",
     "text": [
      "<class 'pandas.core.frame.DataFrame'>\n",
      "RangeIndex: 80 entries, 0 to 79\n",
      "Data columns (total 3 columns):\n",
      " #   Column   Non-Null Count  Dtype  \n",
      "---  ------   --------------  -----  \n",
      " 0   country  80 non-null     string \n",
      " 1   year     80 non-null     int64  \n",
      " 2   rec      80 non-null     float64\n",
      "dtypes: float64(1), int64(1), string(1)\n",
      "memory usage: 2.0 KB\n"
     ]
    }
   ],
   "source": [
    "wb_rec.year = wb_rec.year.astype(int) # convert year\n",
    "wb_rec.country = wb_rec.country.astype('string') # convert country to the special pandas string type\n",
    "wb_rec.info()"
   ]
  },
  {
   "attachments": {},
   "cell_type": "markdown",
   "metadata": {},
   "source": [
    "Check if there are missing values"
   ]
  },
  {
   "cell_type": "code",
   "execution_count": 60,
   "metadata": {},
   "outputs": [
    {
     "data": {
      "text/plain": [
       "country    False\n",
       "year       False\n",
       "rec        False\n",
       "dtype: bool"
      ]
     },
     "execution_count": 60,
     "metadata": {},
     "output_type": "execute_result"
    }
   ],
   "source": [
    "wb_rec.isna().any() #no missing values, so we're not going to remove columns or rows"
   ]
  },
  {
   "attachments": {},
   "cell_type": "markdown",
   "metadata": {},
   "source": [
    "### 1-1. Import **GDP per capita growth** data manually, and load it. "
   ]
  },
  {
   "cell_type": "code",
   "execution_count": 61,
   "metadata": {},
   "outputs": [
    {
     "data": {
      "text/html": [
       "<div>\n",
       "<style scoped>\n",
       "    .dataframe tbody tr th:only-of-type {\n",
       "        vertical-align: middle;\n",
       "    }\n",
       "\n",
       "    .dataframe tbody tr th {\n",
       "        vertical-align: top;\n",
       "    }\n",
       "\n",
       "    .dataframe thead th {\n",
       "        text-align: right;\n",
       "    }\n",
       "</style>\n",
       "<table border=\"1\" class=\"dataframe\">\n",
       "  <thead>\n",
       "    <tr style=\"text-align: right;\">\n",
       "      <th></th>\n",
       "      <th>country</th>\n",
       "      <th>year</th>\n",
       "      <th>gdp</th>\n",
       "    </tr>\n",
       "  </thead>\n",
       "  <tbody>\n",
       "    <tr>\n",
       "      <th>70</th>\n",
       "      <td>Lithuania</td>\n",
       "      <td>2009</td>\n",
       "      <td>-13.887753</td>\n",
       "    </tr>\n",
       "    <tr>\n",
       "      <th>10</th>\n",
       "      <td>Germany</td>\n",
       "      <td>2009</td>\n",
       "      <td>-5.454577</td>\n",
       "    </tr>\n",
       "    <tr>\n",
       "      <th>51</th>\n",
       "      <td>Italy</td>\n",
       "      <td>2008</td>\n",
       "      <td>-1.615941</td>\n",
       "    </tr>\n",
       "    <tr>\n",
       "      <th>26</th>\n",
       "      <td>Denmark</td>\n",
       "      <td>2013</td>\n",
       "      <td>0.513424</td>\n",
       "    </tr>\n",
       "    <tr>\n",
       "      <th>33</th>\n",
       "      <td>Denmark</td>\n",
       "      <td>2006</td>\n",
       "      <td>3.572063</td>\n",
       "    </tr>\n",
       "  </tbody>\n",
       "</table>\n",
       "</div>"
      ],
      "text/plain": [
       "      country  year        gdp\n",
       "70  Lithuania  2009 -13.887753\n",
       "10    Germany  2009  -5.454577\n",
       "51      Italy  2008  -1.615941\n",
       "26    Denmark  2013   0.513424\n",
       "33    Denmark  2006   3.572063"
      ]
     },
     "execution_count": 61,
     "metadata": {},
     "output_type": "execute_result"
    }
   ],
   "source": [
    "# GDP per capita growth (% annual)\n",
    "wb_gdp = wb.download(indicator='NY.GDP.PCAP.KD.ZG', country=['DE','DK','LT','IT'], start=2000, end=2019)\n",
    "\n",
    "wb_gdp = wb_gdp.rename(columns = {'NY.GDP.PCAP.KD.ZG':'gdp'})\n",
    "wb_gdp = wb_gdp.reset_index()\n",
    "wb_gdp.sample(5)"
   ]
  },
  {
   "cell_type": "code",
   "execution_count": 62,
   "metadata": {},
   "outputs": [
    {
     "name": "stdout",
     "output_type": "stream",
     "text": [
      "<class 'pandas.core.frame.DataFrame'>\n",
      "RangeIndex: 80 entries, 0 to 79\n",
      "Data columns (total 3 columns):\n",
      " #   Column   Non-Null Count  Dtype  \n",
      "---  ------   --------------  -----  \n",
      " 0   country  80 non-null     string \n",
      " 1   year     80 non-null     int64  \n",
      " 2   gdp      80 non-null     float64\n",
      "dtypes: float64(1), int64(1), string(1)\n",
      "memory usage: 2.0 KB\n"
     ]
    }
   ],
   "source": [
    "wb_gdp.year = wb_gdp.year.astype(int) # convert year\n",
    "wb_gdp.country = wb_gdp.country.astype('string') # convert country to the special pandas string type\n",
    "wb_gdp.info()"
   ]
  },
  {
   "attachments": {},
   "cell_type": "markdown",
   "metadata": {},
   "source": [
    "Check for missing values in the Data Frame"
   ]
  },
  {
   "cell_type": "code",
   "execution_count": 63,
   "metadata": {},
   "outputs": [
    {
     "data": {
      "text/plain": [
       "country    False\n",
       "year       False\n",
       "gdp        False\n",
       "dtype: bool"
      ]
     },
     "execution_count": 63,
     "metadata": {},
     "output_type": "execute_result"
    }
   ],
   "source": [
    "wb_gdp.isna().any() #no missing values, so we're not going to remove columns or rows"
   ]
  },
  {
   "attachments": {},
   "cell_type": "markdown",
   "metadata": {},
   "source": [
    "## Performing some calculations "
   ]
  },
  {
   "attachments": {},
   "cell_type": "markdown",
   "metadata": {},
   "source": [
    "I will like to know which is the year that has the highest consumption in renewable energy:\n",
    "For that I'll do a **line graph** so I can see the case for each year"
   ]
  },
  {
   "attachments": {},
   "cell_type": "markdown",
   "metadata": {},
   "source": [
    "But first I'll do the calculations manually"
   ]
  },
  {
   "cell_type": "code",
   "execution_count": 84,
   "metadata": {},
   "outputs": [
    {
     "data": {
      "text/plain": [
       "country\n",
       "Denmark      37.52\n",
       "Germany      17.17\n",
       "Italy        17.27\n",
       "Lithuania    33.78\n",
       "Name: rec, dtype: float64"
      ]
     },
     "execution_count": 84,
     "metadata": {},
     "output_type": "execute_result"
    }
   ],
   "source": [
    "wb_rec.groupby('country')['rec'].max()"
   ]
  },
  {
   "cell_type": "code",
   "execution_count": 85,
   "metadata": {},
   "outputs": [],
   "source": [
    "wb_rec_ = wb_rec.copy()\n",
    "#here I'm combining the splitting and applying in one step with agg \n",
    "wb_rec_max = wb_rec_.groupby('country')['rec'].agg('max')\n",
    "\n",
    "wb_rec_max.name = 'wb_rec_max'\n",
    "\n",
    "wb_rec_ = wb_rec_.set_index('country').join(wb_rec_max,how='left')"
   ]
  },
  {
   "cell_type": "code",
   "execution_count": 86,
   "metadata": {},
   "outputs": [
    {
     "data": {
      "image/png": "[encoded data removed]",
      "text/plain": [
       "<Figure size 640x480 with 1 Axes>"
      ]
     },
     "metadata": {},
     "output_type": "display_data"
    }
   ],
   "source": [
    "countries = ['Germany','Italy','Denmark','Lithuania']\n",
    "fig = plt.figure()\n",
    "ax = fig.add_subplot(1,1,1)\n",
    "for i in countries:\n",
    "    wb_rec_.xs(i).plot(x='year',y='wb_rec_max',ax=ax,label=i)"
   ]
  },
  {
   "cell_type": "code",
   "execution_count": 88,
   "metadata": {},
   "outputs": [
    {
     "data": {
      "text/plain": [
       "country\n",
       "Denmark       3.572063\n",
       "Germany       5.869636\n",
       "Italy         3.739947\n",
       "Lithuania    12.435250\n",
       "Name: gdp, dtype: float64"
      ]
     },
     "execution_count": 88,
     "metadata": {},
     "output_type": "execute_result"
    }
   ],
   "source": [
    "wb_gdp.groupby('country')['gdp'].max()"
   ]
  },
  {
   "cell_type": "code",
   "execution_count": 89,
   "metadata": {},
   "outputs": [],
   "source": [
    "wb_gdp_ = wb_gdp.copy()\n",
    "#here I'm combining the splitting and applying in one step with agg \n",
    "wb_gdp_max = wb_gdp_.groupby('country')['gdp'].agg('max')\n",
    "\n",
    "wb_gdp_max.name = 'wb_gdp_max'\n",
    "\n",
    "wb_gdp_ = wb_gdp_.set_index('country').join(wb_gdp_max,how='left')"
   ]
  },
  {
   "cell_type": "code",
   "execution_count": 91,
   "metadata": {},
   "outputs": [
    {
     "data": {
      "image/png": "[encoded data removed]",
      "text/plain": [
       "<Figure size 640x480 with 1 Axes>"
      ]
     },
     "metadata": {},
     "output_type": "display_data"
    }
   ],
   "source": [
    "fig = plt.figure()\n",
    "ax = fig.add_subplot(1,1,1)\n",
    "for i in countries:\n",
    "    wb_gdp_.xs(i).plot(x='year',y='wb_gdp_max',ax=ax,label=i)"
   ]
  },
  {
   "attachments": {},
   "cell_type": "markdown",
   "metadata": {},
   "source": [
    "## Interactive graph for correlation between both Data Sets"
   ]
  },
  {
   "cell_type": "code",
   "execution_count": 100,
   "metadata": {},
   "outputs": [
    {
     "data": {
      "text/html": [
       "<div>\n",
       "<style scoped>\n",
       "    .dataframe tbody tr th:only-of-type {\n",
       "        vertical-align: middle;\n",
       "    }\n",
       "\n",
       "    .dataframe tbody tr th {\n",
       "        vertical-align: top;\n",
       "    }\n",
       "\n",
       "    .dataframe thead th {\n",
       "        text-align: right;\n",
       "    }\n",
       "</style>\n",
       "<table border=\"1\" class=\"dataframe\">\n",
       "  <thead>\n",
       "    <tr style=\"text-align: right;\">\n",
       "      <th></th>\n",
       "      <th>country</th>\n",
       "      <th>year</th>\n",
       "      <th>rec</th>\n",
       "      <th>wb_rec_max</th>\n",
       "      <th>gdp</th>\n",
       "      <th>wb_gdp_max</th>\n",
       "    </tr>\n",
       "  </thead>\n",
       "  <tbody>\n",
       "    <tr>\n",
       "      <th>0</th>\n",
       "      <td>Germany</td>\n",
       "      <td>2019</td>\n",
       "      <td>17.17</td>\n",
       "      <td>17.17</td>\n",
       "      <td>0.828958</td>\n",
       "      <td>5.869636</td>\n",
       "    </tr>\n",
       "    <tr>\n",
       "      <th>1</th>\n",
       "      <td>Germany</td>\n",
       "      <td>2018</td>\n",
       "      <td>16.12</td>\n",
       "      <td>17.17</td>\n",
       "      <td>0.678213</td>\n",
       "      <td>5.869636</td>\n",
       "    </tr>\n",
       "    <tr>\n",
       "      <th>2</th>\n",
       "      <td>Germany</td>\n",
       "      <td>2017</td>\n",
       "      <td>15.22</td>\n",
       "      <td>17.17</td>\n",
       "      <td>2.297206</td>\n",
       "      <td>5.869636</td>\n",
       "    </tr>\n",
       "    <tr>\n",
       "      <th>3</th>\n",
       "      <td>Germany</td>\n",
       "      <td>2016</td>\n",
       "      <td>14.24</td>\n",
       "      <td>17.17</td>\n",
       "      <td>1.408102</td>\n",
       "      <td>5.869636</td>\n",
       "    </tr>\n",
       "    <tr>\n",
       "      <th>4</th>\n",
       "      <td>Germany</td>\n",
       "      <td>2015</td>\n",
       "      <td>14.55</td>\n",
       "      <td>17.17</td>\n",
       "      <td>0.617105</td>\n",
       "      <td>5.869636</td>\n",
       "    </tr>\n",
       "  </tbody>\n",
       "</table>\n",
       "</div>"
      ],
      "text/plain": [
       "   country  year    rec  wb_rec_max       gdp  wb_gdp_max\n",
       "0  Germany  2019  17.17       17.17  0.828958    5.869636\n",
       "1  Germany  2018  16.12       17.17  0.678213    5.869636\n",
       "2  Germany  2017  15.22       17.17  2.297206    5.869636\n",
       "3  Germany  2016  14.24       17.17  1.408102    5.869636\n",
       "4  Germany  2015  14.55       17.17  0.617105    5.869636"
      ]
     },
     "execution_count": 100,
     "metadata": {},
     "output_type": "execute_result"
    }
   ],
   "source": [
    "inner_rec = pd.merge( wb_rec, wb_rec_, how='inner', on=['rec','year']) \n",
    "\n",
    "inner_gdp = pd.merge( wb_gdp, wb_gdp_, how='inner', on=['gdp','year'])\n",
    "\n",
    "inner = pd.merge(inner_rec, inner_gdp, how='inner', on=['country','year']) \n",
    "inner.head()"
   ]
  },
  {
   "cell_type": "code",
   "execution_count": 104,
   "metadata": {},
   "outputs": [
    {
     "data": {
      "application/vnd.jupyter.widget-view+json": {
       "model_id": "64f415b8c9624d268c84c36727e701b3",
       "version_major": 2,
       "version_minor": 0
      },
      "text/plain": [
       "interactive(children=(Dropdown(description='country', options=('Germany', 'Denmark', 'Italy', 'Lithuania'), va…"
      ]
     },
     "metadata": {},
     "output_type": "display_data"
    }
   ],
   "source": [
    "import ipywidgets as widgets\n",
    "def plot_e(df, country): \n",
    "    I = df['country'] == country\n",
    "    ax=df.loc[I,:].plot(x='year', y='wb_rec_max', style='o', legend=False)\n",
    "    ax=df.loc[I,:].plot(x='year', y='wb_gdp_max', style='o', legend=False)\n",
    "\n",
    "# Let the widget interact with data through plot_func()    \n",
    "widgets.interact(plot_e, \n",
    "df = widgets.fixed(inner),\n",
    "country = widgets.Dropdown(description='country', \n",
    "                                options=inner.country.unique(), \n",
    "                                value='Germany')\n",
    "); "
   ]
  }
 ],
 "metadata": {
  "kernelspec": {
   "display_name": "base",
   "language": "python",
   "name": "python3"
  },
  "language_info": {
   "codemirror_mode": {
    "name": "ipython",
    "version": 3
   },
   "file_extension": ".py",
   "mimetype": "text/x-python",
   "name": "python",
   "nbconvert_exporter": "python",
   "pygments_lexer": "ipython3",
   "version": "3.9.16"
  },
  "orig_nbformat": 4
 },
 "nbformat": 4,
 "nbformat_minor": 2
}
