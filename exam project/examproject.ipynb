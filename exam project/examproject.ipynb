{
 "cells": [
  {
   "attachments": {},
   "cell_type": "markdown",
   "metadata": {},
   "source": [
    "**Table of contents**<a id='toc0_'></a>    \n",
    "- 1. [Problem 1: Optimal taxation with government consumption](#toc1_)    \n",
    "- 2. [Problem 2: Labor adjustment costs](#toc2_)    \n",
    "- 3. [Problem 3: Global optimizer with refined multi-start](#toc3_)    \n",
    "\n",
    "<!-- vscode-jupyter-toc-config\n",
    "\tnumbering=true\n",
    "\tanchor=true\n",
    "\tflat=false\n",
    "\tminLevel=2\n",
    "\tmaxLevel=6\n",
    "\t/vscode-jupyter-toc-config -->\n",
    "<!-- THIS CELL WILL BE REPLACED ON TOC UPDATE. DO NOT WRITE YOUR TEXT IN THIS CELL -->"
   ]
  },
  {
   "cell_type": "code",
   "execution_count": 10,
   "metadata": {},
   "outputs": [],
   "source": [
    "import numpy as np\n",
    "import matplotlib.pyplot as plt\n",
    "from scipy import optimize\n",
    "from scipy.optimize import minimize"
   ]
  },
  {
   "attachments": {},
   "cell_type": "markdown",
   "metadata": {},
   "source": [
    "## 1. <a id='toc1_'></a>[Problem 1: Optimal taxation with government consumption](#toc0_)"
   ]
  },
  {
   "attachments": {},
   "cell_type": "markdown",
   "metadata": {},
   "source": [
    "\n",
    "Consider a worker choosing hours of labor, $L\\in[0,24]$, to maximize utility: \n",
    "\n",
    "$$\n",
    "\\begin{align*}\n",
    "V(w,\\tau,G)&=\\max_{L\\in[0,24]}\\ln\\left(C^{\\alpha}G^{1-\\alpha}\\right)-\\nu\\frac{L^{2}}{2}\\\\&\\text{s.t.}\\\\&C=\\kappa+(1-\\tau)wL\n",
    "\\end{align*}\n",
    "$$\n",
    "\n",
    "where \n",
    "\n",
    "* $C$ is *private* consumption with weight $\\alpha\\in(0,1)$.\n",
    "* $\\kappa > 0$ is the *free private* consumption component.\n",
    "* $C = (1-\\tau)wL$ is the *costly private* consumption component.\n",
    "* $w > 0 $ is the real wage.\n",
    "* $\\tau \\in (0,1)$ is the labor-income tax rate.\n",
    "* $G > 0 $ is *government* consumption with weight $1-\\alpha$.\n",
    "* $\\nu > 0$ is the disutility of labor scaling factor"
   ]
  },
  {
   "attachments": {},
   "cell_type": "markdown",
   "metadata": {},
   "source": [
    "\n",
    "The baseline parameters are:\n",
    "\n",
    "$$\n",
    "\\begin{align*}\n",
    "\\alpha &= 0.5\\\\\n",
    "\\kappa &= 1.0\\\\\n",
    "\\nu &= \\frac{1}{2\\cdot16^2} \\\\\n",
    "w &= 1.0 \\\\ \n",
    "\\tau &= 0.30 \\\\\n",
    "\\end{align*}\n",
    "$$"
   ]
  },
  {
   "attachments": {},
   "cell_type": "markdown",
   "metadata": {},
   "source": [
    "**Question 1:** Verify that the optimal labor supply choice is $L^{\\star}(\\tilde{w}) =\\frac{-\\kappa+\\sqrt{\\kappa^{2}+4\\frac{\\alpha}{\\nu}\\tilde{w}^2}}{2\\tilde{w}}$, where $\\tilde{w} = (1-\\tau)w$, for $G\\in\\left\\{1.0 , 2.0\\right\\}$."
   ]
  },
  {
   "attachments": {},
   "cell_type": "markdown",
   "metadata": {},
   "source": [
    "**Question 2:** Illustrate how $L^{\\star}(\\tilde{w})$ depends on $w$."
   ]
  },
  {
   "attachments": {},
   "cell_type": "markdown",
   "metadata": {},
   "source": [
    "\n",
    "We now consider a government, who chooses $\\tau$ and spend all of the taxes on government consumption so:\n",
    "\n",
    "$$\n",
    "G = \\tau w L^{\\star}((1-\\tau)w)\n",
    "$$\n",
    "\n",
    "**Question 3:** Plot the implied $L$, $G$ and worker utility for a grid of $\\tau$-values.\n"
   ]
  },
  {
   "attachments": {},
   "cell_type": "markdown",
   "metadata": {},
   "source": [
    "**Question 4:** Find the socially optimal tax rate $\\tau^{\\star}\\in(0,1)$ maximizing worker utility. Illustrate your result."
   ]
  },
  {
   "attachments": {},
   "cell_type": "markdown",
   "metadata": {},
   "source": [
    "A more general preference formulation for the worker is:\n",
    "\n",
    "$$\n",
    "\\begin{align*}\n",
    "\\mathcal{V}(w,\\tau,G)&=\\max_{L\\in[0,24]}\\frac{\\left[ \\left( \\alpha C^{\\frac{\\sigma-1}{\\sigma}}+(1-\\alpha) G^{\\frac{\\sigma-1}{\\sigma}} \\right)^{\\frac{\\sigma}{1-\\sigma} }\\right]^{1-\\rho}-1}{1-\\rho}- \\nu\\frac{L^{1+\\varepsilon}}{1+\\varepsilon},\\,\\,\\,\\varepsilon,\\rho,\\sigma>0,\\,\\,\\,\\rho,\\sigma\\neq1\\\\&\\text{s.t.}\\\\&C=\\kappa+(1-\\tau)wL\n",
    "\\end{align*}    \n",
    "$$\n",
    "\n",
    "Optimal labor supply is now $L^{\\star}(\\tilde{w},G)$."
   ]
  },
  {
   "attachments": {},
   "cell_type": "markdown",
   "metadata": {},
   "source": [
    "Questions 5 and 6 must be answered with the general formulation, and for 2 different set of parameters:\n",
    "\n",
    "- Set 1:  $\\sigma = 1.001$, $\\rho = 1.001$ and $\\varepsilon = 1.0$.\n",
    "- Set 2:  $\\sigma = 1.5$, $\\rho = 1.5$ and $\\varepsilon = 1.0 $."
   ]
  },
  {
   "attachments": {},
   "cell_type": "markdown",
   "metadata": {},
   "source": [
    "**Question 5:** Find the $G$ that solves $G = \\tau w L^{\\star}((1-\\tau)w,G)$ using the $\\tau$ found in question 4.\n",
    "\n",
    "*Hint: First write code that solves the worker problem for given values of $G$ and $\\tau$. Then find the correct G based on this.*"
   ]
  },
  {
   "attachments": {},
   "cell_type": "markdown",
   "metadata": {},
   "source": [
    "**Question 6:** Find the socially optimal tax rate, $\\tau^{\\star}$, maximizing worker utility, while keeping $G = \\tau w L^{\\star}((1-\\tau)w,G)$."
   ]
  },
  {
   "attachments": {},
   "cell_type": "markdown",
   "metadata": {},
   "source": [
    "## 2. <a id='toc2_'></a>[Problem 2: Labor adjustment costs](#toc0_)"
   ]
  },
  {
   "attachments": {},
   "cell_type": "markdown",
   "metadata": {},
   "source": [
    "You own a hair salon. You employ hairdressers, $\\ell_t$, to produce haircuts, $y_t = \\ell_t$.\n",
    "\n",
    "The wage for each haridresser is $w$.\n",
    "\n",
    "The demand for haircuts implies that the price of haircuts you can charge is $p_t = \\kappa_t y_t^{-\\eta}$, where $\\kappa_t$ is a demand-shock and $\\eta \\in (0,1)$ measures the elasticity of demand.\n",
    "\n",
    "Profits are:\n",
    "\n",
    "$$\n",
    "\\Pi_t = p_t y_t - w \\ell_t = \\kappa_t \\ell_t^{1-\\eta} - w \\ell_t\n",
    "$$"
   ]
  },
  {
   "attachments": {},
   "cell_type": "markdown",
   "metadata": {},
   "source": [
    "Baseline parameters are:\n",
    "- $\\eta = 0.5$\n",
    "- $w = 1.0$"
   ]
  },
  {
   "attachments": {},
   "cell_type": "markdown",
   "metadata": {},
   "source": [
    "**Question 1:** Verify numerically that $\\ell_{t}=\\left(\\frac{(1-\\eta)\\kappa_{t}}{w}\\right)^{\\frac{1}{\\eta}}$ maximises profits, for $\\kappa\\in\\left\\{1.0 , 2.0\\right\\}$."
   ]
  },
  {
   "cell_type": "code",
   "execution_count": 4,
   "metadata": {},
   "outputs": [
    {
     "name": "stdout",
     "output_type": "stream",
     "text": [
      "For kappa = 1.0, the maximum profit is: 0.25\n",
      "For kappa = 2.0, the maximum profit is: 1.0\n"
     ]
    },
    {
     "data": {
      "image/png": "[encoded data removed]",
      "text/plain": [
       "<Figure size 432x288 with 1 Axes>"
      ]
     },
     "metadata": {
      "needs_background": "light"
     },
     "output_type": "display_data"
    }
   ],
   "source": [
    "eta=0.5\n",
    "w=1.0\n",
    "kappa_values = [1.0, 2.0]\n",
    "\n",
    "for kappa in kappa_values:\n",
    "    profit = problem.calculate_profit_a(kappa,eta=0.5,w=1)\n",
    "    print(f\"For kappa = {kappa}, the maximum profit is: {profit}\")\n",
    "\n",
    "kappa_values = np.linspace(0.1, 3.0, 100)  # Generate 100 values between 0.1 and 3.0\n",
    "\n",
    "profits = [problem.calculate_profit_a(kappa,eta=0.5,w=1) for kappa in kappa_values]\n",
    "\n",
    "# Plotting\n",
    "plt.plot(kappa_values, profits)\n",
    "plt.xlabel('kappa')\n",
    "plt.ylabel('Profit')\n",
    "plt.title('Profit vs kappa')\n",
    "plt.grid(True)\n",
    "plt.show()"
   ]
  },
  {
   "attachments": {},
   "cell_type": "markdown",
   "metadata": {},
   "source": [
    "We now consider a *dynamic* version of the model.\n",
    "\n",
    "* The demand-shock is a so-called AR(1) in logs, \n",
    "\n",
    "$$\n",
    "\\log \\kappa_{t} = \\rho \\log \\kappa_{t-1} + \\epsilon_{t},\\,\\,\\, \\epsilon_{t+1} \\sim \\mathcal{N}(-0.5\\sigma_{\\epsilon}^2,\\sigma_{\\epsilon})\n",
    "$$\n",
    "\n",
    "* Any hiring or firing implies a fixed adjustment cost, $\\iota > 0 $.\n",
    "* Future profits are discounted with a monthly factor of $R \\in (0,1)$.\n",
    "\n",
    "The initial demand shock is $\\kappa_{-1} = 1$ and the planning horizon is 10 years, i.e. 120 months so $t \\in \\{0,1,2,\\dots,119\\}$. Initially you don't have any employees, $\\ell_{-1}=0$"
   ]
  },
  {
   "attachments": {},
   "cell_type": "markdown",
   "metadata": {},
   "source": [
    "\n",
    "The *ex post* value of the salon is *conditional* on the shock series is:\n",
    "\n",
    "$$\n",
    "h(\\epsilon_0,\\epsilon_1,\\dots,\\epsilon_{119}) = \\left[\\sum_{t=0}^{119}R^{-t}\\left[\\kappa_{t}\\ell_{t}^{1-\\eta}-w\\ell_{t}-\\boldsymbol{1}_{\\ell_{t}\\neq\\ell_{t-1}}\\iota\\right]\\right]\n",
    "$$\n",
    "\n",
    "The *ex ante* expected value of the salon can be approximated by\n",
    "\n",
    "$$\n",
    "H = \\mathbb{E}[h(\\epsilon_0,\\epsilon_1,\\dots,\\epsilon_{119})] \\approx \\frac{1}{K}\\sum_{k=0}^{K} h(\\epsilon_0^k,\\epsilon_1^k,\\dots,\\epsilon_{119}^k)\n",
    "$$\n",
    "\n",
    "where each $k\\in\\{0,1,\\dots,K-1\\}$ is a random shock series. Maximizing profitability means maximizing $H$.\n"
   ]
  },
  {
   "attachments": {},
   "cell_type": "markdown",
   "metadata": {},
   "source": [
    "Baseline parameters are: \n",
    "\n",
    "- $\\rho = 0.90$\n",
    "- $\\iota = 0.01$\n",
    "- $\\sigma_{\\epsilon} = 0.10$\n",
    "- $R = \\left(1+0.01\\right)^{1/12}$"
   ]
  },
  {
   "attachments": {},
   "cell_type": "markdown",
   "metadata": {},
   "source": [
    "**Question 2:** Calculate $H$ if the policy  $\\ell_{t}=\\left(\\frac{(1-\\eta)\\kappa_{t}}{w}\\right)^{\\frac{1}{\\eta}}$ from question 1 is followed. Choose $K$ so the approximation is good enough to not affect your results substantially."
   ]
  },
  {
   "cell_type": "code",
   "execution_count": 15,
   "metadata": {},
   "outputs": [
    {
     "name": "stdout",
     "output_type": "stream",
     "text": [
      "Ex Ante Value (H): 30.329554478923416\n"
     ]
    }
   ],
   "source": [
    "eta = 0.5\n",
    "w = 1.0\n",
    "rho = 0.90\n",
    "iota = 0.01\n",
    "sigma_epsilon = 0.10\n",
    "R = (1 + 0.01) ** (1 / 12)\n",
    "\n",
    "def calculate_profit_b(kappa, ell,t):\n",
    "    ell = (((1 - eta) * kappa) / w) ** (1 / eta)\n",
    "    adjustment_cost = iota \n",
    "    price = kappa * ell ** (-eta)\n",
    "    profit = price * ell - w * ell - adjustment_cost\n",
    "    return ell, profit\n",
    "\n",
    "def calculate_ex_post_value(shock_series):\n",
    "    ell_prev = 0.0\n",
    "    ex_post_value = 0.0\n",
    "\n",
    "    for t in range(1,T+1):\n",
    "        kappa = np.exp(shock_series[t-1])\n",
    "        ell, profit = calculate_profit_b(kappa, ell_prev, t-1)\n",
    "        ex_post_value += R ** (-(t-1)) * profit\n",
    "        ell_prev = ell\n",
    "\n",
    "    return ex_post_value\n",
    "\n",
    "T = 120  # Planning horizon\n",
    "K = 10000  # Number of random shock series\n",
    "\n",
    "ex_ante_values = []\n",
    "\n",
    "for k in range(K):\n",
    "    shock_series = np.random.uniform(-0.5 * sigma_epsilon ** 2, sigma_epsilon, T)\n",
    "    ex_post_value = calculate_ex_post_value(shock_series)\n",
    "    ex_ante_values.append(ex_post_value)\n",
    "\n",
    "ex_ante_value = np.mean(ex_ante_values)\n",
    "print(\"Ex Ante Value (H):\", ex_ante_value)\n"
   ]
  },
  {
   "attachments": {},
   "cell_type": "markdown",
   "metadata": {},
   "source": [
    "Next, we consider policies on the form:\n",
    "\n",
    "$$\n",
    "\n",
    "\\ell_{t}=\\begin{cases}\n",
    "\\ell_t^{\\ast}  & \\text{if }\\left|\\ell_{t-1}-\\ell_t^{\\ast} \\right|>\\Delta\\\\\n",
    "\\ell_{t-1} & \\text{else }\n",
    "\\end{cases}\n",
    "\\\\\n",
    "\\text{where}\\,\\,\\ell_t^{\\ast} = \\left(\\frac{(1-\\eta)\\kappa_{t}}{w}\\right)^{\\frac{1}{\\eta}} \\\\\n",
    "\n",
    "$$\n",
    "With $\\Delta \\geq 0$ and $\\Delta = 0$ being the previous policy.\n"
   ]
  },
  {
   "attachments": {},
   "cell_type": "markdown",
   "metadata": {},
   "source": [
    "\n",
    "**Question 3:** Calculate $H$ if the policy above was followed with $\\Delta = 0.05$. Does it improve profitability?"
   ]
  },
  {
   "cell_type": "code",
   "execution_count": 16,
   "metadata": {},
   "outputs": [
    {
     "name": "stdout",
     "output_type": "stream",
     "text": [
      "Ex Ante Value (H) with Delta = 0.05 : 31.446421433189148\n"
     ]
    }
   ],
   "source": [
    "Delta = 0.05\n",
    "\n",
    "def calculate_profit3(kappa, ell_prev, t, Delta):\n",
    "    ell_ast = (((1 - eta) * kappa) / w) ** (1 / eta)\n",
    "    adjustment_cost = iota * (abs(ell_prev - ell_ast) > Delta)\n",
    "    price = kappa * ell_ast ** (-eta)\n",
    "    profit = price * ell_ast - w * ell_ast - adjustment_cost\n",
    "    return ell_ast, profit\n",
    "\n",
    "def calculate_ex_post_value(shock_series):\n",
    "    ell_prev = 0.0\n",
    "    ex_post_value = 0.0\n",
    "\n",
    "    for t in range(T):\n",
    "        kappa = np.exp(shock_series[t])\n",
    "        ell, profit = calculate_profit3(kappa, ell_prev, t, Delta)\n",
    "        ex_post_value += R ** (-t) * profit\n",
    "        ell_prev = ell\n",
    "\n",
    "    return ex_post_value\n",
    "\n",
    "T = 120  # Planning horizon\n",
    "K = 1000  # Number of random shock series\n",
    "\n",
    "ex_ante_values = []\n",
    "\n",
    "for k in range(K):\n",
    "    shock_series = np.random.uniform(-0.5 * sigma_epsilon ** 2, sigma_epsilon, T)\n",
    "    ex_post_value = calculate_ex_post_value(shock_series)\n",
    "    ex_ante_values.append(ex_post_value)\n",
    "\n",
    "ex_ante_value = np.mean(ex_ante_values)\n",
    "print(\"Ex Ante Value (H) with Delta =\", Delta, \":\", ex_ante_value)"
   ]
  },
  {
   "attachments": {},
   "cell_type": "markdown",
   "metadata": {},
   "source": [
    "Answer: **Delta = 0.05 improved profitability**"
   ]
  },
  {
   "attachments": {},
   "cell_type": "markdown",
   "metadata": {},
   "source": [
    "**Question 4:** Find the optimal $\\Delta$ maximizing $H$. Illustrate your result."
   ]
  },
  {
   "cell_type": "code",
   "execution_count": 71,
   "metadata": {},
   "outputs": [],
   "source": [
    "eta = 0.5\n",
    "w = 1.0\n",
    "rho = 0.90\n",
    "iota = 0.01\n",
    "sigma_epsilon = 0.10\n",
    "R = (1 + 0.01) ** (1 / 12)\n"
   ]
  },
  {
   "cell_type": "code",
   "execution_count": 72,
   "metadata": {},
   "outputs": [],
   "source": [
    "\n",
    "def calculate_profit3(kappa, ell_prev, t, Delta):\n",
    "    ell_ast = (((1 - eta) * kappa) / w) ** (1 / eta)\n",
    "    adjustment_cost = iota * (abs(ell_prev - ell_ast) > Delta)\n",
    "    price = kappa * ell_ast ** (-eta)\n",
    "    profit = price * ell_ast - w * ell_ast - adjustment_cost\n",
    "    return ell_ast, profit\n",
    "\n",
    "def calculate_ex_post_value(shock_series, Delta):\n",
    "    ell_prev = 0.0\n",
    "    ex_post_value = 0.0\n",
    "\n",
    "    for t in range(T):\n",
    "        kappa = np.exp(shock_series[t])\n",
    "        ell, profit = calculate_profit3(kappa, ell_prev, t, Delta)\n",
    "        ex_post_value += R ** (-t) * profit\n",
    "        ell_prev = ell\n",
    "\n",
    "    return ex_post_value\n"
   ]
  },
  {
   "cell_type": "code",
   "execution_count": 73,
   "metadata": {},
   "outputs": [
    {
     "name": "stdout",
     "output_type": "stream",
     "text": [
      "Optimal Delta: 0.10101010101010101\n",
      "Maximum Ex Ante Value (H): 31.476186718435795\n"
     ]
    },
    {
     "data": {
      "image/png": "[encoded data removed]",
      "text/plain": [
       "<Figure size 432x288 with 1 Axes>"
      ]
     },
     "metadata": {
      "needs_background": "light"
     },
     "output_type": "display_data"
    }
   ],
   "source": [
    "T = 120  # Planning horizon\n",
    "K = 1000  # Number of random shock series\n",
    "delta_values = np.linspace(0, 0.2, 100)\n",
    "ex_ante_values = []\n",
    "\n",
    "for delta in delta_values:\n",
    "    ex_ante_sum = 0\n",
    "    for k in range(K):\n",
    "        shock_series = np.random.uniform(-0.5 * sigma_epsilon ** 2, sigma_epsilon, T)\n",
    "        ex_post_value = calculate_ex_post_value(shock_series, delta)\n",
    "        ex_ante_sum += ex_post_value\n",
    "    ex_ante_value = ex_ante_sum / K\n",
    "    ex_ante_values.append(ex_ante_value)\n",
    "\n",
    "optimal_delta = delta_values[np.argmax(ex_ante_values)]\n",
    "max_ex_ante_value = np.max(ex_ante_values)\n",
    "\n",
    "print(\"Optimal Delta:\", optimal_delta)\n",
    "print(\"Maximum Ex Ante Value (H):\", max_ex_ante_value)\n",
    "\n",
    "# Plotting the results\n",
    "plt.plot(delta_values, ex_ante_values)\n",
    "plt.xlabel(\"Delta\")\n",
    "plt.ylabel(\"Ex Ante Value (H)\")\n",
    "plt.title(\"Ex Ante Value (H) vs. Delta\")\n",
    "plt.show()"
   ]
  },
  {
   "attachments": {},
   "cell_type": "markdown",
   "metadata": {},
   "source": [
    "\n",
    "**Question 5:** Suggest an alternative policy you believe might improve profitability. Implement and test your policy.\n",
    "\n"
   ]
  },
  {
   "attachments": {},
   "cell_type": "markdown",
   "metadata": {},
   "source": [
    "One alternative policy that could potentially improve profitability is to adjust the hairdresser's wage (w) based on the previous period's profit. The idea is to increase the wage by 5% if the previous period's profit was positive and remain unchanged it if the profit was negative. By adjusting the wage dynamically based on profitability, the salon can adapt to changing market conditions and potentially improve its overall profitability.\n",
    "\n",
    "Here's the implementation of the alternative policy:"
   ]
  },
  {
   "cell_type": "code",
   "execution_count": 18,
   "metadata": {},
   "outputs": [],
   "source": [
    "eta = 0.5\n",
    "rho = 0.90\n",
    "iota = 0.01\n",
    "sigma_epsilon = 0.10\n",
    "R = (1 + 0.01) ** (1 / 12)"
   ]
  },
  {
   "cell_type": "code",
   "execution_count": 19,
   "metadata": {},
   "outputs": [],
   "source": [
    "\n",
    "# Function to calculate the hairdresser's wage based on previous period's profit\n",
    "def calculate_wage(prev_profit):\n",
    "    # Adjust the wage based on the previous period's profit\n",
    "    w = 1.0 + 0.05 * np.sign(prev_profit)\n",
    "    return w\n",
    "\n",
    "# Function to calculate the profit and update the hairdresser's wage\n",
    "def calculate_profit3(kappa, ell_prev, t, prev_profit):\n",
    "    w = calculate_wage(prev_profit)\n",
    "    ell_ast = (((1 - eta) * kappa) / w) ** (1 / eta)\n",
    "    adjustment_cost = iota * (abs(ell_prev - ell_ast) > 0)\n",
    "    price = kappa * ell_ast ** (-eta)\n",
    "    profit = price * ell_ast - w * ell_ast - adjustment_cost\n",
    "    return ell_ast, profit, w\n",
    "\n",
    "# Function to calculate the ex ante value (H) with the alternative policy\n",
    "def calculate_ex_ante_value(delta):\n",
    "    ell_prev = 0.0\n",
    "    ex_post_value = 0.0\n",
    "    ex_ante_value = 0.0\n",
    "    prev_profit = 0.0\n",
    "\n",
    "    for t in range(T):\n",
    "        kappa = np.exp(shock_series[t])\n",
    "        ell, profit, wage = calculate_profit3(kappa, ell_prev, t, prev_profit)\n",
    "        ex_post_value += R ** (-t) * profit\n",
    "        ex_ante_value += R ** (-t) * profit\n",
    "        ell_prev = ell\n",
    "        prev_profit = profit\n",
    "\n",
    "    return ex_ante_value\n"
   ]
  },
  {
   "cell_type": "code",
   "execution_count": 20,
   "metadata": {},
   "outputs": [
    {
     "name": "stdout",
     "output_type": "stream",
     "text": [
      "Ex Ante Value (H) with the alternative policy: 28.84959353547414\n"
     ]
    }
   ],
   "source": [
    "\n",
    "T = 120  # Planning horizon\n",
    "K = 1000  # Number of random shock series\n",
    "\n",
    "delta = 0.05  # Delta value for the alternative policy\n",
    "ex_ante_sum = 0.0\n",
    "\n",
    "for k in range(K):\n",
    "    shock_series = np.random.uniform(-0.5 * sigma_epsilon ** 2, sigma_epsilon, T)\n",
    "    ex_ante_value = calculate_ex_ante_value(delta)\n",
    "    ex_ante_sum += ex_ante_value\n",
    "\n",
    "ex_ante_value = ex_ante_sum / K\n",
    "\n",
    "print(\"Ex Ante Value (H) with the alternative policy:\", ex_ante_value)"
   ]
  },
  {
   "attachments": {},
   "cell_type": "markdown",
   "metadata": {},
   "source": [
    "The reason for the lower ex ante value under the alternative policy could be attributed to the fact that adjusting the wage based on profitability may introduce additional volatility or instability in the system. By increasing the wage when the profit is positive, the salon incurs higher labor costs, which may not be fully offset by the increased profitability. On the other hand, keeping the wage unchanged when the profit is negative does not allow for immediate cost reductions to mitigate the loss."
   ]
  },
  {
   "attachments": {},
   "cell_type": "markdown",
   "metadata": {},
   "source": [
    "## 3. <a id='toc3_'></a>[Problem 3: Global optimizer with refined multi-start](#toc0_)"
   ]
  },
  {
   "attachments": {},
   "cell_type": "markdown",
   "metadata": {},
   "source": [
    "We consider the Griewank function:\n",
    "\n",
    "$$ f(\\boldsymbol{x}) = \\sum^n_{i=1} \\frac{x^2_i}{4000}-\\prod^n_{i=1}\\cos\\left(\\frac{x_i}{\\sqrt{i}}\\right)+1$$\n",
    "\n",
    "The **global minimum** of this function is $f(0,0) = 0$ (remember: $\\cos(0)=1$).<br>\n",
    "But the function also have a lot of **local minima**."
   ]
  },
  {
   "cell_type": "code",
   "execution_count": 21,
   "metadata": {},
   "outputs": [],
   "source": [
    "def griewank(x):\n",
    "    return griewank_(x[0],x[1])\n",
    "    \n",
    "def griewank_(x1,x2):\n",
    "    A = x1**2/4000 + x2**2/4000\n",
    "    B = np.cos(x1/np.sqrt(1))*np.cos(x2/np.sqrt(2))\n",
    "    return A-B+1"
   ]
  },
  {
   "attachments": {},
   "cell_type": "markdown",
   "metadata": {},
   "source": [
    "A **refined global optimizer with multi-start** is:\n",
    "\n",
    "1. Choose *bounds* for $\\mathbf{x}$ and *tolerance* $\\tau > 0$.\n",
    "2. Choose number of *warm-up iterations*, $\\underline{K} > 0$ and *maximum number of iterations*, $K > \\underline{K}$.\n",
    "3. In each iteration for $k \\in \\{0,1,\\dots,K-1\\}$:\n",
    "\n",
    "    A. Draw random $\\mathbf{x}^k$ uniformly within chosen bounds.\n",
    "\n",
    "    B. If $k < \\underline{K}$ go to step E.\n",
    "\n",
    "    C. Calculate $\\chi^k = 0.50\\cdot\\frac{2}{1+\\exp((k-\\underline{K})/100)}$  \n",
    "\n",
    "    D. Set $\\mathbf{x}^{k0} = \\chi^k \\mathbf{x}^k + (1-\\chi^k)\\mathbf{x}^{\\ast} $\n",
    "\n",
    "    E. Run optimizer with $\\mathbf{x}^{k0}$ as initial guess and $\\mathbf{x}^{k\\ast}$ as result.\n",
    "\n",
    "    F. Set $\\mathbf{x}^{\\ast} = \\mathbf{x}^{k\\ast}$ if $k = 0$ or $f(\\mathbf{x}^{k\\ast}) < f(\\mathbf{x}^{\\ast})$\n",
    "\n",
    "    G. If $f(\\mathbf{x}^{\\ast}) < \\tau$ go to step 4.\n",
    "\n",
    "4. Return the result $\\mathbf{x}^{\\ast}$."
   ]
  },
  {
   "attachments": {},
   "cell_type": "markdown",
   "metadata": {},
   "source": [
    "As settings we choose:\n",
    "\n",
    "* $x_1,x_2 \\in  [-600,600]$\n",
    "* $\\tau = 10^{-8}$\n",
    "* $\\underline{K}=10$\n",
    "* $K=1000$\n",
    "\n",
    "The optimizer in Step 3.E is `BFGS` with a tolerance of $\\tau$."
   ]
  },
  {
   "attachments": {},
   "cell_type": "markdown",
   "metadata": {},
   "source": [
    "**Question 1:** Implement the refined global optimizer with multi-start. Illustrate how the effective initial guesses $\\mathbf{x}^{k0}$ vary with the iteration counter $k$."
   ]
  },
  {
   "cell_type": "code",
   "execution_count": 67,
   "metadata": {},
   "outputs": [],
   "source": [
    "def griewank(x):\n",
    "    if isinstance(x, float):\n",
    "        return griewank_([x])\n",
    "    return griewank_(x)\n",
    "\n",
    "def griewank_(x):\n",
    "    x1 = x[0]\n",
    "    x2 = 0 if len(x) < 2 else x[1]  # Handle the case when len(x) < 2\n",
    "    A = x1**2 / 4000 + x2**2 / 4000\n",
    "    B = np.cos(x1 / np.sqrt(1)) * np.cos(x2 / np.sqrt(2))\n",
    "    return A - B + 1\n",
    "\n",
    "def refined_global_optimizer(f, bounds, tau, K_under, K):\n",
    "    \"\"\"\n",
    "    Args:\n",
    "        f: The objective function to be optimized.\n",
    "        bounds: The bounds of the search space.\n",
    "        tau: The tolerance for the optimal solution.\n",
    "        K_under: The number of warm-up iterations.\n",
    "        K: The maximum number of iterations.\n",
    "    Returns:\n",
    "        The optimal solution.\n",
    "    \"\"\"\n",
    "    np.random.seed(100)\n",
    "    # Initialize the optimal solution.\n",
    "    a_star = None\n",
    "    # Initialize a list to store the effective initial guesses.\n",
    "    initial_guesses = []\n",
    "    # Initialize a_k0 outside of the if statement\n",
    "    a_k0 = None\n",
    "    # Iterate over the iterations.\n",
    "    for k in range(K):\n",
    "        # Draw a random point.\n",
    "        a_k = np.random.uniform(bounds[0], bounds[1])\n",
    "        # If this is the first iteration, or if the current point is better than the\n",
    "        # previous best point, set it as the new best point.\n",
    "        if k == 0 or f(a_k) < f(a_star):\n",
    "            a_star = a_k\n",
    "        # If this is not the first iteration, calculate the probability of moving\n",
    "        # towards the current best point.\n",
    "        if k > K_under:\n",
    "            P_k = 0.50 * (2 / (1 + np.exp((k - K_under) / 100)))\n",
    "            # If the probability is greater than 0, move towards the current best point.\n",
    "            if P_k > 0:\n",
    "                a_k0 = P_k * a_k + (1 - P_k) * a_star\n",
    "                initial_guesses.append(a_k0)\n",
    "        # Run the optimizer with the current point as the initial guess.\n",
    "        if a_k0 is not None:\n",
    "            a_k_star = optimizer(a_k0)  # step.E\n",
    "            # If the new point is better than the previous best point, set it as the new\n",
    "            # best point.\n",
    "            if f(a_k_star) < f(a_star):\n",
    "                a_star = a_k_star\n",
    "        # If the new point is within the tolerance, return it.\n",
    "        if f(a_star) < tau:\n",
    "            return a_star, initial_guesses\n",
    "    # Return the best point found.\n",
    "    return a_star, initial_guesses\n",
    "\n",
    "def optimizer(x0):\n",
    "    # Placeholder optimization algorithm, replace with your chosen optimizer\n",
    "    res = minimize(griewank, x0, method='BFGS', tol=tau)\n",
    "    return res.x\n"
   ]
  },
  {
   "cell_type": "code",
   "execution_count": null,
   "metadata": {},
   "outputs": [],
   "source": [
    "\n",
    "# Set the parameters\n",
    "bounds = [-600, 600]\n",
    "tau = 1e-8\n",
    "K_under = 10\n",
    "K = 1000\n",
    "\n",
    "# Run the refined global optimizer\n",
    "optimal_solution, initial_guesses = refined_global_optimizer(griewank, bounds, tau, K_under, K)\n",
    "\n",
    "# Print the optimal solution\n",
    "print(\"Optimal solution:\", optimal_solution)\n",
    "\n",
    "# Print the effective initial guesses for each iteration\n",
    "for k, guess in enumerate(initial_guesses):\n",
    "    print(\"Iteration\", k + K_under, \"- Initial guess:\", guess)\n"
   ]
  },
  {
   "cell_type": "code",
   "execution_count": 68,
   "metadata": {},
   "outputs": [
    {
     "data": {
      "image/png": "[encoded data removed]",
      "text/plain": [
       "<Figure size 432x288 with 1 Axes>"
      ]
     },
     "metadata": {
      "needs_background": "light"
     },
     "output_type": "display_data"
    }
   ],
   "source": [
    "# Define the iteration numbers\n",
    "iteration_numbers = range(K_under, K)\n",
    "\n",
    "padding = len(iteration_numbers) - len(initial_guesses)\n",
    "initial_guesses_padded = initial_guesses + [None] * padding\n",
    "\n",
    "# Plot the effective initial guesses against the iteration numbers\n",
    "plt.plot(iteration_numbers, initial_guesses_padded, '-o')\n",
    "plt.xlabel(\"Iteration\")\n",
    "plt.ylabel(\"Effective Initial Guess (a^{k0})\")\n",
    "plt.title(\"Effective Initial Guess Variation with Iteration\")\n",
    "plt.show()"
   ]
  },
  {
   "attachments": {},
   "cell_type": "markdown",
   "metadata": {},
   "source": [
    "**Question 2:** Is it a better idea to set $\\underline{K} = 100$? Is the convergence faster?"
   ]
  },
  {
   "cell_type": "code",
   "execution_count": 69,
   "metadata": {},
   "outputs": [
    {
     "name": "stdout",
     "output_type": "stream",
     "text": [
      "Optimal solution: [-1.16241682e-08]\n",
      "Iteration 100 - Initial guess: 170.1954028951041\n",
      "Iteration 101 - Initial guess: 68.82639034417377\n",
      "Iteration 102 - Initial guess: -109.57318595293034\n",
      "Iteration 103 - Initial guess: 119.59246819106403\n",
      "Iteration 104 - Initial guess: 213.71813878483152\n",
      "Iteration 105 - Initial guess: 76.29569771496577\n",
      "Iteration 106 - Initial guess: 282.6911392172417\n",
      "Iteration 107 - Initial guess: 277.8593110766944\n",
      "Iteration 108 - Initial guess: -187.5849249322491\n",
      "Iteration 109 - Initial guess: -268.37870582494685\n",
      "Iteration 110 - Initial guess: -188.93120163192953\n",
      "Iteration 111 - Initial guess: 242.32463315040678\n",
      "Iteration 112 - Initial guess: 257.9367206991238\n",
      "Iteration 113 - Initial guess: -157.80722449287163\n",
      "Iteration 114 - Initial guess: -73.91741269460493\n",
      "Iteration 115 - Initial guess: 30.779199181014608\n",
      "Iteration 116 - Initial guess: -121.75761242216686\n",
      "Iteration 117 - Initial guess: -17.9658749893749\n",
      "Iteration 118 - Initial guess: 110.11676678279194\n",
      "Iteration 119 - Initial guess: 3.775916701513458\n",
      "Iteration 120 - Initial guess: [119.54844681]\n",
      "Iteration 121 - Initial guess: [17.35138485]\n",
      "Iteration 122 - Initial guess: [-261.4084409]\n",
      "Iteration 123 - Initial guess: [-52.11940475]\n",
      "Iteration 124 - Initial guess: [-0.5848877]\n"
     ]
    }
   ],
   "source": [
    "# Set the parameters\n",
    "bounds = [-600, 600]\n",
    "tau = 1e-8\n",
    "K_under = 100\n",
    "K = 1000\n",
    "\n",
    "# Run the refined global optimizer\n",
    "optimal_solution, initial_guesses = refined_global_optimizer(griewank, bounds, tau, K_under, K)\n",
    "\n",
    "# Print the optimal solution\n",
    "print(\"Optimal solution:\", optimal_solution)\n",
    "\n",
    "# Print the effective initial guesses for each iteration\n",
    "for k, guess in enumerate(initial_guesses):\n",
    "    print(\"Iteration\", k + K_under, \"- Initial guess:\", guess)\n"
   ]
  },
  {
   "cell_type": "code",
   "execution_count": 70,
   "metadata": {},
   "outputs": [
    {
     "name": "stderr",
     "output_type": "stream",
     "text": [
      "c:\\Users\\masat\\anaconda3\\lib\\site-packages\\numpy\\core\\_asarray.py:171: VisibleDeprecationWarning: Creating an ndarray from ragged nested sequences (which is a list-or-tuple of lists-or-tuples-or ndarrays with different lengths or shapes) is deprecated. If you meant to do this, you must specify 'dtype=object' when creating the ndarray.\n",
      "  return array(a, dtype, copy=False, order=order, subok=True)\n"
     ]
    },
    {
     "data": {
      "image/png": "[encoded data removed]",
      "text/plain": [
       "<Figure size 432x288 with 1 Axes>"
      ]
     },
     "metadata": {
      "needs_background": "light"
     },
     "output_type": "display_data"
    }
   ],
   "source": [
    "# Define the iteration numbers\n",
    "iteration_numbers = range(K_under, K)\n",
    "\n",
    "padding = len(iteration_numbers) - len(initial_guesses)\n",
    "initial_guesses_padded = initial_guesses + [None] * padding\n",
    "\n",
    "# Plot the effective initial guesses against the iteration numbers\n",
    "plt.plot(iteration_numbers, initial_guesses_padded, '-o')\n",
    "plt.xlabel(\"Iteration\")\n",
    "plt.ylabel(\"Effective Initial Guess (a^{k0})\")\n",
    "plt.title(\"Effective Initial Guess Variation with Iteration\")\n",
    "plt.show()"
   ]
  },
  {
   "attachments": {},
   "cell_type": "markdown",
   "metadata": {},
   "source": [
    "In general, increasing the value of K_under can potentially lead to faster convergence, as it allows for a longer warm-up period where the algorithm explores the search space more extensively before focusing on the current best point."
   ]
  },
  {
   "attachments": {},
   "cell_type": "markdown",
   "metadata": {},
   "source": [
    "However, setting a larger K_under value may also result in slower convergence in some cases. Actually, in this case, K_under=100 changes the convergence slow."
   ]
  }
 ],
 "metadata": {
  "kernelspec": {
   "display_name": "base",
   "language": "python",
   "name": "python3"
  },
  "language_info": {
   "codemirror_mode": {
    "name": "ipython",
    "version": 3
   },
   "file_extension": ".py",
   "mimetype": "text/x-python",
   "name": "python",
   "nbconvert_exporter": "python",
   "pygments_lexer": "ipython3",
   "version": "3.8.8"
  },
  "orig_nbformat": 4
 },
 "nbformat": 4,
 "nbformat_minor": 2
}
